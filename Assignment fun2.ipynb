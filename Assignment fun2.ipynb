{
 "cells": [
  {
   "cell_type": "markdown",
   "id": "493173eb",
   "metadata": {},
   "source": [
    "# Assignment :- function 2"
   ]
  },
  {
   "cell_type": "code",
   "execution_count": null,
   "id": "28ce6857",
   "metadata": {},
   "outputs": [],
   "source": [
    "Q1. Create a python program to sort the given list of tuples based on integer value using a\n",
    "lambda function.\n",
    "[('Sachin Tendulkar', 34357), ('Ricky Ponting', 27483), ('Jack Kallis', 25534), ('Virat Kohli', 24936)]\n",
    "Q2. Write a Python Program to find the squares of all the numbers in the given list of integers using\n",
    "lambda and map functions.\n",
    "[1, 2, 3, 4, 5, 6, 7, 8, 9, 10]\n",
    "Q3. Write a python program to convert the given list of integers into a tuple of strings. Use map and\n",
    "lambda functions\n",
    "Given String: [1, 2, 3, 4, 5, 6, 7, 8, 9, 10]\n",
    "Expected output: ('1', '2', '3', '4', '5', '6', '7', '8', '9', '10')\n",
    "Q4. Write a python program using reduce function to compute the product of a list containing numbers\n",
    "from 1 to 25.\n",
    "Q5. Write a python program to filter the numbers in a given list that are divisible by 2 and 3 using the\n",
    "filter function.\n",
    "[2, 3, 6, 9, 27, 60, 90, 120, 55, 46]\n",
    "Q6. Write a python program to find palindromes in the given list of strings using lambda and filter\n",
    "function.\n",
    "['python', 'php', 'aba', 'radar', 'level']"
   ]
  },
  {
   "cell_type": "raw",
   "id": "276da0f2",
   "metadata": {},
   "source": []
  },
  {
   "cell_type": "raw",
   "id": "a7e0072d",
   "metadata": {},
   "source": [
    "Q1. Create a python program to sort the given list of tuples based on integer value using a\n",
    "lambda function.\n",
    "[('Sachin Tendulkar', 34357), ('Ricky Ponting', 27483), ('Jack Kallis', 25534), ('Virat Kohli', 24936)]"
   ]
  },
  {
   "cell_type": "code",
   "execution_count": 1,
   "id": "82a68698",
   "metadata": {},
   "outputs": [
    {
     "name": "stdout",
     "output_type": "stream",
     "text": [
      "('Virat Kohli', 24936)\n",
      "('Jack Kallis', 25534)\n",
      "('Ricky Ponting', 27483)\n",
      "('Sachin Tendulkar', 34357)\n"
     ]
    }
   ],
   "source": [
    "\n",
    "list = [('Sachin Tendulkar', 34357), ('Ricky Ponting', 27483), ('Jack Kallis', 25534), ('Virat Kohli', 24936)]\n",
    "\n",
    "sorted_data = sorted(list, key=lambda x: x[1])\n",
    "\n",
    "for item in sorted_data:\n",
    "    print(item)"
   ]
  },
  {
   "cell_type": "raw",
   "id": "4962c8f1",
   "metadata": {},
   "source": [
    "Q2. Write a Python Program to find the squares of all the numbers in the given list of integers using\n",
    "lambda and map functions.\n",
    "[1, 2, 3, 4, 5, 6, 7, 8, 9, 10]"
   ]
  },
  {
   "cell_type": "code",
   "execution_count": 2,
   "id": "4aaec444",
   "metadata": {},
   "outputs": [],
   "source": [
    "list1=[1, 2, 3, 4, 5, 6, 7, 8, 9, 10]"
   ]
  },
  {
   "cell_type": "code",
   "execution_count": 3,
   "id": "4b20f442",
   "metadata": {},
   "outputs": [],
   "source": [
    "def sq_list(list):\n",
    "    list1 =[]\n",
    "    for i in list:\n",
    "        list1.append(i**2)\n",
    "    return list1"
   ]
  },
  {
   "cell_type": "code",
   "execution_count": 4,
   "id": "fc00aec4",
   "metadata": {},
   "outputs": [
    {
     "data": {
      "text/plain": [
       "[1, 4, 9, 16, 25, 36, 49, 64, 81, 100]"
      ]
     },
     "execution_count": 4,
     "metadata": {},
     "output_type": "execute_result"
    }
   ],
   "source": [
    "sq_list(list1)"
   ]
  },
  {
   "cell_type": "raw",
   "id": "f0ab930e",
   "metadata": {},
   "source": [
    "Q3. Write a python program to convert the given list of integers into a tuple of strings. Use map and\n",
    "lambda functions\n",
    "Given String: [1, 2, 3, 4, 5, 6, 7, 8, 9, 10]"
   ]
  },
  {
   "cell_type": "code",
   "execution_count": 5,
   "id": "c2522a23",
   "metadata": {},
   "outputs": [],
   "source": [
    "list=[1, 2, 3, 4, 5, 6, 7, 8, 9, 10]\n",
    "a=lambda x: str(x)\n",
    "\n",
    "string_of_list=map(a,list)"
   ]
  },
  {
   "cell_type": "code",
   "execution_count": 6,
   "id": "90e2335d",
   "metadata": {},
   "outputs": [
    {
     "data": {
      "text/plain": [
       "<map at 0x7f57f8048040>"
      ]
     },
     "execution_count": 6,
     "metadata": {},
     "output_type": "execute_result"
    }
   ],
   "source": [
    "string_of_list"
   ]
  },
  {
   "cell_type": "code",
   "execution_count": 7,
   "id": "f958b42e",
   "metadata": {},
   "outputs": [
    {
     "data": {
      "text/plain": [
       "('1', '2', '3', '4', '5', '6', '7', '8', '9', '10')"
      ]
     },
     "execution_count": 7,
     "metadata": {},
     "output_type": "execute_result"
    }
   ],
   "source": [
    "tuple(string_of_list)"
   ]
  },
  {
   "cell_type": "raw",
   "id": "2c577c2a",
   "metadata": {},
   "source": [
    "Q4. Write a python program using reduce function to compute the product of a list containing numbers\n",
    "from 1 to 25."
   ]
  },
  {
   "cell_type": "code",
   "execution_count": 8,
   "id": "73479ce8",
   "metadata": {},
   "outputs": [
    {
     "name": "stdout",
     "output_type": "stream",
     "text": [
      "[1, 2, 3, 4, 5, 6, 7, 8, 9, 10, 11, 12, 13, 14, 15, 16, 17, 18, 19, 20, 21, 22, 23, 24, 25]\n"
     ]
    }
   ],
   "source": [
    "from functools import reduce\n",
    "list4=[]\n",
    "for i in range(1,26):\n",
    "    list4.append(i)\n",
    "print(list4)"
   ]
  },
  {
   "cell_type": "code",
   "execution_count": 9,
   "id": "a3638de1",
   "metadata": {},
   "outputs": [
    {
     "data": {
      "text/plain": [
       "[1,\n",
       " 2,\n",
       " 3,\n",
       " 4,\n",
       " 5,\n",
       " 6,\n",
       " 7,\n",
       " 8,\n",
       " 9,\n",
       " 10,\n",
       " 11,\n",
       " 12,\n",
       " 13,\n",
       " 14,\n",
       " 15,\n",
       " 16,\n",
       " 17,\n",
       " 18,\n",
       " 19,\n",
       " 20,\n",
       " 21,\n",
       " 22,\n",
       " 23,\n",
       " 24,\n",
       " 25]"
      ]
     },
     "execution_count": 9,
     "metadata": {},
     "output_type": "execute_result"
    }
   ],
   "source": [
    "list4"
   ]
  },
  {
   "cell_type": "code",
   "execution_count": 10,
   "id": "1e083bc3",
   "metadata": {},
   "outputs": [],
   "source": [
    "product=reduce(lambda x,y:x*y ,list4)"
   ]
  },
  {
   "cell_type": "code",
   "execution_count": 11,
   "id": "363569bc",
   "metadata": {},
   "outputs": [
    {
     "data": {
      "text/plain": [
       "15511210043330985984000000"
      ]
     },
     "execution_count": 11,
     "metadata": {},
     "output_type": "execute_result"
    }
   ],
   "source": [
    "product"
   ]
  },
  {
   "cell_type": "raw",
   "id": "3a5c6f23",
   "metadata": {},
   "source": [
    "Q5. Write a python program to filter the numbers in a given list that are divisible by 2 and 3 using the\n",
    "filter function.\n",
    "[2, 3, 6, 9, 27, 60, 90, 120, 55, 46]"
   ]
  },
  {
   "cell_type": "code",
   "execution_count": 47,
   "id": "9b31e785",
   "metadata": {},
   "outputs": [],
   "source": [
    "\n",
    "data=[2, 3, 6, 9, 27, 60, 90, 120, 55, 46]"
   ]
  },
  {
   "cell_type": "code",
   "execution_count": 48,
   "id": "e9631f5e",
   "metadata": {},
   "outputs": [],
   "source": [
    "filter_list=filter(lambda z: z%3==0 and z%2==0 ,data)"
   ]
  },
  {
   "cell_type": "code",
   "execution_count": 49,
   "id": "bdafbc1a",
   "metadata": {},
   "outputs": [
    {
     "name": "stdout",
     "output_type": "stream",
     "text": [
      "<filter object at 0x7f57f8049810>\n"
     ]
    }
   ],
   "source": [
    "print(filter_list)"
   ]
  },
  {
   "cell_type": "code",
   "execution_count": 50,
   "id": "14ca691a",
   "metadata": {},
   "outputs": [],
   "source": [
    "a=tuple(filter_list)"
   ]
  },
  {
   "cell_type": "code",
   "execution_count": 51,
   "id": "b227119b",
   "metadata": {},
   "outputs": [
    {
     "data": {
      "text/plain": [
       "(6, 60, 90, 120)"
      ]
     },
     "execution_count": 51,
     "metadata": {},
     "output_type": "execute_result"
    }
   ],
   "source": [
    "a"
   ]
  },
  {
   "cell_type": "code",
   "execution_count": 53,
   "id": "0970858d",
   "metadata": {},
   "outputs": [],
   "source": [
    "list_7=[a]"
   ]
  },
  {
   "cell_type": "code",
   "execution_count": 54,
   "id": "dd170201",
   "metadata": {},
   "outputs": [
    {
     "data": {
      "text/plain": [
       "[(6, 60, 90, 120)]"
      ]
     },
     "execution_count": 54,
     "metadata": {},
     "output_type": "execute_result"
    }
   ],
   "source": [
    "list_7"
   ]
  },
  {
   "cell_type": "code",
   "execution_count": null,
   "id": "aa8b6f66",
   "metadata": {},
   "outputs": [],
   "source": []
  }
 ],
 "metadata": {
  "kernelspec": {
   "display_name": "Python 3 (ipykernel)",
   "language": "python",
   "name": "python3"
  },
  "language_info": {
   "codemirror_mode": {
    "name": "ipython",
    "version": 3
   },
   "file_extension": ".py",
   "mimetype": "text/x-python",
   "name": "python",
   "nbconvert_exporter": "python",
   "pygments_lexer": "ipython3",
   "version": "3.10.6"
  }
 },
 "nbformat": 4,
 "nbformat_minor": 5
}
