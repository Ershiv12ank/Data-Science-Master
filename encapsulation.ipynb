{
 "cells": [
  {
   "cell_type": "code",
   "execution_count": 1,
   "id": "f0e19cd2",
   "metadata": {},
   "outputs": [],
   "source": [
    "#create class\n",
    "class test:\n",
    "    def __init__(self , a,b):\n",
    "        self.a=a\n",
    "        self.b=b"
   ]
  },
  {
   "cell_type": "code",
   "execution_count": 6,
   "id": "fb56ff7e",
   "metadata": {},
   "outputs": [
    {
     "data": {
      "text/plain": [
       "<__main__.test at 0x7f4b64657ca0>"
      ]
     },
     "execution_count": 6,
     "metadata": {},
     "output_type": "execute_result"
    }
   ],
   "source": [
    "c=test(4,5)\n",
    "c"
   ]
  },
  {
   "cell_type": "code",
   "execution_count": 8,
   "id": "1e870fd4",
   "metadata": {},
   "outputs": [
    {
     "data": {
      "text/plain": [
       "4"
      ]
     },
     "execution_count": 8,
     "metadata": {},
     "output_type": "execute_result"
    }
   ],
   "source": [
    "c.a"
   ]
  },
  {
   "cell_type": "code",
   "execution_count": 9,
   "id": "c4fede3e",
   "metadata": {},
   "outputs": [
    {
     "data": {
      "text/plain": [
       "5"
      ]
     },
     "execution_count": 9,
     "metadata": {},
     "output_type": "execute_result"
    }
   ],
   "source": [
    "c.b"
   ]
  },
  {
   "cell_type": "code",
   "execution_count": 10,
   "id": "15deb01d",
   "metadata": {},
   "outputs": [],
   "source": [
    "# in the case of encapsulation the used can not excess the data "
   ]
  },
  {
   "cell_type": "code",
   "execution_count": 50,
   "id": "2dbf8f4d",
   "metadata": {},
   "outputs": [],
   "source": [
    "class sati:\n",
    "    def __init__(self , name , email_id,phone_number,room_no):\n",
    "        self.__name = name\n",
    "        self.__email_id = email_id\n",
    "        self.__phone_number = phone_number\n",
    "        self.__room_no = room_no\n",
    "    \n",
    "    def modifi_room_no(self , room_no):\n",
    "        self.__room_no = 0 if room_no <0 else room_no\n",
    "        \n",
    "    def get_room_no(self):\n",
    "        return self.__room_no"
   ]
  },
  {
   "cell_type": "code",
   "execution_count": 51,
   "id": "00923e51",
   "metadata": {},
   "outputs": [],
   "source": [
    "n=sati(\"shivank pandey\", \"shivank25ai053@satiengg.in\",\"7974048305\",42)"
   ]
  },
  {
   "cell_type": "code",
   "execution_count": 52,
   "id": "7303ebd3",
   "metadata": {},
   "outputs": [
    {
     "data": {
      "text/plain": [
       "'shivank pandey'"
      ]
     },
     "execution_count": 52,
     "metadata": {},
     "output_type": "execute_result"
    }
   ],
   "source": [
    "n._sati__name"
   ]
  },
  {
   "cell_type": "code",
   "execution_count": 53,
   "id": "e2883394",
   "metadata": {},
   "outputs": [
    {
     "data": {
      "text/plain": [
       "'shivank25ai053@satiengg.in'"
      ]
     },
     "execution_count": 53,
     "metadata": {},
     "output_type": "execute_result"
    }
   ],
   "source": [
    "n._sati__email_id"
   ]
  },
  {
   "cell_type": "code",
   "execution_count": 54,
   "id": "28628b89",
   "metadata": {},
   "outputs": [
    {
     "data": {
      "text/plain": [
       "42"
      ]
     },
     "execution_count": 54,
     "metadata": {},
     "output_type": "execute_result"
    }
   ],
   "source": [
    "n._sati__room_no"
   ]
  },
  {
   "cell_type": "code",
   "execution_count": 55,
   "id": "19112d24",
   "metadata": {},
   "outputs": [
    {
     "data": {
      "text/plain": [
       "'7974048305'"
      ]
     },
     "execution_count": 55,
     "metadata": {},
     "output_type": "execute_result"
    }
   ],
   "source": [
    "n._sati__phone_number"
   ]
  },
  {
   "cell_type": "code",
   "execution_count": 56,
   "id": "fad7f43d",
   "metadata": {},
   "outputs": [],
   "source": [
    "n.modifi_room_no(32)"
   ]
  },
  {
   "cell_type": "code",
   "execution_count": 57,
   "id": "976d5afa",
   "metadata": {},
   "outputs": [
    {
     "data": {
      "text/plain": [
       "32"
      ]
     },
     "execution_count": 57,
     "metadata": {},
     "output_type": "execute_result"
    }
   ],
   "source": [
    "n._sati__room_no"
   ]
  },
  {
   "cell_type": "code",
   "execution_count": 59,
   "id": "582dbbc8",
   "metadata": {},
   "outputs": [
    {
     "data": {
      "text/plain": [
       "32"
      ]
     },
     "execution_count": 59,
     "metadata": {},
     "output_type": "execute_result"
    }
   ],
   "source": [
    "n.get_room_no()"
   ]
  },
  {
   "cell_type": "code",
   "execution_count": 76,
   "id": "c264db93",
   "metadata": {},
   "outputs": [],
   "source": [
    "class bank_balance:\n",
    "    \n",
    "    def __init__(self , amount):\n",
    "        self.__amount = amount\n",
    "    \n",
    "    def deposite(self , amount):\n",
    "        self.__amount = self.__amount + amount\n",
    "        \n",
    "    def withdraow(self , amount):\n",
    "        if self.__amount >= amount:\n",
    "            self.__amount = self.__amount-amount\n",
    "            return True \n",
    "        else: \n",
    "            False\n",
    "    \n",
    "    def get_balance(self):\n",
    "        return self.__amount"
   ]
  },
  {
   "cell_type": "code",
   "execution_count": 77,
   "id": "972aa71f",
   "metadata": {},
   "outputs": [],
   "source": [
    "obj_bank = bank_balance(1000)"
   ]
  },
  {
   "cell_type": "code",
   "execution_count": 80,
   "id": "c7a9d8b3",
   "metadata": {},
   "outputs": [
    {
     "data": {
      "text/plain": [
       "1000"
      ]
     },
     "execution_count": 80,
     "metadata": {},
     "output_type": "execute_result"
    }
   ],
   "source": [
    "obj_bank.get_balance()"
   ]
  },
  {
   "cell_type": "code",
   "execution_count": 81,
   "id": "e264b91a",
   "metadata": {},
   "outputs": [],
   "source": [
    "obj_bank.deposite(1000)"
   ]
  },
  {
   "cell_type": "code",
   "execution_count": 82,
   "id": "473ce687",
   "metadata": {},
   "outputs": [
    {
     "data": {
      "text/plain": [
       "2000"
      ]
     },
     "execution_count": 82,
     "metadata": {},
     "output_type": "execute_result"
    }
   ],
   "source": [
    "obj_bank.get_balance()"
   ]
  },
  {
   "cell_type": "code",
   "execution_count": 83,
   "id": "5c3a8442",
   "metadata": {},
   "outputs": [
    {
     "data": {
      "text/plain": [
       "True"
      ]
     },
     "execution_count": 83,
     "metadata": {},
     "output_type": "execute_result"
    }
   ],
   "source": [
    "obj_bank.withdraow(1000)"
   ]
  },
  {
   "cell_type": "code",
   "execution_count": 84,
   "id": "edc6fe16",
   "metadata": {},
   "outputs": [
    {
     "data": {
      "text/plain": [
       "1000"
      ]
     },
     "execution_count": 84,
     "metadata": {},
     "output_type": "execute_result"
    }
   ],
   "source": [
    "obj_bank.get_balance()"
   ]
  },
  {
   "cell_type": "code",
   "execution_count": 85,
   "id": "c0f288f0",
   "metadata": {},
   "outputs": [
    {
     "ename": "AttributeError",
     "evalue": "'bank_balance' object has no attribute '_bank_balance__balance'",
     "output_type": "error",
     "traceback": [
      "\u001b[0;31m---------------------------------------------------------------------------\u001b[0m",
      "\u001b[0;31mAttributeError\u001b[0m                            Traceback (most recent call last)",
      "\u001b[0;32m/tmp/ipykernel_7069/2681790615.py\u001b[0m in \u001b[0;36m<module>\u001b[0;34m\u001b[0m\n\u001b[0;32m----> 1\u001b[0;31m \u001b[0mobj_bank\u001b[0m\u001b[0;34m.\u001b[0m\u001b[0m_bank_balance__balance\u001b[0m\u001b[0;34m(\u001b[0m\u001b[0;34m)\u001b[0m\u001b[0;34m\u001b[0m\u001b[0;34m\u001b[0m\u001b[0m\n\u001b[0m",
      "\u001b[0;31mAttributeError\u001b[0m: 'bank_balance' object has no attribute '_bank_balance__balance'"
     ]
    }
   ],
   "source": [
    "obj_bank._bank_balance__balance()"
   ]
  },
  {
   "cell_type": "code",
   "execution_count": null,
   "id": "d3e21f98",
   "metadata": {},
   "outputs": [],
   "source": []
  }
 ],
 "metadata": {
  "kernelspec": {
   "display_name": "Python 3 (ipykernel)",
   "language": "python",
   "name": "python3"
  },
  "language_info": {
   "codemirror_mode": {
    "name": "ipython",
    "version": 3
   },
   "file_extension": ".py",
   "mimetype": "text/x-python",
   "name": "python",
   "nbconvert_exporter": "python",
   "pygments_lexer": "ipython3",
   "version": "3.10.6"
  }
 },
 "nbformat": 4,
 "nbformat_minor": 5
}
