{
 "cells": [
  {
   "cell_type": "code",
   "execution_count": 16,
   "id": "74c6b0dc",
   "metadata": {},
   "outputs": [],
   "source": [
    "data ={\n",
    "    \"name\":\"shivank pandey\",\n",
    "    \"course\":\"b-tech (ai and ds)\",\n",
    "    \"duration\": 4,\n",
    "    \"details\":['sati','3rd year','ai','ds']\n",
    "    \n",
    "    \n",
    "}"
   ]
  },
  {
   "cell_type": "code",
   "execution_count": 17,
   "id": "a5edf6c6",
   "metadata": {},
   "outputs": [],
   "source": [
    "import json\n"
   ]
  },
  {
   "cell_type": "code",
   "execution_count": 18,
   "id": "c1034910",
   "metadata": {},
   "outputs": [],
   "source": [
    "with open(\"file.json\", \"w\") as f:\n",
    "    json.dump(data , f)"
   ]
  },
  {
   "cell_type": "code",
   "execution_count": 19,
   "id": "8adbf202",
   "metadata": {},
   "outputs": [],
   "source": [
    "with open(\"file.json\", \"r\") as f:\n",
    "    data1= json.load(f)"
   ]
  },
  {
   "cell_type": "code",
   "execution_count": 20,
   "id": "a8218a43",
   "metadata": {},
   "outputs": [
    {
     "data": {
      "text/plain": [
       "{'name': 'shivank pandey',\n",
       " 'course': 'b-tech (ai and ds)',\n",
       " 'duration': 4,\n",
       " 'details': ['sati', '3rd year', 'ai', 'ds']}"
      ]
     },
     "execution_count": 20,
     "metadata": {},
     "output_type": "execute_result"
    }
   ],
   "source": [
    "data1"
   ]
  },
  {
   "cell_type": "code",
   "execution_count": 24,
   "id": "d1844412",
   "metadata": {},
   "outputs": [
    {
     "data": {
      "text/plain": [
       "['sati', '3rd year', 'ai', 'ds']"
      ]
     },
     "execution_count": 24,
     "metadata": {},
     "output_type": "execute_result"
    }
   ],
   "source": [
    "data1['details']"
   ]
  },
  {
   "cell_type": "code",
   "execution_count": 25,
   "id": "9e7e5440",
   "metadata": {},
   "outputs": [
    {
     "data": {
      "text/plain": [
       "'sati'"
      ]
     },
     "execution_count": 25,
     "metadata": {},
     "output_type": "execute_result"
    }
   ],
   "source": [
    "data1['details'][0]"
   ]
  },
  {
   "cell_type": "code",
   "execution_count": 32,
   "id": "2f37f967",
   "metadata": {},
   "outputs": [],
   "source": [
    "data2=[\n",
    "    [1,2,3,4,],\n",
    "    ['shivank','kamna','jyoti','heroin'],\n",
    "    ['satna','vidisha','bhopal','kolkata'],\n",
    "]"
   ]
  },
  {
   "cell_type": "code",
   "execution_count": 33,
   "id": "793e83e7",
   "metadata": {},
   "outputs": [],
   "source": [
    "import csv"
   ]
  },
  {
   "cell_type": "code",
   "execution_count": 34,
   "id": "7196b011",
   "metadata": {},
   "outputs": [],
   "source": [
    "with open(\"text2.csv\",'w') as f:\n",
    "    w= csv.writer(f)\n",
    "    for i in data2:\n",
    "        w.writerow(i)"
   ]
  },
  {
   "cell_type": "code",
   "execution_count": 37,
   "id": "090a3afe",
   "metadata": {},
   "outputs": [
    {
     "name": "stdout",
     "output_type": "stream",
     "text": [
      "['1', '2', '3', '4']\n",
      "['shivank', 'kamna', 'jyoti', 'heroin']\n",
      "['satna', 'vidisha', 'bhopal', 'kolkata']\n"
     ]
    }
   ],
   "source": [
    "with open(\"text2.csv\",'r') as f:\n",
    "    read= csv.reader(f)\n",
    "    for i in read:\n",
    "        print(i)"
   ]
  },
  {
   "cell_type": "code",
   "execution_count": 38,
   "id": "a0160f82",
   "metadata": {},
   "outputs": [],
   "source": [
    "with open(\"textr.bin\",\"wb\") as f:\n",
    "    f.write(b\"\\x01\")"
   ]
  },
  {
   "cell_type": "code",
   "execution_count": null,
   "id": "2e43a269",
   "metadata": {},
   "outputs": [],
   "source": []
  }
 ],
 "metadata": {
  "kernelspec": {
   "display_name": "Python 3 (ipykernel)",
   "language": "python",
   "name": "python3"
  },
  "language_info": {
   "codemirror_mode": {
    "name": "ipython",
    "version": 3
   },
   "file_extension": ".py",
   "mimetype": "text/x-python",
   "name": "python",
   "nbconvert_exporter": "python",
   "pygments_lexer": "ipython3",
   "version": "3.10.6"
  }
 },
 "nbformat": 4,
 "nbformat_minor": 5
}
