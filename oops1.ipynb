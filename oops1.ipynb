{
 "cells": [
  {
   "cell_type": "code",
   "execution_count": 1,
   "id": "1d34dc35",
   "metadata": {},
   "outputs": [],
   "source": [
    "a=1"
   ]
  },
  {
   "cell_type": "code",
   "execution_count": 2,
   "id": "b5a3f5c1",
   "metadata": {},
   "outputs": [
    {
     "data": {
      "text/plain": [
       "int"
      ]
     },
     "execution_count": 2,
     "metadata": {},
     "output_type": "execute_result"
    }
   ],
   "source": [
    "type(a)"
   ]
  },
  {
   "cell_type": "code",
   "execution_count": 3,
   "id": "60cd0fd9",
   "metadata": {},
   "outputs": [
    {
     "name": "stdout",
     "output_type": "stream",
     "text": [
      "<class 'int'>\n"
     ]
    }
   ],
   "source": [
    "print(type(a)) "
   ]
  },
  {
   "cell_type": "code",
   "execution_count": 4,
   "id": "1873d951",
   "metadata": {},
   "outputs": [
    {
     "name": "stdout",
     "output_type": "stream",
     "text": [
      "shivank\n"
     ]
    }
   ],
   "source": [
    "s=\"shivank\"\n",
    "print(s)"
   ]
  },
  {
   "cell_type": "code",
   "execution_count": 5,
   "id": "9c862d7a",
   "metadata": {},
   "outputs": [
    {
     "name": "stdout",
     "output_type": "stream",
     "text": [
      "<class 'str'>\n"
     ]
    }
   ],
   "source": [
    "print(type(s))"
   ]
  },
  {
   "cell_type": "code",
   "execution_count": 6,
   "id": "1ae3128f",
   "metadata": {},
   "outputs": [],
   "source": [
    "# so difine the class used oops concept"
   ]
  },
  {
   "cell_type": "code",
   "execution_count": 7,
   "id": "f96990ef",
   "metadata": {},
   "outputs": [],
   "source": [
    "class test:\n",
    "    pass"
   ]
  },
  {
   "cell_type": "code",
   "execution_count": 8,
   "id": "91f876de",
   "metadata": {},
   "outputs": [
    {
     "data": {
      "text/plain": [
       "__main__.test"
      ]
     },
     "execution_count": 8,
     "metadata": {},
     "output_type": "execute_result"
    }
   ],
   "source": [
    "a= test()\n",
    "type(a)"
   ]
  },
  {
   "cell_type": "code",
   "execution_count": 9,
   "id": "0952bb19",
   "metadata": {},
   "outputs": [],
   "source": [
    "c=type(s)"
   ]
  },
  {
   "cell_type": "code",
   "execution_count": 10,
   "id": "e65229a4",
   "metadata": {},
   "outputs": [
    {
     "name": "stdout",
     "output_type": "stream",
     "text": [
      "shivank\n"
     ]
    }
   ],
   "source": [
    "print(s)"
   ]
  },
  {
   "cell_type": "code",
   "execution_count": 11,
   "id": "884a4617",
   "metadata": {},
   "outputs": [
    {
     "name": "stdout",
     "output_type": "stream",
     "text": [
      "<class 'str'>\n"
     ]
    }
   ],
   "source": [
    "print(c)"
   ]
  },
  {
   "cell_type": "code",
   "execution_count": 20,
   "id": "70866d3f",
   "metadata": {},
   "outputs": [],
   "source": [
    "class sati:\n",
    "    def student_welcome(self):\n",
    "        print(\" welcome to the college\")"
   ]
  },
  {
   "cell_type": "code",
   "execution_count": 21,
   "id": "c5dd9051",
   "metadata": {},
   "outputs": [
    {
     "name": "stdout",
     "output_type": "stream",
     "text": [
      " welcome to the college\n"
     ]
    }
   ],
   "source": [
    "rohit=sati()\n",
    "rohit.student_welcome()\n"
   ]
  },
  {
   "cell_type": "code",
   "execution_count": 22,
   "id": "fdea1460",
   "metadata": {},
   "outputs": [
    {
     "name": "stdout",
     "output_type": "stream",
     "text": [
      " welcome to the college\n"
     ]
    }
   ],
   "source": [
    "mohit=sati()\n",
    "mohit.student_welcome()"
   ]
  },
  {
   "cell_type": "code",
   "execution_count": 23,
   "id": "c8e32919",
   "metadata": {},
   "outputs": [],
   "source": [
    "# constructure _init_()"
   ]
  },
  {
   "cell_type": "code",
   "execution_count": 53,
   "id": "9c9b4e3b",
   "metadata": {},
   "outputs": [],
   "source": [
    "class sati_vidisha:\n",
    "    \n",
    "    def __init__(self, phone_number , email_id , roll_number ):\n",
    "        \n",
    "        \n",
    "        self.phone_number = phone_number\n",
    "        self.email_id = email_id\n",
    "        self.roll_number= roll_number\n",
    "        \n",
    "    def return_student_detial(self):\n",
    "        return  self.phone_number ,self.email_id , self.email_id \n",
    "       \n",
    "    \n",
    "    \n",
    "    "
   ]
  },
  {
   "cell_type": "code",
   "execution_count": 54,
   "id": "865bd3e5",
   "metadata": {},
   "outputs": [],
   "source": [
    "rohon = sati_vidisha(234466766,'rohon@gmail.com',34)"
   ]
  },
  {
   "cell_type": "code",
   "execution_count": 55,
   "id": "289b1d43",
   "metadata": {},
   "outputs": [
    {
     "data": {
      "text/plain": [
       "234466766"
      ]
     },
     "execution_count": 55,
     "metadata": {},
     "output_type": "execute_result"
    }
   ],
   "source": [
    "rohon.phone_number"
   ]
  },
  {
   "cell_type": "code",
   "execution_count": 56,
   "id": "fb08fedd",
   "metadata": {},
   "outputs": [
    {
     "data": {
      "text/plain": [
       "'rohon@gmail.com'"
      ]
     },
     "execution_count": 56,
     "metadata": {},
     "output_type": "execute_result"
    }
   ],
   "source": [
    "rohon.email_id"
   ]
  },
  {
   "cell_type": "code",
   "execution_count": 57,
   "id": "a913c082",
   "metadata": {},
   "outputs": [
    {
     "data": {
      "text/plain": [
       "34"
      ]
     },
     "execution_count": 57,
     "metadata": {},
     "output_type": "execute_result"
    }
   ],
   "source": [
    "rohon.roll_number\n"
   ]
  },
  {
   "cell_type": "code",
   "execution_count": 58,
   "id": "89ef1326",
   "metadata": {},
   "outputs": [
    {
     "data": {
      "text/plain": [
       "(234466766, 'rohon@gmail.com', 'rohon@gmail.com')"
      ]
     },
     "execution_count": 58,
     "metadata": {},
     "output_type": "execute_result"
    }
   ],
   "source": [
    "rohon.return_student_detial()\n"
   ]
  },
  {
   "cell_type": "code",
   "execution_count": 60,
   "id": "4866351b",
   "metadata": {},
   "outputs": [
    {
     "data": {
      "text/plain": [
       "(9835246262, 'sohon@gmail.com', 'sohon@gmail.com')"
      ]
     },
     "execution_count": 60,
     "metadata": {},
     "output_type": "execute_result"
    }
   ],
   "source": [
    "sohon.return_student_detial()"
   ]
  },
  {
   "cell_type": "code",
   "execution_count": 59,
   "id": "1a235354",
   "metadata": {},
   "outputs": [],
   "source": [
    "sohon = sati_vidisha(9835246262,'sohon@gmail.com',35)"
   ]
  },
  {
   "cell_type": "code",
   "execution_count": 61,
   "id": "86dec941",
   "metadata": {},
   "outputs": [
    {
     "data": {
      "text/plain": [
       "9835246262"
      ]
     },
     "execution_count": 61,
     "metadata": {},
     "output_type": "execute_result"
    }
   ],
   "source": [
    "sohon.phone_number"
   ]
  },
  {
   "cell_type": "code",
   "execution_count": 63,
   "id": "bc3f358a",
   "metadata": {},
   "outputs": [
    {
     "data": {
      "text/plain": [
       "'sohon@gmail.com'"
      ]
     },
     "execution_count": 63,
     "metadata": {},
     "output_type": "execute_result"
    }
   ],
   "source": [
    "sohon.email_id"
   ]
  },
  {
   "cell_type": "code",
   "execution_count": 64,
   "id": "ab1d438a",
   "metadata": {},
   "outputs": [
    {
     "data": {
      "text/plain": [
       "35"
      ]
     },
     "execution_count": 64,
     "metadata": {},
     "output_type": "execute_result"
    }
   ],
   "source": [
    "sohon.roll_number\n"
   ]
  },
  {
   "cell_type": "code",
   "execution_count": 72,
   "id": "f90d65ff",
   "metadata": {},
   "outputs": [],
   "source": [
    "class sati_vidisha1:\n",
    "    \n",
    "    def __init__(shivank, phone_number , email_id , roll_number ):\n",
    "        \n",
    "        \n",
    "        shivank.phone_number = phone_number\n",
    "        shivank.email_id = email_id\n",
    "        shivank.roll_number= roll_number\n",
    "        \n",
    "    def return_student_detial(self):\n",
    "        return  shivank.phone_number ,shivank.email_id , shivank.email_id \n",
    "       \n",
    "    \n",
    "    \n",
    "    "
   ]
  },
  {
   "cell_type": "code",
   "execution_count": 73,
   "id": "46c21816",
   "metadata": {},
   "outputs": [],
   "source": [
    "rohon = sati_vidisha1(234466766,'rohon@gmail.com',34)"
   ]
  },
  {
   "cell_type": "code",
   "execution_count": 74,
   "id": "60ec9f83",
   "metadata": {},
   "outputs": [
    {
     "data": {
      "text/plain": [
       "234466766"
      ]
     },
     "execution_count": 74,
     "metadata": {},
     "output_type": "execute_result"
    }
   ],
   "source": [
    "rohon.phone_number"
   ]
  },
  {
   "cell_type": "code",
   "execution_count": 75,
   "id": "bdbd2a8f",
   "metadata": {},
   "outputs": [
    {
     "data": {
      "text/plain": [
       "234466766"
      ]
     },
     "execution_count": 75,
     "metadata": {},
     "output_type": "execute_result"
    }
   ],
   "source": [
    "rohon.phone_number"
   ]
  },
  {
   "cell_type": "code",
   "execution_count": 76,
   "id": "9c112e6c",
   "metadata": {},
   "outputs": [
    {
     "data": {
      "text/plain": [
       "'rohon@gmail.com'"
      ]
     },
     "execution_count": 76,
     "metadata": {},
     "output_type": "execute_result"
    }
   ],
   "source": [
    "rohon.email_id"
   ]
  },
  {
   "cell_type": "code",
   "execution_count": 77,
   "id": "9b223f77",
   "metadata": {},
   "outputs": [
    {
     "data": {
      "text/plain": [
       "34"
      ]
     },
     "execution_count": 77,
     "metadata": {},
     "output_type": "execute_result"
    }
   ],
   "source": [
    "rohon.roll_number\n"
   ]
  }
 ],
 "metadata": {
  "kernelspec": {
   "display_name": "Python 3 (ipykernel)",
   "language": "python",
   "name": "python3"
  },
  "language_info": {
   "codemirror_mode": {
    "name": "ipython",
    "version": 3
   },
   "file_extension": ".py",
   "mimetype": "text/x-python",
   "name": "python",
   "nbconvert_exporter": "python",
   "pygments_lexer": "ipython3",
   "version": "3.10.6"
  }
 },
 "nbformat": 4,
 "nbformat_minor": 5
}
