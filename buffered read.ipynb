{
 "cells": [
  {
   "cell_type": "code",
   "execution_count": 1,
   "id": "3adf0d05",
   "metadata": {},
   "outputs": [],
   "source": [
    "import io"
   ]
  },
  {
   "cell_type": "code",
   "execution_count": 2,
   "id": "fedd921f",
   "metadata": {},
   "outputs": [],
   "source": [
    "with open(\"texter1.txt\" , \"wb\") as f:\n",
    "    file = io.BufferedWriter(f)\n",
    "    file.write(b\"this is my code \\n\")\n",
    "    file.write(b\"shivank is a good boy\")\n",
    "    file.flush()"
   ]
  },
  {
   "cell_type": "code",
   "execution_count": 3,
   "id": "2d465455",
   "metadata": {},
   "outputs": [],
   "source": [
    "with open(\"texter1.txt\" , \"rb\") as f:\n",
    "    file = io.BufferedReader(f)\n",
    "    data = file.read()"
   ]
  },
  {
   "cell_type": "code",
   "execution_count": 4,
   "id": "65abe7be",
   "metadata": {},
   "outputs": [
    {
     "name": "stdout",
     "output_type": "stream",
     "text": [
      "b'this is my code \\nshivank is a good boy'\n"
     ]
    }
   ],
   "source": [
    "print(data)"
   ]
  },
  {
   "cell_type": "code",
   "execution_count": 5,
   "id": "e6ade61e",
   "metadata": {},
   "outputs": [],
   "source": [
    "with open(\"texter1.txt\" , \"wb\") as f:\n",
    "    file = io.BufferedWriter(f)\n",
    "    file.write(b\"this is my code and i am your mentour in this course \\n\")\n",
    "    file.write(b\"shivank is a good boy he always try to help people\")\n",
    "    file.flush()"
   ]
  },
  {
   "cell_type": "code",
   "execution_count": 8,
   "id": "09922dc7",
   "metadata": {},
   "outputs": [],
   "source": [
    "with open(\"texter1.txt\" , \"rb\") as f:\n",
    "    file=io.BufferedReader(f)\n",
    "    data = file.read(120)"
   ]
  },
  {
   "cell_type": "code",
   "execution_count": 9,
   "id": "ffb92d5d",
   "metadata": {},
   "outputs": [
    {
     "name": "stdout",
     "output_type": "stream",
     "text": [
      "b'this is my code and i am your mentour in this course \\nshivank is a good boy he always try to help people'\n"
     ]
    }
   ],
   "source": [
    "print(data)"
   ]
  },
  {
   "cell_type": "code",
   "execution_count": null,
   "id": "dbca8830",
   "metadata": {},
   "outputs": [],
   "source": []
  }
 ],
 "metadata": {
  "kernelspec": {
   "display_name": "Python 3 (ipykernel)",
   "language": "python",
   "name": "python3"
  },
  "language_info": {
   "codemirror_mode": {
    "name": "ipython",
    "version": 3
   },
   "file_extension": ".py",
   "mimetype": "text/x-python",
   "name": "python",
   "nbconvert_exporter": "python",
   "pygments_lexer": "ipython3",
   "version": "3.10.6"
  }
 },
 "nbformat": 4,
 "nbformat_minor": 5
}
