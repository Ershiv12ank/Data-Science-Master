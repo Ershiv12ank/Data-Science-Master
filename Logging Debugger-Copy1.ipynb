{
 "cells": [
  {
   "cell_type": "code",
   "execution_count": 1,
   "id": "86e76b6f",
   "metadata": {},
   "outputs": [
    {
     "name": "stdout",
     "output_type": "stream",
     "text": [
      "this is a statement\n"
     ]
    }
   ],
   "source": [
    "print(\"this is a statement\")"
   ]
  },
  {
   "cell_type": "code",
   "execution_count": 28,
   "id": "7003d3fa",
   "metadata": {},
   "outputs": [],
   "source": [
    "import logging"
   ]
  },
  {
   "cell_type": "code",
   "execution_count": 3,
   "id": "4e485095",
   "metadata": {},
   "outputs": [],
   "source": [
    "\n",
    "logging.basicConfig(filename = \"tet1.log\" , level = logging.INFO)\n",
    "\n"
   ]
  },
  {
   "cell_type": "code",
   "execution_count": 4,
   "id": "e0428b65",
   "metadata": {},
   "outputs": [],
   "source": [
    "logging.info(\"this is information\")"
   ]
  },
  {
   "cell_type": "code",
   "execution_count": 5,
   "id": "916b8f5c",
   "metadata": {},
   "outputs": [],
   "source": [
    "logging.error(\"this is error\")"
   ]
  },
  {
   "cell_type": "code",
   "execution_count": 6,
   "id": "b2013a0a",
   "metadata": {},
   "outputs": [],
   "source": [
    "logging.critical(\"this is critical\")"
   ]
  },
  {
   "cell_type": "markdown",
   "id": "93d7ca26",
   "metadata": {},
   "source": [
    "1.noset\n",
    "2.debug\n",
    "3.info\n",
    "4.warning\n",
    "5.error\n",
    "6.critical\n"
   ]
  },
  {
   "cell_type": "code",
   "execution_count": 7,
   "id": "8d3bc2fe",
   "metadata": {},
   "outputs": [],
   "source": [
    "logging.basicConfig(filename=\"open1.log\" , level = logging.debug ,format = '%(asctime)s %(message)s')"
   ]
  },
  {
   "cell_type": "code",
   "execution_count": 8,
   "id": "031704e0",
   "metadata": {},
   "outputs": [],
   "source": [
    "logging.error(\"this is error in the program\")\n"
   ]
  },
  {
   "cell_type": "code",
   "execution_count": 9,
   "id": "3ca88434",
   "metadata": {},
   "outputs": [],
   "source": [
    "logging.info(\"this is an information\")"
   ]
  },
  {
   "cell_type": "code",
   "execution_count": 10,
   "id": "bbf2ab96",
   "metadata": {},
   "outputs": [],
   "source": [
    "logging.critical(\"this is an critical\")"
   ]
  },
  {
   "cell_type": "code",
   "execution_count": 11,
   "id": "7e3a1ccd",
   "metadata": {},
   "outputs": [],
   "source": [
    "logging.shutdown()"
   ]
  },
  {
   "cell_type": "code",
   "execution_count": 25,
   "id": "14da1897",
   "metadata": {},
   "outputs": [],
   "source": [
    "list1=['shivank','pandey',[1,2,3,4,5,6],1,2,3,3,4]"
   ]
  },
  {
   "cell_type": "code",
   "execution_count": 31,
   "id": "4751a8ef",
   "metadata": {},
   "outputs": [
    {
     "name": "stdout",
     "output_type": "stream",
     "text": [
      "[1, 2, 3, 3, 4]\n",
      "['shivank', 'pandey']\n"
     ]
    }
   ],
   "source": [
    "l1_int=[]\n",
    "l2_str=[]\n",
    "for i in list1:\n",
    "    #logging.config(filename=\"pop.log\" , level ='debug' , format ='%(asctime)s %(message)s')\n",
    "    logging.info(\"this is a first for loop for {}\".format(i))\n",
    "    if type(i)==list:\n",
    "        logging.info(\"this is a second for loop for {}\".format(j))\n",
    "        for j in i:\n",
    "            if type(j)==int:\n",
    "                l1_int.append(j)\n",
    "                \n",
    "    elif type(i)==int:\n",
    "        l1_int.append(i)\n",
    "        \n",
    "    else:\n",
    "        if type(i)==str:\n",
    "            \n",
    "\n",
    "            l2_str.append(i)\n",
    "    logging.info(\"this is a first print {}\".format(l1_int))\n",
    "print(l1_int)\n",
    "print(l2_str)"
   ]
  },
  {
   "cell_type": "code",
   "execution_count": null,
   "id": "0bc5b0ac",
   "metadata": {},
   "outputs": [],
   "source": []
  },
  {
   "cell_type": "code",
   "execution_count": null,
   "id": "0f073cde",
   "metadata": {},
   "outputs": [],
   "source": []
  }
 ],
 "metadata": {
  "kernelspec": {
   "display_name": "Python 3 (ipykernel)",
   "language": "python",
   "name": "python3"
  },
  "language_info": {
   "codemirror_mode": {
    "name": "ipython",
    "version": 3
   },
   "file_extension": ".py",
   "mimetype": "text/x-python",
   "name": "python",
   "nbconvert_exporter": "python",
   "pygments_lexer": "ipython3",
   "version": "3.10.6"
  }
 },
 "nbformat": 4,
 "nbformat_minor": 5
}
