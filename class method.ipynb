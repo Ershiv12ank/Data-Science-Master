{
 "cells": [
  {
   "cell_type": "code",
   "execution_count": 1,
   "id": "9ef2db43",
   "metadata": {},
   "outputs": [],
   "source": [
    "class pwskills:\n",
    "    def __init__(self,name ,gmail):\n",
    "        self.name=name\n",
    "        self.gmail=gmail\n",
    "    def student_detail(self):\n",
    "        print(self.name,self.gmail)"
   ]
  },
  {
   "cell_type": "code",
   "execution_count": 2,
   "id": "89e35a14",
   "metadata": {},
   "outputs": [],
   "source": [
    "pw=pwskills('shivank','shivank@gmai.com')"
   ]
  },
  {
   "cell_type": "code",
   "execution_count": 3,
   "id": "e1161049",
   "metadata": {},
   "outputs": [
    {
     "data": {
      "text/plain": [
       "'shivank'"
      ]
     },
     "execution_count": 3,
     "metadata": {},
     "output_type": "execute_result"
    }
   ],
   "source": [
    "pw.name"
   ]
  },
  {
   "cell_type": "code",
   "execution_count": 4,
   "id": "2ff5ba5d",
   "metadata": {},
   "outputs": [
    {
     "data": {
      "text/plain": [
       "'shivank@gmai.com'"
      ]
     },
     "execution_count": 4,
     "metadata": {},
     "output_type": "execute_result"
    }
   ],
   "source": [
    "pw.gmail"
   ]
  },
  {
   "cell_type": "code",
   "execution_count": 5,
   "id": "80548b02",
   "metadata": {},
   "outputs": [
    {
     "name": "stdout",
     "output_type": "stream",
     "text": [
      "shivank shivank@gmai.com\n"
     ]
    }
   ],
   "source": [
    "pw.student_detail()"
   ]
  },
  {
   "cell_type": "code",
   "execution_count": 6,
   "id": "30790488",
   "metadata": {},
   "outputs": [],
   "source": [
    "class pwskills1:\n",
    "    def __init__(self,name ,gmail):\n",
    "        self.name=name\n",
    "        self.gmail=gmail\n",
    "        \n",
    "    @classmethod\n",
    "    \n",
    "    def details(cls ,name,gmail):\n",
    "        return cls(name,gmail)\n",
    "    def student_detail(self):\n",
    "        print(self.name,self.gmail)"
   ]
  },
  {
   "cell_type": "code",
   "execution_count": 7,
   "id": "f390e847",
   "metadata": {},
   "outputs": [
    {
     "data": {
      "text/plain": [
       "<__main__.pwskills1 at 0x7f6859f3dd50>"
      ]
     },
     "execution_count": 7,
     "metadata": {},
     "output_type": "execute_result"
    }
   ],
   "source": [
    "pw1 =pwskills1.details(\"shivank\",\"gmail.com\")\n",
    "pw1"
   ]
  },
  {
   "cell_type": "code",
   "execution_count": 8,
   "id": "6a8b0ffe",
   "metadata": {},
   "outputs": [
    {
     "data": {
      "text/plain": [
       "'shivank'"
      ]
     },
     "execution_count": 8,
     "metadata": {},
     "output_type": "execute_result"
    }
   ],
   "source": [
    "pw1.name"
   ]
  },
  {
   "cell_type": "code",
   "execution_count": 9,
   "id": "484d4eb5",
   "metadata": {},
   "outputs": [
    {
     "data": {
      "text/plain": [
       "'gmail.com'"
      ]
     },
     "execution_count": 9,
     "metadata": {},
     "output_type": "execute_result"
    }
   ],
   "source": [
    "pw1.gmail"
   ]
  },
  {
   "cell_type": "code",
   "execution_count": 10,
   "id": "e6ccc463",
   "metadata": {},
   "outputs": [
    {
     "name": "stdout",
     "output_type": "stream",
     "text": [
      "shivank gmail.com\n"
     ]
    }
   ],
   "source": [
    "pw1.student_detail()"
   ]
  },
  {
   "cell_type": "code",
   "execution_count": 11,
   "id": "cf12c722",
   "metadata": {},
   "outputs": [],
   "source": [
    "class pwskills2:\n",
    "    \n",
    "    mobile_number=9827343412\n",
    "    def __init__(self,name ,gmail):\n",
    "        self.name=name\n",
    "        self.gmail=gmail\n",
    "        \n",
    "    @classmethod\n",
    "    \n",
    "    def details(cls ,name,gmail):\n",
    "        return cls(name,gmail)\n",
    "    def student_detail(self):\n",
    "        print(self.name,self.gmail,self.mobile_number)"
   ]
  },
  {
   "cell_type": "code",
   "execution_count": 12,
   "id": "3d11cf2c",
   "metadata": {},
   "outputs": [],
   "source": [
    "pw2=pwskills2(\"shivank\",\"shivank@gmail.com\")"
   ]
  },
  {
   "cell_type": "code",
   "execution_count": 13,
   "id": "793c8f51",
   "metadata": {},
   "outputs": [
    {
     "data": {
      "text/plain": [
       "'shivank'"
      ]
     },
     "execution_count": 13,
     "metadata": {},
     "output_type": "execute_result"
    }
   ],
   "source": [
    "pw2.name"
   ]
  },
  {
   "cell_type": "code",
   "execution_count": 14,
   "id": "947832fc",
   "metadata": {},
   "outputs": [
    {
     "data": {
      "text/plain": [
       "'shivank@gmail.com'"
      ]
     },
     "execution_count": 14,
     "metadata": {},
     "output_type": "execute_result"
    }
   ],
   "source": [
    "pw2.gmail"
   ]
  },
  {
   "cell_type": "code",
   "execution_count": 15,
   "id": "312653bc",
   "metadata": {},
   "outputs": [
    {
     "name": "stdout",
     "output_type": "stream",
     "text": [
      "shivank shivank@gmail.com 9827343412\n"
     ]
    }
   ],
   "source": [
    "pw2.student_detail()"
   ]
  },
  {
   "cell_type": "code",
   "execution_count": 16,
   "id": "4d0a15e8",
   "metadata": {},
   "outputs": [],
   "source": [
    "pw3=pwskills2.details(\"shivank1\",\"shivank@gmail.com\")"
   ]
  },
  {
   "cell_type": "code",
   "execution_count": 17,
   "id": "e1c29971",
   "metadata": {},
   "outputs": [
    {
     "name": "stdout",
     "output_type": "stream",
     "text": [
      "shivank1 shivank@gmail.com 9827343412\n"
     ]
    }
   ],
   "source": [
    "pw3.student_detail()"
   ]
  },
  {
   "cell_type": "code",
   "execution_count": 18,
   "id": "ea111973",
   "metadata": {},
   "outputs": [],
   "source": [
    "pw2_obj=pwskills2(\"shivank\",\"shivank@gmail.com\")"
   ]
  },
  {
   "cell_type": "code",
   "execution_count": 19,
   "id": "33aa994a",
   "metadata": {},
   "outputs": [
    {
     "name": "stdout",
     "output_type": "stream",
     "text": [
      "shivank shivank@gmail.com 9827343412\n"
     ]
    }
   ],
   "source": [
    "pw2_obj.student_detail()"
   ]
  },
  {
   "cell_type": "code",
   "execution_count": 20,
   "id": "d527d483",
   "metadata": {},
   "outputs": [],
   "source": [
    "class pwskills3:\n",
    "    \n",
    "    mobile_number=9827343412\n",
    "    def __init__(self,name ,gmail):\n",
    "        self.name=name\n",
    "        self.gmail=gmail\n",
    "        \n",
    "    @classmethod\n",
    "    def change_number(cls,number):\n",
    "        cls.mobile_number=number\n",
    "    @classmethod\n",
    "    \n",
    "    def details(cls ,name,gmail):\n",
    "        return cls(name,gmail)\n",
    "    def student_detail(self):\n",
    "        print(self.name,self.gmail,self.mobile_number)"
   ]
  },
  {
   "cell_type": "code",
   "execution_count": 21,
   "id": "f8b8b4cb",
   "metadata": {},
   "outputs": [
    {
     "data": {
      "text/plain": [
       "9827343412"
      ]
     },
     "execution_count": 21,
     "metadata": {},
     "output_type": "execute_result"
    }
   ],
   "source": [
    "pwskills3.mobile_number"
   ]
  },
  {
   "cell_type": "code",
   "execution_count": 22,
   "id": "574d37d6",
   "metadata": {},
   "outputs": [],
   "source": [
    "pwskills3.change_number(98484829219)"
   ]
  },
  {
   "cell_type": "code",
   "execution_count": 23,
   "id": "504ef5b3",
   "metadata": {},
   "outputs": [
    {
     "data": {
      "text/plain": [
       "98484829219"
      ]
     },
     "execution_count": 23,
     "metadata": {},
     "output_type": "execute_result"
    }
   ],
   "source": [
    "pwskills3.mobile_number"
   ]
  },
  {
   "cell_type": "code",
   "execution_count": 46,
   "id": "ac823692",
   "metadata": {},
   "outputs": [],
   "source": [
    "class pwskills4:\n",
    "    \n",
    "    mobile_number=9827343412\n",
    "    def __init__(self,name ,gmail):\n",
    "        self.name=name\n",
    "        self.gmail=gmail\n",
    "        \n",
    "    @classmethod\n",
    "    def change_number(cls,number):\n",
    "        cls.mobile_number=number\n",
    "    @classmethod\n",
    "    \n",
    "    def details(cls ,name,gmail):\n",
    "        return cls(name,gmail)\n",
    "    def student_detail(self):\n",
    "        print(self.name,self.gmail,self.mobile_number)"
   ]
  },
  {
   "cell_type": "code",
   "execution_count": 47,
   "id": "163974af",
   "metadata": {},
   "outputs": [],
   "source": [
    "def course_details(cls,course_name):\n",
    "    print(\"course_name\",course_name)\n",
    "    "
   ]
  },
  {
   "cell_type": "code",
   "execution_count": 48,
   "id": "bf5fdd94",
   "metadata": {},
   "outputs": [],
   "source": [
    "pwskills4.course_details = classmethod(course_details)"
   ]
  },
  {
   "cell_type": "code",
   "execution_count": 49,
   "id": "edfb5073",
   "metadata": {},
   "outputs": [
    {
     "name": "stdout",
     "output_type": "stream",
     "text": [
      "course_name data science method\n"
     ]
    }
   ],
   "source": [
    "pw4=pwskills4.course_details(\"data science method\")"
   ]
  },
  {
   "cell_type": "code",
   "execution_count": 50,
   "id": "e2ac8142",
   "metadata": {},
   "outputs": [],
   "source": [
    "pw5=pwskills4(\"name\",\"gmail\")"
   ]
  },
  {
   "cell_type": "code",
   "execution_count": 51,
   "id": "9787b44c",
   "metadata": {},
   "outputs": [
    {
     "name": "stdout",
     "output_type": "stream",
     "text": [
      "name gmail 9827343412\n"
     ]
    }
   ],
   "source": [
    "pw5.student_detail()"
   ]
  },
  {
   "cell_type": "code",
   "execution_count": 52,
   "id": "28a842a7",
   "metadata": {},
   "outputs": [
    {
     "name": "stdout",
     "output_type": "stream",
     "text": [
      "course_name web dev\n"
     ]
    }
   ],
   "source": [
    "pw5.course_details(\"web dev\")"
   ]
  },
  {
   "cell_type": "code",
   "execution_count": 53,
   "id": "9198bc00",
   "metadata": {},
   "outputs": [],
   "source": [
    "del pwskills4.details\n"
   ]
  },
  {
   "cell_type": "code",
   "execution_count": 55,
   "id": "f6ff6b68",
   "metadata": {},
   "outputs": [],
   "source": [
    "delattr (pwskills4,\"mobile_number\")"
   ]
  },
  {
   "cell_type": "code",
   "execution_count": null,
   "id": "56597219",
   "metadata": {},
   "outputs": [],
   "source": []
  },
  {
   "cell_type": "code",
   "execution_count": null,
   "id": "55eec968",
   "metadata": {},
   "outputs": [],
   "source": []
  }
 ],
 "metadata": {
  "kernelspec": {
   "display_name": "Python 3 (ipykernel)",
   "language": "python",
   "name": "python3"
  },
  "language_info": {
   "codemirror_mode": {
    "name": "ipython",
    "version": 3
   },
   "file_extension": ".py",
   "mimetype": "text/x-python",
   "name": "python",
   "nbconvert_exporter": "python",
   "pygments_lexer": "ipython3",
   "version": "3.10.6"
  }
 },
 "nbformat": 4,
 "nbformat_minor": 5
}
