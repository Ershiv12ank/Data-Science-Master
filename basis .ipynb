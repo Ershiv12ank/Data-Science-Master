{
 "cells": [
  {
   "cell_type": "code",
   "execution_count": 3,
   "id": "47efc73f",
   "metadata": {},
   "outputs": [],
   "source": [
    "# numpy is a numerical python which is used to perform operation in array or matrix where matrix is the sub part of array\n",
    "# import numpy and give short cut np \n",
    "import numpy as np"
   ]
  },
  {
   "cell_type": "code",
   "execution_count": 4,
   "id": "3912c9b8",
   "metadata": {},
   "outputs": [
    {
     "name": "stdout",
     "output_type": "stream",
     "text": [
      "[1, 2, 3, 4, 5, 6, 7]\n"
     ]
    }
   ],
   "source": [
    "#create a list\n",
    "list=[1,2,3,4,5,6,7]\n",
    "print(list)"
   ]
  },
  {
   "cell_type": "code",
   "execution_count": 5,
   "id": "f38e4ee3",
   "metadata": {},
   "outputs": [
    {
     "data": {
      "text/plain": [
       "array([1, 2, 3, 4, 5, 6, 7])"
      ]
     },
     "execution_count": 5,
     "metadata": {},
     "output_type": "execute_result"
    }
   ],
   "source": [
    "# conver list into a array \n",
    "array_of_list=np.array(list)\n",
    "array_of_list"
   ]
  },
  {
   "cell_type": "code",
   "execution_count": 6,
   "id": "a2f7c447",
   "metadata": {},
   "outputs": [
    {
     "data": {
      "text/plain": [
       "numpy.ndarray"
      ]
     },
     "execution_count": 6,
     "metadata": {},
     "output_type": "execute_result"
    }
   ],
   "source": [
    "type(array_of_list)# where nd denote to n diementional array"
   ]
  },
  {
   "cell_type": "code",
   "execution_count": 7,
   "id": "6afd9f3d",
   "metadata": {},
   "outputs": [
    {
     "data": {
      "text/plain": [
       "array([1, 2, 3, 4, 5, 6, 7])"
      ]
     },
     "execution_count": 7,
     "metadata": {},
     "output_type": "execute_result"
    }
   ],
   "source": [
    "#another way to conver list into array\n",
    "np.asarray(list)"
   ]
  },
  {
   "cell_type": "code",
   "execution_count": 8,
   "id": "1e0d202c",
   "metadata": {},
   "outputs": [
    {
     "data": {
      "text/plain": [
       "array([1, 2, 3, 4, 5, 6, 7])"
      ]
     },
     "execution_count": 8,
     "metadata": {},
     "output_type": "execute_result"
    }
   ],
   "source": [
    "#simalirly conver tuple into array\n",
    "tuple=(1,2,3,4,5,6,7)\n",
    "array_of_tuple=np.array(tuple)\n",
    "array_of_tuple"
   ]
  },
  {
   "cell_type": "code",
   "execution_count": 9,
   "id": "ad1218f2",
   "metadata": {},
   "outputs": [
    {
     "data": {
      "text/plain": [
       "array([1, 2, 3, 4, 5, 6, 7])"
      ]
     },
     "execution_count": 9,
     "metadata": {},
     "output_type": "execute_result"
    }
   ],
   "source": [
    "#another way to  conver tuple into array\n",
    "tuple=(1,2,3,4,5,6,7)\n",
    "array_of_tuple=np.asarray(tuple)\n",
    "array_of_tuple"
   ]
  },
  {
   "cell_type": "code",
   "execution_count": 10,
   "id": "1e9e15c7",
   "metadata": {},
   "outputs": [
    {
     "data": {
      "text/plain": [
       "1"
      ]
     },
     "execution_count": 10,
     "metadata": {},
     "output_type": "execute_result"
    }
   ],
   "source": [
    "# ndim :- function is used to find diemention of arry\n",
    "array_of_list.ndim"
   ]
  },
  {
   "cell_type": "code",
   "execution_count": 11,
   "id": "e054a537",
   "metadata": {},
   "outputs": [],
   "source": [
    "list1=[1,2,3,4,5]\n",
    "list2=[6,7,8,9,0]\n",
    "list3=[34,6,8,90]"
   ]
  },
  {
   "cell_type": "code",
   "execution_count": 12,
   "id": "8be7899d",
   "metadata": {},
   "outputs": [
    {
     "name": "stderr",
     "output_type": "stream",
     "text": [
      "/tmp/ipykernel_13069/3001317434.py:1: VisibleDeprecationWarning: Creating an ndarray from ragged nested sequences (which is a list-or-tuple of lists-or-tuples-or ndarrays with different lengths or shapes) is deprecated. If you meant to do this, you must specify 'dtype=object' when creating the ndarray.\n",
      "  arr_3_dim=np.array([[1,2,3,4,5],[6,7,8,9,0],[34,6,8,90]])\n"
     ]
    }
   ],
   "source": [
    "arr_3_dim=np.array([[1,2,3,4,5],[6,7,8,9,0],[34,6,8,90]])"
   ]
  },
  {
   "cell_type": "code",
   "execution_count": 13,
   "id": "573826f6",
   "metadata": {},
   "outputs": [
    {
     "data": {
      "text/plain": [
       "array([list([1, 2, 3, 4, 5]), list([6, 7, 8, 9, 0]), list([34, 6, 8, 90])],\n",
       "      dtype=object)"
      ]
     },
     "execution_count": 13,
     "metadata": {},
     "output_type": "execute_result"
    }
   ],
   "source": [
    "arr_3_dim"
   ]
  },
  {
   "cell_type": "code",
   "execution_count": 14,
   "id": "ec46ce28",
   "metadata": {},
   "outputs": [
    {
     "data": {
      "text/plain": [
       "numpy.ndarray"
      ]
     },
     "execution_count": 14,
     "metadata": {},
     "output_type": "execute_result"
    }
   ],
   "source": [
    "type(arr_3_dim)"
   ]
  },
  {
   "cell_type": "code",
   "execution_count": 15,
   "id": "e83b3d80",
   "metadata": {},
   "outputs": [
    {
     "data": {
      "text/plain": [
       "1"
      ]
     },
     "execution_count": 15,
     "metadata": {},
     "output_type": "execute_result"
    }
   ],
   "source": [
    "arr_3_dim.ndim"
   ]
  },
  {
   "cell_type": "code",
   "execution_count": 16,
   "id": "4589c95d",
   "metadata": {},
   "outputs": [],
   "source": [
    "mat=np.matrix(list1)"
   ]
  },
  {
   "cell_type": "code",
   "execution_count": 17,
   "id": "f7f276a5",
   "metadata": {},
   "outputs": [
    {
     "data": {
      "text/plain": [
       "matrix([[1, 2, 3, 4, 5]])"
      ]
     },
     "execution_count": 17,
     "metadata": {},
     "output_type": "execute_result"
    }
   ],
   "source": [
    "mat"
   ]
  },
  {
   "cell_type": "code",
   "execution_count": 18,
   "id": "4392c397",
   "metadata": {},
   "outputs": [],
   "source": [
    "arr1=np.asarray(list1)"
   ]
  },
  {
   "cell_type": "code",
   "execution_count": 19,
   "id": "e97c4ab0",
   "metadata": {},
   "outputs": [
    {
     "data": {
      "text/plain": [
       "array([[1, 2, 3, 4, 5]])"
      ]
     },
     "execution_count": 19,
     "metadata": {},
     "output_type": "execute_result"
    }
   ],
   "source": [
    "np.asarray(mat)"
   ]
  },
  {
   "cell_type": "code",
   "execution_count": 20,
   "id": "b2123bd5",
   "metadata": {},
   "outputs": [],
   "source": [
    "arr1[0]=100"
   ]
  },
  {
   "cell_type": "code",
   "execution_count": 21,
   "id": "742ac429",
   "metadata": {},
   "outputs": [
    {
     "data": {
      "text/plain": [
       "array([100,   2,   3,   4,   5])"
      ]
     },
     "execution_count": 21,
     "metadata": {},
     "output_type": "execute_result"
    }
   ],
   "source": [
    "arr1"
   ]
  },
  {
   "cell_type": "code",
   "execution_count": 22,
   "id": "3cc9471a",
   "metadata": {},
   "outputs": [],
   "source": [
    "b=arr1.copy()"
   ]
  },
  {
   "cell_type": "code",
   "execution_count": 23,
   "id": "8abd8773",
   "metadata": {},
   "outputs": [
    {
     "data": {
      "text/plain": [
       "array([100,   2,   3,   4,   5])"
      ]
     },
     "execution_count": 23,
     "metadata": {},
     "output_type": "execute_result"
    }
   ],
   "source": [
    "b"
   ]
  },
  {
   "cell_type": "code",
   "execution_count": 24,
   "id": "2c302ff9",
   "metadata": {},
   "outputs": [],
   "source": [
    "arr1[0]=346"
   ]
  },
  {
   "cell_type": "code",
   "execution_count": 25,
   "id": "e43030a2",
   "metadata": {},
   "outputs": [
    {
     "data": {
      "text/plain": [
       "array([346,   2,   3,   4,   5])"
      ]
     },
     "execution_count": 25,
     "metadata": {},
     "output_type": "execute_result"
    }
   ],
   "source": [
    "arr1"
   ]
  },
  {
   "cell_type": "code",
   "execution_count": 26,
   "id": "5012ae82",
   "metadata": {},
   "outputs": [
    {
     "data": {
      "text/plain": [
       "array([100,   2,   3,   4,   5])"
      ]
     },
     "execution_count": 26,
     "metadata": {},
     "output_type": "execute_result"
    }
   ],
   "source": [
    "b"
   ]
  },
  {
   "cell_type": "code",
   "execution_count": 27,
   "id": "ff31e590",
   "metadata": {},
   "outputs": [
    {
     "data": {
      "text/plain": [
       "array([[ True, False, False, False],\n",
       "       [False,  True, False, False],\n",
       "       [False, False,  True, False],\n",
       "       [False, False, False,  True]])"
      ]
     },
     "execution_count": 27,
     "metadata": {},
     "output_type": "execute_result"
    }
   ],
   "source": [
    "np.fromfunction(lambda i,j: i==j,(4,4))"
   ]
  },
  {
   "cell_type": "code",
   "execution_count": 28,
   "id": "6aaba11f",
   "metadata": {},
   "outputs": [],
   "source": [
    "iter=(i*i for i in range(5))"
   ]
  },
  {
   "cell_type": "code",
   "execution_count": 29,
   "id": "cc39d8a6",
   "metadata": {},
   "outputs": [
    {
     "data": {
      "text/plain": [
       "array([ 0,  1,  4,  9, 16])"
      ]
     },
     "execution_count": 29,
     "metadata": {},
     "output_type": "execute_result"
    }
   ],
   "source": [
    "np.fromiter(iter,int)"
   ]
  },
  {
   "cell_type": "code",
   "execution_count": 34,
   "id": "225e4142",
   "metadata": {},
   "outputs": [
    {
     "data": {
      "text/plain": [
       "array([23., 45.,  6.,  7.])"
      ]
     },
     "execution_count": 34,
     "metadata": {},
     "output_type": "execute_result"
    }
   ],
   "source": [
    "\n",
    "np.fromstring(\"23 45 6 7 \", sep =\" \")"
   ]
  },
  {
   "cell_type": "code",
   "execution_count": 35,
   "id": "4896e497",
   "metadata": {},
   "outputs": [
    {
     "data": {
      "text/plain": [
       "(3,)"
      ]
     },
     "execution_count": 35,
     "metadata": {},
     "output_type": "execute_result"
    }
   ],
   "source": [
    "arr_3_dim.shape"
   ]
  },
  {
   "cell_type": "code",
   "execution_count": 37,
   "id": "82b2fe8c",
   "metadata": {},
   "outputs": [
    {
     "data": {
      "text/plain": [
       "3"
      ]
     },
     "execution_count": 37,
     "metadata": {},
     "output_type": "execute_result"
    }
   ],
   "source": [
    "arr_3_dim.size"
   ]
  },
  {
   "cell_type": "code",
   "execution_count": 39,
   "id": "217cd065",
   "metadata": {},
   "outputs": [
    {
     "data": {
      "text/plain": [
       "dtype('O')"
      ]
     },
     "execution_count": 39,
     "metadata": {},
     "output_type": "execute_result"
    }
   ],
   "source": [
    "arr_3_dim.dtype"
   ]
  },
  {
   "cell_type": "code",
   "execution_count": null,
   "id": "87c5a7db",
   "metadata": {},
   "outputs": [],
   "source": []
  }
 ],
 "metadata": {
  "kernelspec": {
   "display_name": "Python 3 (ipykernel)",
   "language": "python",
   "name": "python3"
  },
  "language_info": {
   "codemirror_mode": {
    "name": "ipython",
    "version": 3
   },
   "file_extension": ".py",
   "mimetype": "text/x-python",
   "name": "python",
   "nbconvert_exporter": "python",
   "pygments_lexer": "ipython3",
   "version": "3.10.6"
  }
 },
 "nbformat": 4,
 "nbformat_minor": 5
}
