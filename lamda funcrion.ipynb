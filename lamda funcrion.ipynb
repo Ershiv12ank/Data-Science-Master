{
 "cells": [
  {
   "cell_type": "code",
   "execution_count": 1,
   "id": "76eea751",
   "metadata": {},
   "outputs": [],
   "source": [
    "n=3\n",
    "m=2\n"
   ]
  },
  {
   "cell_type": "code",
   "execution_count": 2,
   "id": "05d488e6",
   "metadata": {},
   "outputs": [
    {
     "data": {
      "text/plain": [
       "9"
      ]
     },
     "execution_count": 2,
     "metadata": {},
     "output_type": "execute_result"
    }
   ],
   "source": [
    "n**m"
   ]
  },
  {
   "cell_type": "code",
   "execution_count": 4,
   "id": "3111b8a5",
   "metadata": {},
   "outputs": [],
   "source": [
    "def fun1(n,m):\n",
    "    c=n**m\n",
    "    return c"
   ]
  },
  {
   "cell_type": "code",
   "execution_count": 5,
   "id": "36c417a8",
   "metadata": {},
   "outputs": [
    {
     "data": {
      "text/plain": [
       "8"
      ]
     },
     "execution_count": 5,
     "metadata": {},
     "output_type": "execute_result"
    }
   ],
   "source": [
    "fun1(2,3)"
   ]
  },
  {
   "cell_type": "code",
   "execution_count": 7,
   "id": "cf5b924f",
   "metadata": {},
   "outputs": [],
   "source": [
    "a=lambda m,n: m**n"
   ]
  },
  {
   "cell_type": "code",
   "execution_count": 8,
   "id": "eb7943c6",
   "metadata": {},
   "outputs": [
    {
     "data": {
      "text/plain": [
       "81"
      ]
     },
     "execution_count": 8,
     "metadata": {},
     "output_type": "execute_result"
    }
   ],
   "source": [
    "a(3,4)"
   ]
  },
  {
   "cell_type": "code",
   "execution_count": 10,
   "id": "a7cfd00a",
   "metadata": {},
   "outputs": [],
   "source": [
    "add= lambda n,m : m+n"
   ]
  },
  {
   "cell_type": "code",
   "execution_count": 11,
   "id": "cf8722cd",
   "metadata": {},
   "outputs": [
    {
     "data": {
      "text/plain": [
       "68"
      ]
     },
     "execution_count": 11,
     "metadata": {},
     "output_type": "execute_result"
    }
   ],
   "source": [
    "add(23,45)"
   ]
  },
  {
   "cell_type": "code",
   "execution_count": 12,
   "id": "495b29cb",
   "metadata": {},
   "outputs": [],
   "source": [
    "sub=lambda n,m:m-n"
   ]
  },
  {
   "cell_type": "code",
   "execution_count": 13,
   "id": "39fd08c1",
   "metadata": {},
   "outputs": [
    {
     "data": {
      "text/plain": [
       "-39"
      ]
     },
     "execution_count": 13,
     "metadata": {},
     "output_type": "execute_result"
    }
   ],
   "source": [
    "sub(45,6)"
   ]
  },
  {
   "cell_type": "code",
   "execution_count": 14,
   "id": "1bc4da5e",
   "metadata": {},
   "outputs": [],
   "source": [
    "sub=lambda n,m:n-m"
   ]
  },
  {
   "cell_type": "code",
   "execution_count": 15,
   "id": "9e35b934",
   "metadata": {},
   "outputs": [
    {
     "data": {
      "text/plain": [
       "39"
      ]
     },
     "execution_count": 15,
     "metadata": {},
     "output_type": "execute_result"
    }
   ],
   "source": [
    "sub(45,6)"
   ]
  },
  {
   "cell_type": "code",
   "execution_count": 16,
   "id": "9183fcc1",
   "metadata": {},
   "outputs": [],
   "source": [
    "# lambda function to covert ceilsuse to farnhite \n",
    "\n",
    "c_to_f= lambda c: (9/5)*c+32"
   ]
  },
  {
   "cell_type": "code",
   "execution_count": 17,
   "id": "088d21a6",
   "metadata": {},
   "outputs": [
    {
     "data": {
      "text/plain": [
       "73.4"
      ]
     },
     "execution_count": 17,
     "metadata": {},
     "output_type": "execute_result"
    }
   ],
   "source": [
    "c_to_f(23)"
   ]
  },
  {
   "cell_type": "code",
   "execution_count": 18,
   "id": "1b670c7e",
   "metadata": {},
   "outputs": [],
   "source": [
    "# lambda function to conver string to list\n",
    "fun2= lambda str : list(str)"
   ]
  },
  {
   "cell_type": "code",
   "execution_count": 19,
   "id": "802c43ee",
   "metadata": {},
   "outputs": [
    {
     "data": {
      "text/plain": [
       "['s', 'h', 'i', 'v', 'a', 'n', 'k']"
      ]
     },
     "execution_count": 19,
     "metadata": {},
     "output_type": "execute_result"
    }
   ],
   "source": [
    "fun2('shivank')"
   ]
  },
  {
   "cell_type": "code",
   "execution_count": 21,
   "id": "a552cd45",
   "metadata": {},
   "outputs": [],
   "source": [
    "# lambda function to find the length of string \n",
    "fun2= lambda str : len(str)"
   ]
  },
  {
   "cell_type": "code",
   "execution_count": 22,
   "id": "1038f135",
   "metadata": {},
   "outputs": [
    {
     "data": {
      "text/plain": [
       "22"
      ]
     },
     "execution_count": 22,
     "metadata": {},
     "output_type": "execute_result"
    }
   ],
   "source": [
    "fun2(\"shivank is a good boy.\")"
   ]
  },
  {
   "cell_type": "code",
   "execution_count": 25,
   "id": "25c422a0",
   "metadata": {},
   "outputs": [],
   "source": [
    "# lambda function to find the maximum of two number  \n",
    "fun3= lambda x,y : x if x>y  else y"
   ]
  },
  {
   "cell_type": "code",
   "execution_count": 26,
   "id": "92ce54f9",
   "metadata": {},
   "outputs": [
    {
     "data": {
      "text/plain": [
       "45"
      ]
     },
     "execution_count": 26,
     "metadata": {},
     "output_type": "execute_result"
    }
   ],
   "source": [
    "fun3(23,45)"
   ]
  },
  {
   "cell_type": "code",
   "execution_count": null,
   "id": "00a9f5ce",
   "metadata": {},
   "outputs": [],
   "source": []
  }
 ],
 "metadata": {
  "kernelspec": {
   "display_name": "Python 3 (ipykernel)",
   "language": "python",
   "name": "python3"
  },
  "language_info": {
   "codemirror_mode": {
    "name": "ipython",
    "version": 3
   },
   "file_extension": ".py",
   "mimetype": "text/x-python",
   "name": "python",
   "nbconvert_exporter": "python",
   "pygments_lexer": "ipython3",
   "version": "3.10.6"
  }
 },
 "nbformat": 4,
 "nbformat_minor": 5
}
