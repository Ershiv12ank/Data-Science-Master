{
 "cells": [
  {
   "cell_type": "code",
   "execution_count": 5,
   "id": "86e76b6f",
   "metadata": {},
   "outputs": [
    {
     "name": "stdout",
     "output_type": "stream",
     "text": [
      "this is a statement\n"
     ]
    }
   ],
   "source": [
    "print(\"this is a statement\")"
   ]
  },
  {
   "cell_type": "code",
   "execution_count": 17,
   "id": "7003d3fa",
   "metadata": {},
   "outputs": [],
   "source": [
    "import logging"
   ]
  },
  {
   "cell_type": "code",
   "execution_count": 18,
   "id": "4e485095",
   "metadata": {},
   "outputs": [],
   "source": [
    "\n",
    "#logging.basicConfig(filename = \"tet1.log\" , level = logging.INFO)\n",
    "\n"
   ]
  },
  {
   "cell_type": "code",
   "execution_count": 19,
   "id": "e0428b65",
   "metadata": {},
   "outputs": [],
   "source": [
    "logging.info(\"this is information\")"
   ]
  },
  {
   "cell_type": "code",
   "execution_count": 20,
   "id": "916b8f5c",
   "metadata": {},
   "outputs": [],
   "source": [
    "logging.error(\"this is error\")"
   ]
  },
  {
   "cell_type": "code",
   "execution_count": 21,
   "id": "b2013a0a",
   "metadata": {},
   "outputs": [],
   "source": [
    "logging.critical(\"this is critical\")"
   ]
  },
  {
   "cell_type": "markdown",
   "id": "93d7ca26",
   "metadata": {},
   "source": [
    "1.noset\n",
    "2.debug\n",
    "3.info\n",
    "4.warning\n",
    "5.error\n",
    "6.critical\n"
   ]
  },
  {
   "cell_type": "code",
   "execution_count": 22,
   "id": "8d3bc2fe",
   "metadata": {},
   "outputs": [],
   "source": [
    "logging.basicConfig(filename=\"open1.log\" , level = logging.debug ,format = '%(asctime)s %(message)s')"
   ]
  },
  {
   "cell_type": "code",
   "execution_count": 23,
   "id": "031704e0",
   "metadata": {},
   "outputs": [],
   "source": [
    "logging.error(\"this is error in the program\")\n"
   ]
  },
  {
   "cell_type": "code",
   "execution_count": 24,
   "id": "3ca88434",
   "metadata": {},
   "outputs": [],
   "source": [
    "logging.info(\"this is an information\")"
   ]
  },
  {
   "cell_type": "code",
   "execution_count": 25,
   "id": "bbf2ab96",
   "metadata": {},
   "outputs": [],
   "source": [
    "logging.critical(\"this is an critical\")"
   ]
  },
  {
   "cell_type": "code",
   "execution_count": 26,
   "id": "7e3a1ccd",
   "metadata": {},
   "outputs": [],
   "source": [
    "#logging.shutdown()"
   ]
  },
  {
   "cell_type": "code",
   "execution_count": null,
   "id": "14da1897",
   "metadata": {},
   "outputs": [],
   "source": []
  },
  {
   "cell_type": "code",
   "execution_count": null,
   "id": "4751a8ef",
   "metadata": {},
   "outputs": [],
   "source": []
  },
  {
   "cell_type": "code",
   "execution_count": null,
   "id": "d9f44f9a",
   "metadata": {},
   "outputs": [],
   "source": []
  }
 ],
 "metadata": {
  "kernelspec": {
   "display_name": "Python 3 (ipykernel)",
   "language": "python",
   "name": "python3"
  },
  "language_info": {
   "codemirror_mode": {
    "name": "ipython",
    "version": 3
   },
   "file_extension": ".py",
   "mimetype": "text/x-python",
   "name": "python",
   "nbconvert_exporter": "python",
   "pygments_lexer": "ipython3",
   "version": "3.10.6"
  }
 },
 "nbformat": 4,
 "nbformat_minor": 5
}
