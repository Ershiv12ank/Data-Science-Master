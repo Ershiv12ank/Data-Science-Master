{
 "cells": [
  {
   "cell_type": "code",
   "execution_count": 1,
   "id": "6da92383",
   "metadata": {},
   "outputs": [],
   "source": [
    "def test(num):\n",
    "    print(\"the value id {}\".format(num))\n",
    "    \n",
    "    "
   ]
  },
  {
   "cell_type": "code",
   "execution_count": 2,
   "id": "20af2c27",
   "metadata": {},
   "outputs": [
    {
     "name": "stdout",
     "output_type": "stream",
     "text": [
      "the value id 8\n"
     ]
    }
   ],
   "source": [
    "test(8)"
   ]
  },
  {
   "cell_type": "code",
   "execution_count": 3,
   "id": "7f93aef2",
   "metadata": {},
   "outputs": [
    {
     "name": "stdout",
     "output_type": "stream",
     "text": [
      "the value id 76\n"
     ]
    }
   ],
   "source": [
    "test(76)"
   ]
  },
  {
   "cell_type": "code",
   "execution_count": 4,
   "id": "626fa5f4",
   "metadata": {},
   "outputs": [
    {
     "name": "stdout",
     "output_type": "stream",
     "text": [
      "the value id 87\n"
     ]
    }
   ],
   "source": [
    "test(87)"
   ]
  },
  {
   "cell_type": "code",
   "execution_count": 5,
   "id": "17623960",
   "metadata": {},
   "outputs": [],
   "source": [
    "list=[2,44,67,8,3,2,4]"
   ]
  },
  {
   "cell_type": "code",
   "execution_count": 6,
   "id": "22879f7b",
   "metadata": {},
   "outputs": [],
   "source": [
    "import threading as td"
   ]
  },
  {
   "cell_type": "code",
   "execution_count": 7,
   "id": "3b4dab8d",
   "metadata": {},
   "outputs": [],
   "source": [
    "thread=[td.Thread(target =test , args=(i,))for i in list]"
   ]
  },
  {
   "cell_type": "code",
   "execution_count": 8,
   "id": "547bbfc4",
   "metadata": {},
   "outputs": [
    {
     "data": {
      "text/plain": [
       "[<Thread(Thread-5 (test), initial)>,\n",
       " <Thread(Thread-6 (test), initial)>,\n",
       " <Thread(Thread-7 (test), initial)>,\n",
       " <Thread(Thread-8 (test), initial)>,\n",
       " <Thread(Thread-9 (test), initial)>,\n",
       " <Thread(Thread-10 (test), initial)>,\n",
       " <Thread(Thread-11 (test), initial)>]"
      ]
     },
     "execution_count": 8,
     "metadata": {},
     "output_type": "execute_result"
    }
   ],
   "source": [
    "thread"
   ]
  },
  {
   "cell_type": "code",
   "execution_count": 9,
   "id": "6cdf6039",
   "metadata": {},
   "outputs": [
    {
     "name": "stdout",
     "output_type": "stream",
     "text": [
      "the value id 2\n",
      "the value id 44\n",
      "the value id 67\n",
      "the value id 8\n",
      "the value id 3\n",
      "the value id 2\n",
      "the value id 4\n"
     ]
    }
   ],
   "source": [
    "for t in thread:\n",
    "    t.start()"
   ]
  },
  {
   "cell_type": "code",
   "execution_count": 10,
   "id": "208ca692",
   "metadata": {},
   "outputs": [],
   "source": [
    "thread1=[td.Thread(target=test,args=(i,)) for i in range(0,17)]"
   ]
  },
  {
   "cell_type": "code",
   "execution_count": 11,
   "id": "feffebf5",
   "metadata": {},
   "outputs": [
    {
     "data": {
      "text/plain": [
       "[<Thread(Thread-12 (test), initial)>,\n",
       " <Thread(Thread-13 (test), initial)>,\n",
       " <Thread(Thread-14 (test), initial)>,\n",
       " <Thread(Thread-15 (test), initial)>,\n",
       " <Thread(Thread-16 (test), initial)>,\n",
       " <Thread(Thread-17 (test), initial)>,\n",
       " <Thread(Thread-18 (test), initial)>,\n",
       " <Thread(Thread-19 (test), initial)>,\n",
       " <Thread(Thread-20 (test), initial)>,\n",
       " <Thread(Thread-21 (test), initial)>,\n",
       " <Thread(Thread-22 (test), initial)>,\n",
       " <Thread(Thread-23 (test), initial)>,\n",
       " <Thread(Thread-24 (test), initial)>,\n",
       " <Thread(Thread-25 (test), initial)>,\n",
       " <Thread(Thread-26 (test), initial)>,\n",
       " <Thread(Thread-27 (test), initial)>,\n",
       " <Thread(Thread-28 (test), initial)>]"
      ]
     },
     "execution_count": 11,
     "metadata": {},
     "output_type": "execute_result"
    }
   ],
   "source": [
    "thread1"
   ]
  },
  {
   "cell_type": "code",
   "execution_count": 12,
   "id": "86da0cf3",
   "metadata": {},
   "outputs": [
    {
     "name": "stdout",
     "output_type": "stream",
     "text": [
      "the value id 0\n",
      "the value id 1\n",
      "the value id 2\n",
      "the value id 3\n",
      "the value id 4\n",
      "the value id 5\n",
      "the value id 6\n",
      "the value id 7\n",
      "the value id 8\n",
      "the value id 9\n",
      "the value id 10\n",
      "the value id 11\n",
      "the value id 12\n",
      "the value id 13\n",
      "the value id 14\n",
      "the value id 15\n",
      "the value id 16\n"
     ]
    }
   ],
   "source": [
    "for n in thread1:\n",
    "    n.start()"
   ]
  },
  {
   "cell_type": "code",
   "execution_count": 13,
   "id": "4363a5cb",
   "metadata": {},
   "outputs": [],
   "source": [
    "import urllib.request as ur"
   ]
  },
  {
   "cell_type": "code",
   "execution_count": 14,
   "id": "ad738beb",
   "metadata": {},
   "outputs": [],
   "source": [
    "def url_file(url , filename):\n",
    "    ur.urlretrieve(url , filename)"
   ]
  },
  {
   "cell_type": "code",
   "execution_count": 15,
   "id": "1ef67cf1",
   "metadata": {},
   "outputs": [],
   "source": [
    "a=url_file(\"https://www.rfc-editor.org/rfc/rfc2397\", \"text.txt\")"
   ]
  },
  {
   "cell_type": "code",
   "execution_count": 16,
   "id": "6075dbfb",
   "metadata": {},
   "outputs": [],
   "source": [
    "a"
   ]
  },
  {
   "cell_type": "code",
   "execution_count": 17,
   "id": "5399771d",
   "metadata": {},
   "outputs": [],
   "source": [
    "url=[\"https://www.rfc-editor.org/rfc/rfc2397\",\"https://www.mdpi.com/journal/sensors/special_issues/URLLTI\",\"V\"]"
   ]
  },
  {
   "cell_type": "code",
   "execution_count": 18,
   "id": "27859cc9",
   "metadata": {},
   "outputs": [],
   "source": [
    "filename=[\"text1.txt\",\"text3.txt\",\"text2.txt\"]"
   ]
  },
  {
   "cell_type": "code",
   "execution_count": null,
   "id": "b5af0f63",
   "metadata": {},
   "outputs": [],
   "source": []
  },
  {
   "cell_type": "code",
   "execution_count": null,
   "id": "673d3c74",
   "metadata": {},
   "outputs": [],
   "source": []
  },
  {
   "cell_type": "code",
   "execution_count": 19,
   "id": "ea33e82b",
   "metadata": {},
   "outputs": [],
   "source": [
    "thread1=[td.Thread(target =url_file , args=(url[i],filename[i])) for i in range(len(url))]"
   ]
  },
  {
   "cell_type": "code",
   "execution_count": 20,
   "id": "99030f89",
   "metadata": {},
   "outputs": [
    {
     "name": "stderr",
     "output_type": "stream",
     "text": [
      "Exception in thread Thread-31 (url_file):\n",
      "Traceback (most recent call last):\n",
      "  File \"/usr/lib/python3.10/threading.py\", line 1016, in _bootstrap_inner\n",
      "    self.run()\n",
      "  File \"/usr/lib/python3.10/threading.py\", line 953, in run\n",
      "    self._target(*self._args, **self._kwargs)\n",
      "  File \"/tmp/ipykernel_9861/142152384.py\", line 2, in url_file\n",
      "  File \"/usr/lib/python3.10/urllib/request.py\", line 241, in urlretrieve\n",
      "    with contextlib.closing(urlopen(url, data)) as fp:\n",
      "  File \"/usr/lib/python3.10/urllib/request.py\", line 216, in urlopen\n",
      "    return opener.open(url, data, timeout)\n",
      "  File \"/usr/lib/python3.10/urllib/request.py\", line 503, in open\n",
      "    req = Request(fullurl, data)\n",
      "  File \"/usr/lib/python3.10/urllib/request.py\", line 322, in __init__\n",
      "    self.full_url = url\n",
      "  File \"/usr/lib/python3.10/urllib/request.py\", line 348, in full_url\n",
      "    self._parse()\n",
      "  File \"/usr/lib/python3.10/urllib/request.py\", line 377, in _parse\n",
      "    raise ValueError(\"unknown url type: %r\" % self.full_url)\n",
      "ValueError: unknown url type: 'V'\n"
     ]
    }
   ],
   "source": [
    "for t in thread1:\n",
    "    t.start()"
   ]
  },
  {
   "cell_type": "code",
   "execution_count": 21,
   "id": "3315869d",
   "metadata": {},
   "outputs": [],
   "source": [
    "import time"
   ]
  },
  {
   "cell_type": "code",
   "execution_count": 22,
   "id": "8d0f2f27",
   "metadata": {},
   "outputs": [],
   "source": [
    "def text2(x):\n",
    "    for i in range(10):\n",
    "        print(f\"the value of x is {x} and the value of i is {i} here\")\n",
    "    time.sleep(40)"
   ]
  },
  {
   "cell_type": "code",
   "execution_count": 23,
   "id": "9e896972",
   "metadata": {},
   "outputs": [
    {
     "name": "stdout",
     "output_type": "stream",
     "text": [
      "the value of x is 12 and the value of i is 0 here\n",
      "the value of x is 12 and the value of i is 1 here\n",
      "the value of x is 12 and the value of i is 2 here\n",
      "the value of x is 12 and the value of i is 3 here\n",
      "the value of x is 12 and the value of i is 4 here\n",
      "the value of x is 12 and the value of i is 5 here\n",
      "the value of x is 12 and the value of i is 6 here\n",
      "the value of x is 12 and the value of i is 7 here\n",
      "the value of x is 12 and the value of i is 8 here\n",
      "the value of x is 12 and the value of i is 9 here\n"
     ]
    },
    {
     "name": "stderr",
     "output_type": "stream",
     "text": [
      "Exception in thread Thread-30 (url_file):\n",
      "Traceback (most recent call last):\n",
      "  File \"/usr/lib/python3.10/threading.py\", line 1016, in _bootstrap_inner\n",
      "    self.run()\n",
      "  File \"/usr/lib/python3.10/threading.py\", line 953, in run\n",
      "    self._target(*self._args, **self._kwargs)\n",
      "  File \"/tmp/ipykernel_9861/142152384.py\", line 2, in url_file\n",
      "  File \"/usr/lib/python3.10/urllib/request.py\", line 241, in urlretrieve\n",
      "    with contextlib.closing(urlopen(url, data)) as fp:\n",
      "  File \"/usr/lib/python3.10/urllib/request.py\", line 216, in urlopen\n",
      "    return opener.open(url, data, timeout)\n",
      "  File \"/usr/lib/python3.10/urllib/request.py\", line 525, in open\n",
      "    response = meth(req, response)\n",
      "  File \"/usr/lib/python3.10/urllib/request.py\", line 634, in http_response\n",
      "    response = self.parent.error(\n",
      "  File \"/usr/lib/python3.10/urllib/request.py\", line 563, in error\n",
      "    return self._call_chain(*args)\n",
      "  File \"/usr/lib/python3.10/urllib/request.py\", line 496, in _call_chain\n",
      "    result = func(*args)\n",
      "  File \"/usr/lib/python3.10/urllib/request.py\", line 643, in http_error_default\n",
      "    raise HTTPError(req.full_url, code, msg, hdrs, fp)\n",
      "urllib.error.HTTPError: HTTP Error 403: Forbidden\n"
     ]
    }
   ],
   "source": [
    "text2(12)"
   ]
  },
  {
   "cell_type": "code",
   "execution_count": 24,
   "id": "444a1020",
   "metadata": {},
   "outputs": [],
   "source": [
    "thread2 = [td.Thread(target=text2 , args=(i,)) for i in [1,2,4,5]]"
   ]
  },
  {
   "cell_type": "code",
   "execution_count": 25,
   "id": "51861ecf",
   "metadata": {},
   "outputs": [
    {
     "name": "stdout",
     "output_type": "stream",
     "text": [
      "the value of x is 1 and the value of i is 0 here\n",
      "the value of x is 1 and the value of i is 1 here\n",
      "the value of x is 1 and the value of i is 2 here\n",
      "the value of x is 1 and the value of i is 3 here\n",
      "the value of x is 1 and the value of i is 4 here\n",
      "the value of x is 1 and the value of i is 5 here\n",
      "the value of x is 1 and the value of i is 6 here\n",
      "the value of x is 1 and the value of i is 7 here\n",
      "the value of x is 1 and the value of i is 8 here\n",
      "the value of x is 1 and the value of i is 9 here\n",
      "the value of x is 2 and the value of i is 0 here\n",
      "the value of x is 2 and the value of i is 1 here\n",
      "the value of x is 2 and the value of i is 2 here\n",
      "the value of x is 2 and the value of i is 3 here\n",
      "the value of x is 2 and the value of i is 4 here\n",
      "the value of x is 2 and the value of i is 5 here\n",
      "the value of x is 2 and the value of i is 6 here\n",
      "the value of x is 2 and the value of i is 7 here\n",
      "the value of x is 2 and the value of i is 8 here\n",
      "the value of x is 2 and the value of i is 9 here\n",
      "the value of x is 4 and the value of i is 0 here\n",
      "the value of x is 4 and the value of i is 1 here\n",
      "the value of x is 4 and the value of i is 2 here\n",
      "the value of x is 4 and the value of i is 3 here\n",
      "the value of x is 4 and the value of i is 4 here\n",
      "the value of x is 4 and the value of i is 5 here\n",
      "the value of x is 4 and the value of i is 6 here\n",
      "the value of x is 4 and the value of i is 7 here\n",
      "the value of x is 4 and the value of i is 8 here\n",
      "the value of x is 4 and the value of i is 9 here\n",
      "the value of x is 5 and the value of i is 0 here\n",
      "the value of x is 5 and the value of i is 1 here\n",
      "the value of x is 5 and the value of i is 2 here\n",
      "the value of x is 5 and the value of i is 3 here\n",
      "the value of x is 5 and the value of i is 4 here\n",
      "the value of x is 5 and the value of i is 5 here\n",
      "the value of x is 5 and the value of i is 6 here\n",
      "the value of x is 5 and the value of i is 7 here\n",
      "the value of x is 5 and the value of i is 8 here\n",
      "the value of x is 5 and the value of i is 9 here\n"
     ]
    }
   ],
   "source": [
    "for t in thread2:\n",
    "    t.start()"
   ]
  },
  {
   "cell_type": "code",
   "execution_count": null,
   "id": "6ec8f8a9",
   "metadata": {},
   "outputs": [],
   "source": []
  },
  {
   "cell_type": "code",
   "execution_count": null,
   "id": "a719f9b6",
   "metadata": {},
   "outputs": [],
   "source": []
  },
  {
   "cell_type": "code",
   "execution_count": null,
   "id": "952385e2",
   "metadata": {},
   "outputs": [],
   "source": []
  },
  {
   "cell_type": "code",
   "execution_count": null,
   "id": "4985b64d",
   "metadata": {},
   "outputs": [],
   "source": []
  }
 ],
 "metadata": {
  "kernelspec": {
   "display_name": "Python 3 (ipykernel)",
   "language": "python",
   "name": "python3"
  },
  "language_info": {
   "codemirror_mode": {
    "name": "ipython",
    "version": 3
   },
   "file_extension": ".py",
   "mimetype": "text/x-python",
   "name": "python",
   "nbconvert_exporter": "python",
   "pygments_lexer": "ipython3",
   "version": "3.10.6"
  }
 },
 "nbformat": 4,
 "nbformat_minor": 5
}
