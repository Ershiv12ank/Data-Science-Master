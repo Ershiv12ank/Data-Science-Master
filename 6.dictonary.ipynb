{
 "cells": [
  {
   "cell_type": "markdown",
   "id": "b1af68a6",
   "metadata": {},
   "source": [
    "# Dicitionary"
   ]
  },
  {
   "cell_type": "code",
   "execution_count": 70,
   "id": "ce1fc993",
   "metadata": {},
   "outputs": [],
   "source": [
    "d={}"
   ]
  },
  {
   "cell_type": "code",
   "execution_count": 71,
   "id": "fee78041",
   "metadata": {},
   "outputs": [
    {
     "data": {
      "text/plain": [
       "dict"
      ]
     },
     "execution_count": 71,
     "metadata": {},
     "output_type": "execute_result"
    }
   ],
   "source": [
    "type(d)"
   ]
  },
  {
   "cell_type": "code",
   "execution_count": 72,
   "id": "3942cedb",
   "metadata": {},
   "outputs": [],
   "source": [
    "dic_1={\"Name\":\"shivank pandey\", \"contact number\":\"7974048305\",\"college\":\"sati vidisha\"}"
   ]
  },
  {
   "cell_type": "code",
   "execution_count": 73,
   "id": "4eea8487",
   "metadata": {},
   "outputs": [
    {
     "data": {
      "text/plain": [
       "{'Name': 'shivank pandey',\n",
       " 'contact number': '7974048305',\n",
       " 'college': 'sati vidisha'}"
      ]
     },
     "execution_count": 73,
     "metadata": {},
     "output_type": "execute_result"
    }
   ],
   "source": [
    "dic_1"
   ]
  },
  {
   "cell_type": "code",
   "execution_count": 74,
   "id": "8e839ba1",
   "metadata": {},
   "outputs": [],
   "source": [
    "dic_2={\"shivank\":34}"
   ]
  },
  {
   "cell_type": "code",
   "execution_count": 75,
   "id": "06a60041",
   "metadata": {},
   "outputs": [
    {
     "data": {
      "text/plain": [
       "{'shivank': 34}"
      ]
     },
     "execution_count": 75,
     "metadata": {},
     "output_type": "execute_result"
    }
   ],
   "source": [
    "dic_2"
   ]
  },
  {
   "cell_type": "code",
   "execution_count": 76,
   "id": "bcedfb79",
   "metadata": {},
   "outputs": [],
   "source": [
    "dic_3={1:34}"
   ]
  },
  {
   "cell_type": "code",
   "execution_count": 77,
   "id": "b2b452b2",
   "metadata": {},
   "outputs": [
    {
     "data": {
      "text/plain": [
       "{1: 34}"
      ]
     },
     "execution_count": 77,
     "metadata": {},
     "output_type": "execute_result"
    }
   ],
   "source": [
    "dic_3"
   ]
  },
  {
   "cell_type": "code",
   "execution_count": 78,
   "id": "1dcb9d7d",
   "metadata": {},
   "outputs": [],
   "source": [
    "dic_4={45.6:34}"
   ]
  },
  {
   "cell_type": "code",
   "execution_count": 79,
   "id": "de211c98",
   "metadata": {},
   "outputs": [
    {
     "data": {
      "text/plain": [
       "{45.6: 34}"
      ]
     },
     "execution_count": 79,
     "metadata": {},
     "output_type": "execute_result"
    }
   ],
   "source": [
    "dic_4"
   ]
  },
  {
   "cell_type": "code",
   "execution_count": 80,
   "id": "5629f328",
   "metadata": {},
   "outputs": [],
   "source": [
    "dic_5={43:\"shivank\"}"
   ]
  },
  {
   "cell_type": "code",
   "execution_count": 81,
   "id": "ba6d163e",
   "metadata": {},
   "outputs": [
    {
     "data": {
      "text/plain": [
       "{43: 'shivank'}"
      ]
     },
     "execution_count": 81,
     "metadata": {},
     "output_type": "execute_result"
    }
   ],
   "source": [
    "dic_5"
   ]
  },
  {
   "cell_type": "code",
   "execution_count": 82,
   "id": "1b099f33",
   "metadata": {},
   "outputs": [],
   "source": [
    "dic_6={43:\"shivank\",43:\"satendra\"} #key should be unique"
   ]
  },
  {
   "cell_type": "code",
   "execution_count": 83,
   "id": "036d5e39",
   "metadata": {},
   "outputs": [
    {
     "data": {
      "text/plain": [
       "{43: 'satendra'}"
      ]
     },
     "execution_count": 83,
     "metadata": {},
     "output_type": "execute_result"
    }
   ],
   "source": [
    "dic_6"
   ]
  },
  {
   "cell_type": "code",
   "execution_count": 84,
   "id": "d69dfd05",
   "metadata": {},
   "outputs": [
    {
     "ename": "TypeError",
     "evalue": "unhashable type: 'list'",
     "output_type": "error",
     "traceback": [
      "\u001b[1;31m---------------------------------------------------------------------------\u001b[0m",
      "\u001b[1;31mTypeError\u001b[0m                                 Traceback (most recent call last)",
      "Cell \u001b[1;32mIn[84], line 1\u001b[0m\n\u001b[1;32m----> 1\u001b[0m dic_7\u001b[38;5;241m=\u001b[39m{[\u001b[38;5;241m1\u001b[39m,\u001b[38;5;241m2\u001b[39m,\u001b[38;5;241m3\u001b[39m]:\u001b[38;5;124m\"\u001b[39m\u001b[38;5;124mshivank\u001b[39m\u001b[38;5;124m\"\u001b[39m}\n",
      "\u001b[1;31mTypeError\u001b[0m: unhashable type: 'list'"
     ]
    }
   ],
   "source": [
    "\n",
    "\n",
    "dic_7={[1,2,3]:\"shivank\"} #list are not allowed as a key"
   ]
  },
  {
   "cell_type": "code",
   "execution_count": 85,
   "id": "695a7985",
   "metadata": {},
   "outputs": [],
   "source": [
    "dic_8={(1,2,3):\"shivank\"} #tuple  are  allowed as a key"
   ]
  },
  {
   "cell_type": "code",
   "execution_count": 86,
   "id": "93f9d0f8",
   "metadata": {},
   "outputs": [
    {
     "data": {
      "text/plain": [
       "{(1, 2, 3): 'shivank'}"
      ]
     },
     "execution_count": 86,
     "metadata": {},
     "output_type": "execute_result"
    }
   ],
   "source": [
    "dic_8"
   ]
  },
  {
   "cell_type": "code",
   "execution_count": 87,
   "id": "97fea721",
   "metadata": {},
   "outputs": [
    {
     "ename": "TypeError",
     "evalue": "unhashable type: 'set'",
     "output_type": "error",
     "traceback": [
      "\u001b[1;31m---------------------------------------------------------------------------\u001b[0m",
      "\u001b[1;31mTypeError\u001b[0m                                 Traceback (most recent call last)",
      "Cell \u001b[1;32mIn[87], line 1\u001b[0m\n\u001b[1;32m----> 1\u001b[0m dic_8\u001b[38;5;241m=\u001b[39m{{\u001b[38;5;241m1\u001b[39m,\u001b[38;5;241m2\u001b[39m,\u001b[38;5;241m3\u001b[39m}:\u001b[38;5;124m\"\u001b[39m\u001b[38;5;124mshivank\u001b[39m\u001b[38;5;124m\"\u001b[39m}\n",
      "\u001b[1;31mTypeError\u001b[0m: unhashable type: 'set'"
     ]
    }
   ],
   "source": [
    "dic_8={{1,2,3}:\"shivank\"} #set  are  not allowed as a key"
   ]
  },
  {
   "cell_type": "code",
   "execution_count": null,
   "id": "7c7451d1",
   "metadata": {},
   "outputs": [],
   "source": [
    "dic_8={{\"Name\":\"shivank\"}:\"abcd\"} # not allowed"
   ]
  },
  {
   "cell_type": "code",
   "execution_count": 88,
   "id": "99e12e4b",
   "metadata": {},
   "outputs": [],
   "source": [
    "dic_9={\"name\":[1,2,3,4,]} #we can used list as a value "
   ]
  },
  {
   "cell_type": "code",
   "execution_count": 89,
   "id": "28e14a4b",
   "metadata": {},
   "outputs": [
    {
     "data": {
      "text/plain": [
       "{'name': [1, 2, 3, 4]}"
      ]
     },
     "execution_count": 89,
     "metadata": {},
     "output_type": "execute_result"
    }
   ],
   "source": [
    "dic_9"
   ]
  },
  {
   "cell_type": "code",
   "execution_count": 90,
   "id": "9a649f54",
   "metadata": {},
   "outputs": [],
   "source": [
    "dic_10={\"name\":(1,2,3,4,)} #we can used tuple as a value "
   ]
  },
  {
   "cell_type": "code",
   "execution_count": 91,
   "id": "2ee48e05",
   "metadata": {},
   "outputs": [
    {
     "data": {
      "text/plain": [
       "{'name': (1, 2, 3, 4)}"
      ]
     },
     "execution_count": 91,
     "metadata": {},
     "output_type": "execute_result"
    }
   ],
   "source": [
    "dic_10"
   ]
  },
  {
   "cell_type": "code",
   "execution_count": 92,
   "id": "b7d1f32f",
   "metadata": {},
   "outputs": [],
   "source": [
    "dic_11={\"name\":{1,2,3,4}} #we can used set as a value "
   ]
  },
  {
   "cell_type": "code",
   "execution_count": 93,
   "id": "a362a2cd",
   "metadata": {},
   "outputs": [
    {
     "data": {
      "text/plain": [
       "{'name': {1, 2, 3, 4}}"
      ]
     },
     "execution_count": 93,
     "metadata": {},
     "output_type": "execute_result"
    }
   ],
   "source": [
    "dic_11"
   ]
  },
  {
   "cell_type": "code",
   "execution_count": 94,
   "id": "292b5fd5",
   "metadata": {},
   "outputs": [],
   "source": [
    "dic_12 = {\"course\":[\"data science\",\"web development\",\"computer network\",\"data structure \"], \"duration\":(6,7,10,12),\"faculty name\":{\"pankaj sharma\",\"krish nayak\",\"shivank\",\"alakh pandey\"}}"
   ]
  },
  {
   "cell_type": "code",
   "execution_count": 95,
   "id": "208bd70b",
   "metadata": {},
   "outputs": [
    {
     "data": {
      "text/plain": [
       "{'course': ['data science',\n",
       "  'web development',\n",
       "  'computer network',\n",
       "  'data structure '],\n",
       " 'duration': (6, 7, 10, 12),\n",
       " 'faculty name': {'alakh pandey', 'krish nayak', 'pankaj sharma', 'shivank'}}"
      ]
     },
     "execution_count": 95,
     "metadata": {},
     "output_type": "execute_result"
    }
   ],
   "source": [
    "dic_12"
   ]
  },
  {
   "cell_type": "code",
   "execution_count": 96,
   "id": "c552bc55",
   "metadata": {},
   "outputs": [],
   "source": [
    "# add new key in the dictionary\n",
    "dic_12[\"timeing\"]=(12,34,34)"
   ]
  },
  {
   "cell_type": "code",
   "execution_count": 97,
   "id": "d75e0684",
   "metadata": {},
   "outputs": [
    {
     "data": {
      "text/plain": [
       "{'course': ['data science',\n",
       "  'web development',\n",
       "  'computer network',\n",
       "  'data structure '],\n",
       " 'duration': (6, 7, 10, 12),\n",
       " 'faculty name': {'alakh pandey', 'krish nayak', 'pankaj sharma', 'shivank'},\n",
       " 'timeing': (12, 34, 34)}"
      ]
     },
     "execution_count": 97,
     "metadata": {},
     "output_type": "execute_result"
    }
   ],
   "source": [
    "dic_12 # if the key is same then the value is updated"
   ]
  },
  {
   "cell_type": "code",
   "execution_count": 98,
   "id": "c670c79d",
   "metadata": {},
   "outputs": [],
   "source": [
    "#how to get the value and the data type of the value by using key name\n"
   ]
  },
  {
   "cell_type": "code",
   "execution_count": 99,
   "id": "db564bbf",
   "metadata": {},
   "outputs": [
    {
     "data": {
      "text/plain": [
       "['data science', 'web development', 'computer network', 'data structure ']"
      ]
     },
     "execution_count": 99,
     "metadata": {},
     "output_type": "execute_result"
    }
   ],
   "source": [
    "dic_12['course']"
   ]
  },
  {
   "cell_type": "code",
   "execution_count": 100,
   "id": "c7a81109",
   "metadata": {},
   "outputs": [
    {
     "data": {
      "text/plain": [
       "list"
      ]
     },
     "execution_count": 100,
     "metadata": {},
     "output_type": "execute_result"
    }
   ],
   "source": [
    "type(dic_12['course'])"
   ]
  },
  {
   "cell_type": "code",
   "execution_count": 101,
   "id": "5d08c1d0",
   "metadata": {},
   "outputs": [
    {
     "data": {
      "text/plain": [
       "(12, 34, 34)"
      ]
     },
     "execution_count": 101,
     "metadata": {},
     "output_type": "execute_result"
    }
   ],
   "source": [
    "dic_12['timeing']"
   ]
  },
  {
   "cell_type": "code",
   "execution_count": 102,
   "id": "4c99ad38",
   "metadata": {},
   "outputs": [
    {
     "data": {
      "text/plain": [
       "tuple"
      ]
     },
     "execution_count": 102,
     "metadata": {},
     "output_type": "execute_result"
    }
   ],
   "source": [
    "type(dic_12['timeing'])"
   ]
  },
  {
   "cell_type": "code",
   "execution_count": 103,
   "id": "9cb18fd9",
   "metadata": {},
   "outputs": [],
   "source": [
    "dic_12[\"addres\"]=\"satna\""
   ]
  },
  {
   "cell_type": "code",
   "execution_count": 104,
   "id": "709b9475",
   "metadata": {},
   "outputs": [
    {
     "data": {
      "text/plain": [
       "{'course': ['data science',\n",
       "  'web development',\n",
       "  'computer network',\n",
       "  'data structure '],\n",
       " 'duration': (6, 7, 10, 12),\n",
       " 'faculty name': {'alakh pandey', 'krish nayak', 'pankaj sharma', 'shivank'},\n",
       " 'timeing': (12, 34, 34),\n",
       " 'addres': 'satna'}"
      ]
     },
     "execution_count": 104,
     "metadata": {},
     "output_type": "execute_result"
    }
   ],
   "source": [
    "dic_12"
   ]
  },
  {
   "cell_type": "code",
   "execution_count": 105,
   "id": "c6ff373c",
   "metadata": {},
   "outputs": [
    {
     "data": {
      "text/plain": [
       "'satna'"
      ]
     },
     "execution_count": 105,
     "metadata": {},
     "output_type": "execute_result"
    }
   ],
   "source": [
    "dic_12[\"addres\"]"
   ]
  },
  {
   "cell_type": "code",
   "execution_count": 106,
   "id": "bc701f6b",
   "metadata": {},
   "outputs": [
    {
     "data": {
      "text/plain": [
       "'SATNA'"
      ]
     },
     "execution_count": 106,
     "metadata": {},
     "output_type": "execute_result"
    }
   ],
   "source": [
    "dic_12[\"addres\"].upper()"
   ]
  },
  {
   "cell_type": "code",
   "execution_count": 107,
   "id": "9c04360e",
   "metadata": {},
   "outputs": [
    {
     "data": {
      "text/plain": [
       "'satna'"
      ]
     },
     "execution_count": 107,
     "metadata": {},
     "output_type": "execute_result"
    }
   ],
   "source": [
    "dic_12[\"addres\"].lower()"
   ]
  },
  {
   "cell_type": "code",
   "execution_count": 108,
   "id": "6cb53a03",
   "metadata": {},
   "outputs": [],
   "source": [
    "dic_13={\"key\":{\"name\":\"shivank\",\"addres\":\"satna\",\"course\":\"data science\"}}"
   ]
  },
  {
   "cell_type": "code",
   "execution_count": 109,
   "id": "b128b8d1",
   "metadata": {},
   "outputs": [
    {
     "data": {
      "text/plain": [
       "{'key': {'name': 'shivank', 'addres': 'satna', 'course': 'data science'}}"
      ]
     },
     "execution_count": 109,
     "metadata": {},
     "output_type": "execute_result"
    }
   ],
   "source": [
    "dic_13"
   ]
  },
  {
   "cell_type": "code",
   "execution_count": 110,
   "id": "082ccf49",
   "metadata": {},
   "outputs": [
    {
     "data": {
      "text/plain": [
       "{'name': 'shivank', 'addres': 'satna', 'course': 'data science'}"
      ]
     },
     "execution_count": 110,
     "metadata": {},
     "output_type": "execute_result"
    }
   ],
   "source": [
    "dic_13['key']"
   ]
  },
  {
   "cell_type": "code",
   "execution_count": 111,
   "id": "d0134d3e",
   "metadata": {},
   "outputs": [
    {
     "data": {
      "text/plain": [
       "'shivank'"
      ]
     },
     "execution_count": 111,
     "metadata": {},
     "output_type": "execute_result"
    }
   ],
   "source": [
    "dic_13['key']['name']"
   ]
  },
  {
   "cell_type": "code",
   "execution_count": 112,
   "id": "a53cb62a",
   "metadata": {},
   "outputs": [
    {
     "data": {
      "text/plain": [
       "{'key': {'name': 'shivank', 'addres': 'satna', 'course': 'data science'}}"
      ]
     },
     "execution_count": 112,
     "metadata": {},
     "output_type": "execute_result"
    }
   ],
   "source": [
    "dic_13"
   ]
  },
  {
   "cell_type": "code",
   "execution_count": 113,
   "id": "3b0cde04",
   "metadata": {},
   "outputs": [],
   "source": [
    "dic_13['name']='abcd'"
   ]
  },
  {
   "cell_type": "code",
   "execution_count": 114,
   "id": "a3636d95",
   "metadata": {},
   "outputs": [
    {
     "data": {
      "text/plain": [
       "{'key': {'name': 'shivank', 'addres': 'satna', 'course': 'data science'},\n",
       " 'name': 'abcd'}"
      ]
     },
     "execution_count": 114,
     "metadata": {},
     "output_type": "execute_result"
    }
   ],
   "source": [
    "dic_13\n"
   ]
  },
  {
   "cell_type": "code",
   "execution_count": 115,
   "id": "b8d3bb24",
   "metadata": {},
   "outputs": [],
   "source": [
    "del dic_13['name']"
   ]
  },
  {
   "cell_type": "code",
   "execution_count": 116,
   "id": "03ba8ce9",
   "metadata": {},
   "outputs": [
    {
     "data": {
      "text/plain": [
       "{'key': {'name': 'shivank', 'addres': 'satna', 'course': 'data science'}}"
      ]
     },
     "execution_count": 116,
     "metadata": {},
     "output_type": "execute_result"
    }
   ],
   "source": [
    "dic_13\n"
   ]
  },
  {
   "cell_type": "code",
   "execution_count": 117,
   "id": "52de92a8",
   "metadata": {},
   "outputs": [],
   "source": [
    "dic_12.clear() #clear() function used to remove all the keys value pair from the list"
   ]
  },
  {
   "cell_type": "code",
   "execution_count": 118,
   "id": "96d1e673",
   "metadata": {},
   "outputs": [
    {
     "data": {
      "text/plain": [
       "{}"
      ]
     },
     "execution_count": 118,
     "metadata": {},
     "output_type": "execute_result"
    }
   ],
   "source": [
    "dic_12"
   ]
  },
  {
   "cell_type": "code",
   "execution_count": 119,
   "id": "e100ab7a",
   "metadata": {},
   "outputs": [
    {
     "data": {
      "text/plain": [
       "{'key': {'name': 'shivank', 'addres': 'satna', 'course': 'data science'}}"
      ]
     },
     "execution_count": 119,
     "metadata": {},
     "output_type": "execute_result"
    }
   ],
   "source": [
    "dic_13"
   ]
  },
  {
   "cell_type": "code",
   "execution_count": 120,
   "id": "4f6253ba",
   "metadata": {},
   "outputs": [
    {
     "data": {
      "text/plain": [
       "1"
      ]
     },
     "execution_count": 120,
     "metadata": {},
     "output_type": "execute_result"
    }
   ],
   "source": [
    "len(dic_13) # len() function give the number of keys present in the dictinory"
   ]
  },
  {
   "cell_type": "code",
   "execution_count": 121,
   "id": "12dacea7",
   "metadata": {},
   "outputs": [
    {
     "data": {
      "text/plain": [
       "dict_keys(['key'])"
      ]
     },
     "execution_count": 121,
     "metadata": {},
     "output_type": "execute_result"
    }
   ],
   "source": [
    "dic_13.keys() #keys function gives all the keys of the dicitionary \n"
   ]
  },
  {
   "cell_type": "code",
   "execution_count": 122,
   "id": "2604d5a3",
   "metadata": {},
   "outputs": [
    {
     "data": {
      "text/plain": [
       "dict_values([{'name': 'shivank', 'addres': 'satna', 'course': 'data science'}])"
      ]
     },
     "execution_count": 122,
     "metadata": {},
     "output_type": "execute_result"
    }
   ],
   "source": [
    "dic_13.values() # values function gives all the values of the dictionary"
   ]
  },
  {
   "cell_type": "code",
   "execution_count": 123,
   "id": "a4f1744c",
   "metadata": {},
   "outputs": [
    {
     "name": "stdout",
     "output_type": "stream",
     "text": [
      "['key']\n",
      "[{'name': 'shivank', 'addres': 'satna', 'course': 'data science'}]\n"
     ]
    }
   ],
   "source": [
    "#typecasting of the keys and value\n",
    "a=list(dic_13.keys())\n",
    "b=list(dic_13.values())\n",
    "print(a)\n",
    "print(b)"
   ]
  },
  {
   "cell_type": "code",
   "execution_count": 124,
   "id": "714e1f4c",
   "metadata": {},
   "outputs": [
    {
     "data": {
      "text/plain": [
       "list"
      ]
     },
     "execution_count": 124,
     "metadata": {},
     "output_type": "execute_result"
    }
   ],
   "source": [
    "type(a)"
   ]
  },
  {
   "cell_type": "code",
   "execution_count": 125,
   "id": "f7052fc2",
   "metadata": {},
   "outputs": [
    {
     "data": {
      "text/plain": [
       "list"
      ]
     },
     "execution_count": 125,
     "metadata": {},
     "output_type": "execute_result"
    }
   ],
   "source": [
    "type(b)"
   ]
  },
  {
   "cell_type": "code",
   "execution_count": 126,
   "id": "356b6367",
   "metadata": {},
   "outputs": [
    {
     "data": {
      "text/plain": [
       "{'key': {'name': 'shivank', 'addres': 'satna', 'course': 'data science'}}"
      ]
     },
     "execution_count": 126,
     "metadata": {},
     "output_type": "execute_result"
    }
   ],
   "source": [
    "# copy() function is used to copy all the list\n",
    "dic_13"
   ]
  },
  {
   "cell_type": "code",
   "execution_count": 127,
   "id": "0fa4565d",
   "metadata": {},
   "outputs": [],
   "source": [
    "dic_14= dic_13.copy()"
   ]
  },
  {
   "cell_type": "code",
   "execution_count": 128,
   "id": "401f942b",
   "metadata": {},
   "outputs": [],
   "source": [
    "dic_15=dic_13"
   ]
  },
  {
   "cell_type": "code",
   "execution_count": 129,
   "id": "62a5950f",
   "metadata": {},
   "outputs": [
    {
     "data": {
      "text/plain": [
       "{'key': {'name': 'shivank', 'addres': 'satna', 'course': 'data science'}}"
      ]
     },
     "execution_count": 129,
     "metadata": {},
     "output_type": "execute_result"
    }
   ],
   "source": [
    "dic_14"
   ]
  },
  {
   "cell_type": "code",
   "execution_count": 130,
   "id": "27ccd51b",
   "metadata": {},
   "outputs": [
    {
     "data": {
      "text/plain": [
       "{'key': {'name': 'shivank', 'addres': 'satna', 'course': 'data science'}}"
      ]
     },
     "execution_count": 130,
     "metadata": {},
     "output_type": "execute_result"
    }
   ],
   "source": [
    "dic_15"
   ]
  },
  {
   "cell_type": "code",
   "execution_count": 131,
   "id": "95e29123",
   "metadata": {},
   "outputs": [],
   "source": [
    "del dic_13['key']['name']"
   ]
  },
  {
   "cell_type": "code",
   "execution_count": 132,
   "id": "4e375a35",
   "metadata": {},
   "outputs": [
    {
     "data": {
      "text/plain": [
       "{'key': {'addres': 'satna', 'course': 'data science'}}"
      ]
     },
     "execution_count": 132,
     "metadata": {},
     "output_type": "execute_result"
    }
   ],
   "source": [
    "dic_14"
   ]
  },
  {
   "cell_type": "code",
   "execution_count": 133,
   "id": "f0a5b262",
   "metadata": {},
   "outputs": [
    {
     "data": {
      "text/plain": [
       "{'key': {'addres': 'satna', 'course': 'data science'}}"
      ]
     },
     "execution_count": 133,
     "metadata": {},
     "output_type": "execute_result"
    }
   ],
   "source": [
    "dic_15"
   ]
  },
  {
   "cell_type": "code",
   "execution_count": 134,
   "id": "73a0d895",
   "metadata": {},
   "outputs": [
    {
     "data": {
      "text/plain": [
       "{'key': {'addres': 'satna', 'course': 'data science'}}"
      ]
     },
     "execution_count": 134,
     "metadata": {},
     "output_type": "execute_result"
    }
   ],
   "source": [
    "dic_13"
   ]
  },
  {
   "cell_type": "code",
   "execution_count": 135,
   "id": "6d1e25b8",
   "metadata": {},
   "outputs": [],
   "source": [
    "dic_16={\"key\":{\"name\":\"shivank\",\"addres\":\"satna\",\"course\":\"data science\"}}"
   ]
  },
  {
   "cell_type": "code",
   "execution_count": 136,
   "id": "295b2146",
   "metadata": {},
   "outputs": [
    {
     "data": {
      "text/plain": [
       "{'key': {'name': 'shivank', 'addres': 'satna', 'course': 'data science'}}"
      ]
     },
     "execution_count": 136,
     "metadata": {},
     "output_type": "execute_result"
    }
   ],
   "source": [
    "dic_16"
   ]
  },
  {
   "cell_type": "code",
   "execution_count": 137,
   "id": "efe79bb6",
   "metadata": {},
   "outputs": [
    {
     "data": {
      "text/plain": [
       "dict_items([('key', {'name': 'shivank', 'addres': 'satna', 'course': 'data science'})])"
      ]
     },
     "execution_count": 137,
     "metadata": {},
     "output_type": "execute_result"
    }
   ],
   "source": [
    "dic_16.items() # items() function used to covert key value pair in the form of tuple"
   ]
  },
  {
   "cell_type": "code",
   "execution_count": 138,
   "id": "e7ea39de",
   "metadata": {},
   "outputs": [
    {
     "data": {
      "text/plain": [
       "{'name': {1, 2, 3, 4}}"
      ]
     },
     "execution_count": 138,
     "metadata": {},
     "output_type": "execute_result"
    }
   ],
   "source": [
    "dic_11"
   ]
  },
  {
   "cell_type": "code",
   "execution_count": 139,
   "id": "caa09bfd",
   "metadata": {},
   "outputs": [
    {
     "data": {
      "text/plain": [
       "{1, 2, 3, 4}"
      ]
     },
     "execution_count": 139,
     "metadata": {},
     "output_type": "execute_result"
    }
   ],
   "source": [
    "dic_11.pop(\"name\")"
   ]
  },
  {
   "cell_type": "code",
   "execution_count": 140,
   "id": "6d303bb0",
   "metadata": {},
   "outputs": [
    {
     "data": {
      "text/plain": [
       "{}"
      ]
     },
     "execution_count": 140,
     "metadata": {},
     "output_type": "execute_result"
    }
   ],
   "source": [
    "dic_11"
   ]
  },
  {
   "cell_type": "code",
   "execution_count": 141,
   "id": "cff41913",
   "metadata": {},
   "outputs": [
    {
     "data": {
      "text/plain": [
       "{1: ('a', 'b', 'c', 'd'),\n",
       " 2: ('a', 'b', 'c', 'd'),\n",
       " 3: ('a', 'b', 'c', 'd'),\n",
       " 4: ('a', 'b', 'c', 'd')}"
      ]
     },
     "execution_count": 141,
     "metadata": {},
     "output_type": "execute_result"
    }
   ],
   "source": [
    "d.fromkeys((1,2,3,4),('a','b','c','d')) #formkeys() function give all the  element of value  a is a key and b is take as a values of all the element in present in a "
   ]
  },
  {
   "cell_type": "code",
   "execution_count": 142,
   "id": "fc3318a6",
   "metadata": {},
   "outputs": [],
   "source": [
    "dic_15={'name':'shivank','collage name':'sati vidisha', 'school':'shcs'}\n",
    "dic_16={'class':'12','marks':'550'}"
   ]
  },
  {
   "cell_type": "code",
   "execution_count": 143,
   "id": "29de7fe6",
   "metadata": {},
   "outputs": [],
   "source": [
    "dic_16.update(dic_15)"
   ]
  },
  {
   "cell_type": "code",
   "execution_count": 144,
   "id": "5b1a9ab4",
   "metadata": {},
   "outputs": [
    {
     "data": {
      "text/plain": [
       "{'class': '12',\n",
       " 'marks': '550',\n",
       " 'name': 'shivank',\n",
       " 'collage name': 'sati vidisha',\n",
       " 'school': 'shcs'}"
      ]
     },
     "execution_count": 144,
     "metadata": {},
     "output_type": "execute_result"
    }
   ],
   "source": [
    "dic_16"
   ]
  },
  {
   "cell_type": "code",
   "execution_count": 145,
   "id": "6106055d",
   "metadata": {},
   "outputs": [
    {
     "data": {
      "text/plain": [
       "'12'"
      ]
     },
     "execution_count": 145,
     "metadata": {},
     "output_type": "execute_result"
    }
   ],
   "source": [
    "dic_16.get('class')"
   ]
  },
  {
   "cell_type": "code",
   "execution_count": 146,
   "id": "1e27f74e",
   "metadata": {},
   "outputs": [],
   "source": [
    "dic_16.get('adrras')"
   ]
  },
  {
   "cell_type": "markdown",
   "id": "c31dcb00",
   "metadata": {},
   "source": [
    "## Dictionary compehensions"
   ]
  },
  {
   "cell_type": "code",
   "execution_count": 147,
   "id": "7811860b",
   "metadata": {},
   "outputs": [
    {
     "data": {
      "text/plain": [
       "{1: 1, 2: 4, 3: 9, 4: 16, 5: 25, 6: 36, 7: 49, 8: 64, 9: 81, 10: 100}"
      ]
     },
     "execution_count": 147,
     "metadata": {},
     "output_type": "execute_result"
    }
   ],
   "source": [
    "{i:i**2 for i in range(1,11)}"
   ]
  },
  {
   "cell_type": "code",
   "execution_count": 148,
   "id": "770ba56d",
   "metadata": {},
   "outputs": [
    {
     "data": {
      "text/plain": [
       "{1: 2, 2: 3, 3: 4, 4: 5, 5: 6, 6: 7, 7: 8, 8: 9, 9: 10, 10: 11}"
      ]
     },
     "execution_count": 148,
     "metadata": {},
     "output_type": "execute_result"
    }
   ],
   "source": [
    "{i:i+1 for i in range(1,11)}"
   ]
  },
  {
   "cell_type": "code",
   "execution_count": 157,
   "id": "949676c1",
   "metadata": {},
   "outputs": [],
   "source": [
    "d1={i:i-1 for i in range(1,11)}"
   ]
  },
  {
   "cell_type": "code",
   "execution_count": 158,
   "id": "2317a7d1",
   "metadata": {},
   "outputs": [
    {
     "data": {
      "text/plain": [
       "{1: 4, 2: 5, 3: 6, 4: 7, 5: 8, 6: 9, 7: 10, 8: 11, 9: 12, 10: 13}"
      ]
     },
     "execution_count": 158,
     "metadata": {},
     "output_type": "execute_result"
    }
   ],
   "source": [
    "{i:i+3 for i in range(1,11)}"
   ]
  },
  {
   "cell_type": "code",
   "execution_count": 159,
   "id": "174b7a44",
   "metadata": {},
   "outputs": [
    {
     "data": {
      "text/plain": [
       "{1: 0, 2: 1, 3: 2, 4: 3, 5: 4, 6: 5, 7: 6, 8: 7, 9: 8, 10: 9}"
      ]
     },
     "execution_count": 159,
     "metadata": {},
     "output_type": "execute_result"
    }
   ],
   "source": [
    "d1"
   ]
  },
  {
   "cell_type": "code",
   "execution_count": 166,
   "id": "16e187b1",
   "metadata": {},
   "outputs": [
    {
     "name": "stdout",
     "output_type": "stream",
     "text": [
      "2\n",
      "4\n",
      "6\n",
      "8\n",
      "10\n"
     ]
    }
   ],
   "source": [
    "for i in d1.keys():\n",
    "    if i%2==0:\n",
    "        print(i)\n",
    "    \n"
   ]
  },
  {
   "cell_type": "code",
   "execution_count": 173,
   "id": "fbee1cc2",
   "metadata": {},
   "outputs": [
    {
     "name": "stdout",
     "output_type": "stream",
     "text": [
      "0\n",
      "2\n",
      "4\n",
      "6\n",
      "8\n"
     ]
    }
   ],
   "source": [
    "for i in d1.values():\n",
    "    if i%2==0:\n",
    "        print(i)\n",
    "    \n"
   ]
  },
  {
   "cell_type": "code",
   "execution_count": null,
   "id": "858d99b5",
   "metadata": {},
   "outputs": [],
   "source": []
  }
 ],
 "metadata": {
  "kernelspec": {
   "display_name": "Python 3 (ipykernel)",
   "language": "python",
   "name": "python3"
  },
  "language_info": {
   "codemirror_mode": {
    "name": "ipython",
    "version": 3
   },
   "file_extension": ".py",
   "mimetype": "text/x-python",
   "name": "python",
   "nbconvert_exporter": "python",
   "pygments_lexer": "ipython3",
   "version": "3.10.9"
  }
 },
 "nbformat": 4,
 "nbformat_minor": 5
}
