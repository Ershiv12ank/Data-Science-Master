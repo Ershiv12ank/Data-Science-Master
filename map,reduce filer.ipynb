{
 "cells": [
  {
   "cell_type": "code",
   "execution_count": 1,
   "id": "e04bba1a",
   "metadata": {},
   "outputs": [],
   "source": [
    "# create a list\n",
    "lis =[1,2,3,4,5,6,7,8,9,10]"
   ]
  },
  {
   "cell_type": "code",
   "execution_count": 3,
   "id": "db6b77b9",
   "metadata": {},
   "outputs": [],
   "source": [
    "# create a function to find the square of the element inside a list\n",
    "def fun1(lis):\n",
    "    list=[]\n",
    "    for i in lis:\n",
    "        list.append(i**2)\n",
    "    return list    "
   ]
  },
  {
   "cell_type": "code",
   "execution_count": 4,
   "id": "7b1f375b",
   "metadata": {},
   "outputs": [
    {
     "data": {
      "text/plain": [
       "[1, 4, 9, 16, 25, 36, 49, 64, 81, 100]"
      ]
     },
     "execution_count": 4,
     "metadata": {},
     "output_type": "execute_result"
    }
   ],
   "source": [
    "#Call the function\n",
    "fun1(lis)"
   ]
  },
  {
   "cell_type": "code",
   "execution_count": 5,
   "id": "dc835a85",
   "metadata": {},
   "outputs": [],
   "source": [
    "# define or create function\n",
    "def square(v):\n",
    "    return v**2"
   ]
  },
  {
   "cell_type": "code",
   "execution_count": 6,
   "id": "452366c2",
   "metadata": {},
   "outputs": [
    {
     "data": {
      "text/plain": [
       "<map at 0x7fd157728b20>"
      ]
     },
     "execution_count": 6,
     "metadata": {},
     "output_type": "execute_result"
    }
   ],
   "source": [
    "# bu using map function find the square of a element of the list\n",
    "map(square,lis)"
   ]
  },
  {
   "cell_type": "code",
   "execution_count": 7,
   "id": "38123446",
   "metadata": {},
   "outputs": [
    {
     "data": {
      "text/plain": [
       "[1, 4, 9, 16, 25, 36, 49, 64, 81, 100]"
      ]
     },
     "execution_count": 7,
     "metadata": {},
     "output_type": "execute_result"
    }
   ],
   "source": [
    "# convert into list \n",
    "list(map(square,lis))"
   ]
  },
  {
   "cell_type": "code",
   "execution_count": 11,
   "id": "d3de10b8",
   "metadata": {},
   "outputs": [
    {
     "data": {
      "text/plain": [
       "[1, 4, 9, 16, 25, 36, 49, 64, 81, 100]"
      ]
     },
     "execution_count": 11,
     "metadata": {},
     "output_type": "execute_result"
    }
   ],
   "source": [
    "# by using lambda and map function find the square of a element of the list\n",
    "list(map(lambda x: x**2 , lis))"
   ]
  },
  {
   "cell_type": "code",
   "execution_count": 12,
   "id": "fdacf231",
   "metadata": {},
   "outputs": [
    {
     "data": {
      "text/plain": [
       "[11, 12, 13, 14, 15, 16, 17, 18, 19, 20]"
      ]
     },
     "execution_count": 12,
     "metadata": {},
     "output_type": "execute_result"
    }
   ],
   "source": [
    "# by using lambda and map function add 10 of a element of the list\n",
    "list(map(lambda x: x+10 , lis))"
   ]
  },
  {
   "cell_type": "code",
   "execution_count": 13,
   "id": "e5c32724",
   "metadata": {},
   "outputs": [
    {
     "data": {
      "text/plain": [
       "[-9, -8, -7, -6, -5, -4, -3, -2, -1, 0]"
      ]
     },
     "execution_count": 13,
     "metadata": {},
     "output_type": "execute_result"
    }
   ],
   "source": [
    "# by using lambda and map function subtact 10 of a element of the list\n",
    "list(map(lambda x: x-10 , lis))"
   ]
  },
  {
   "cell_type": "code",
   "execution_count": 14,
   "id": "421f8811",
   "metadata": {},
   "outputs": [
    {
     "data": {
      "text/plain": [
       "[10, 20, 30, 40, 50, 60, 70, 80, 90, 100]"
      ]
     },
     "execution_count": 14,
     "metadata": {},
     "output_type": "execute_result"
    }
   ],
   "source": [
    "# by using lambda and map function multiply 10 of a element of the list\n",
    "list(map(lambda x: x*10 , lis))"
   ]
  },
  {
   "cell_type": "code",
   "execution_count": 15,
   "id": "4717ada9",
   "metadata": {},
   "outputs": [
    {
     "data": {
      "text/plain": [
       "[0.1, 0.2, 0.3, 0.4, 0.5, 0.6, 0.7, 0.8, 0.9, 1.0]"
      ]
     },
     "execution_count": 15,
     "metadata": {},
     "output_type": "execute_result"
    }
   ],
   "source": [
    "# by using lambda and map function divide 10 of a element of the list\n",
    "list(map(lambda x: x/10 , lis))"
   ]
  },
  {
   "cell_type": "code",
   "execution_count": 16,
   "id": "6f8e4009",
   "metadata": {},
   "outputs": [
    {
     "data": {
      "text/plain": [
       "['1', '2', '3', '4', '5', '6', '7', '8', '9', '10']"
      ]
     },
     "execution_count": 16,
     "metadata": {},
     "output_type": "execute_result"
    }
   ],
   "source": [
    "# by using lambda and map function covert integer to string of the element of the list\n",
    "list(map(lambda x: str(x) , lis))"
   ]
  },
  {
   "cell_type": "code",
   "execution_count": 18,
   "id": "f27ea146",
   "metadata": {},
   "outputs": [
    {
     "data": {
      "text/plain": [
       "[2, 4, 6, 8, 10, 12, 14]"
      ]
     },
     "execution_count": 18,
     "metadata": {},
     "output_type": "execute_result"
    }
   ],
   "source": [
    "# by using lambda and map function find the sum of the  element of two  list\n",
    "list1=[1,2,3,4,5,6,7]\n",
    "list2=[1,2,3,4,5,6,7]\n",
    "\n",
    "list(map(lambda x,y: x+y , list1 ,list2))"
   ]
  },
  {
   "cell_type": "code",
   "execution_count": 26,
   "id": "13eac78a",
   "metadata": {},
   "outputs": [],
   "source": [
    "# by using lambda and map function convert a string into a list or the elemnt of the list in the form of string and upper case\n",
    "string = \"shivank is a good boy\"\n",
    "a=string.upper()"
   ]
  },
  {
   "cell_type": "code",
   "execution_count": 27,
   "id": "8fd65dc7",
   "metadata": {},
   "outputs": [
    {
     "data": {
      "text/plain": [
       "'SHIVANK IS A GOOD BOY'"
      ]
     },
     "execution_count": 27,
     "metadata": {},
     "output_type": "execute_result"
    }
   ],
   "source": [
    "a"
   ]
  },
  {
   "cell_type": "code",
   "execution_count": 28,
   "id": "2dbef33e",
   "metadata": {},
   "outputs": [
    {
     "data": {
      "text/plain": [
       "['S',\n",
       " 'H',\n",
       " 'I',\n",
       " 'V',\n",
       " 'A',\n",
       " 'N',\n",
       " 'K',\n",
       " ' ',\n",
       " 'I',\n",
       " 'S',\n",
       " ' ',\n",
       " 'A',\n",
       " ' ',\n",
       " 'G',\n",
       " 'O',\n",
       " 'O',\n",
       " 'D',\n",
       " ' ',\n",
       " 'B',\n",
       " 'O',\n",
       " 'Y']"
      ]
     },
     "execution_count": 28,
     "metadata": {},
     "output_type": "execute_result"
    }
   ],
   "source": [
    "b=list(map(lambda s:s.upper(),string))\n",
    "b"
   ]
  },
  {
   "cell_type": "code",
   "execution_count": 29,
   "id": "7cb01063",
   "metadata": {},
   "outputs": [
    {
     "data": {
      "text/plain": [
       "list"
      ]
     },
     "execution_count": 29,
     "metadata": {},
     "output_type": "execute_result"
    }
   ],
   "source": [
    "type(b)"
   ]
  },
  {
   "cell_type": "code",
   "execution_count": 31,
   "id": "1a3999a2",
   "metadata": {},
   "outputs": [],
   "source": [
    "from functools import reduce"
   ]
  },
  {
   "cell_type": "code",
   "execution_count": 35,
   "id": "41c34efd",
   "metadata": {},
   "outputs": [],
   "source": [
    "#creatre a list\n",
    "list4=[1,2,3,4,5,6,7]\n"
   ]
  },
  {
   "cell_type": "code",
   "execution_count": 42,
   "id": "25d45947",
   "metadata": {},
   "outputs": [
    {
     "data": {
      "text/plain": [
       "28"
      ]
     },
     "execution_count": 42,
     "metadata": {},
     "output_type": "execute_result"
    }
   ],
   "source": [
    "#find the sum of all element of list by using sum function\n",
    "sum(list4)"
   ]
  },
  {
   "cell_type": "code",
   "execution_count": 43,
   "id": "dde69030",
   "metadata": {},
   "outputs": [],
   "source": [
    "#by using reduce function find the sum of all element of list "
   ]
  },
  {
   "cell_type": "code",
   "execution_count": 44,
   "id": "257860a3",
   "metadata": {},
   "outputs": [
    {
     "data": {
      "text/plain": [
       "5040"
      ]
     },
     "execution_count": 44,
     "metadata": {},
     "output_type": "execute_result"
    }
   ],
   "source": [
    "#by using reduce function find the product of all element of list \n",
    "reduce(lambda x,y:x*y ,list4)"
   ]
  },
  {
   "cell_type": "code",
   "execution_count": 45,
   "id": "df0d1b34",
   "metadata": {},
   "outputs": [
    {
     "data": {
      "text/plain": [
       "-26"
      ]
     },
     "execution_count": 45,
     "metadata": {},
     "output_type": "execute_result"
    }
   ],
   "source": [
    "#by using reduce function find the subtract of all element of list \n",
    "reduce(lambda x,y:x-y ,list4)"
   ]
  },
  {
   "cell_type": "code",
   "execution_count": 49,
   "id": "9b619477",
   "metadata": {},
   "outputs": [],
   "source": [
    "# create a function of adding two number\n",
    "def add(a,b):\n",
    "    c=a+b\n",
    "    return c"
   ]
  },
  {
   "cell_type": "code",
   "execution_count": 50,
   "id": "487b99db",
   "metadata": {},
   "outputs": [
    {
     "data": {
      "text/plain": [
       "28"
      ]
     },
     "execution_count": 50,
     "metadata": {},
     "output_type": "execute_result"
    }
   ],
   "source": [
    "reduce(add ,list4)"
   ]
  },
  {
   "cell_type": "code",
   "execution_count": 51,
   "id": "5f9b2e51",
   "metadata": {},
   "outputs": [],
   "source": [
    "# create a function of producttwo number\n",
    "def mul(a,b):\n",
    "    c=a*b\n",
    "    return c"
   ]
  },
  {
   "cell_type": "code",
   "execution_count": 52,
   "id": "2a448042",
   "metadata": {},
   "outputs": [
    {
     "data": {
      "text/plain": [
       "5040"
      ]
     },
     "execution_count": 52,
     "metadata": {},
     "output_type": "execute_result"
    }
   ],
   "source": [
    "reduce(mul ,list4)"
   ]
  },
  {
   "cell_type": "code",
   "execution_count": 53,
   "id": "5c595e92",
   "metadata": {},
   "outputs": [],
   "source": [
    "# create a function of subtract two number\n",
    "def sub(a,b):\n",
    "    c=a-b\n",
    "    return c"
   ]
  },
  {
   "cell_type": "code",
   "execution_count": 54,
   "id": "2107c220",
   "metadata": {},
   "outputs": [
    {
     "data": {
      "text/plain": [
       "-26"
      ]
     },
     "execution_count": 54,
     "metadata": {},
     "output_type": "execute_result"
    }
   ],
   "source": [
    "reduce(sub ,list4)"
   ]
  },
  {
   "cell_type": "code",
   "execution_count": 56,
   "id": "56432ab3",
   "metadata": {},
   "outputs": [
    {
     "data": {
      "text/plain": [
       "7"
      ]
     },
     "execution_count": 56,
     "metadata": {},
     "output_type": "execute_result"
    }
   ],
   "source": [
    "# find the maximum of two number by using reduce function\n",
    "a= reduce(lambda x,y: x if x>y else y, list4)\n",
    "a"
   ]
  },
  {
   "cell_type": "code",
   "execution_count": 57,
   "id": "27e399c6",
   "metadata": {},
   "outputs": [],
   "source": [
    "# filter function"
   ]
  },
  {
   "cell_type": "code",
   "execution_count": 59,
   "id": "21840495",
   "metadata": {},
   "outputs": [
    {
     "data": {
      "text/plain": [
       "[2, 4, 6]"
      ]
     },
     "execution_count": 59,
     "metadata": {},
     "output_type": "execute_result"
    }
   ],
   "source": [
    "# find the even number in the list by using filter function\n",
    "list(filter(lambda x: x%2==0,list4))"
   ]
  },
  {
   "cell_type": "code",
   "execution_count": 60,
   "id": "a43cf032",
   "metadata": {},
   "outputs": [
    {
     "data": {
      "text/plain": [
       "[1, 3, 5, 7]"
      ]
     },
     "execution_count": 60,
     "metadata": {},
     "output_type": "execute_result"
    }
   ],
   "source": [
    "# find the odd number in the list by using filter function\n",
    "list(filter(lambda x: x%2!=0,list4))"
   ]
  },
  {
   "cell_type": "code",
   "execution_count": 65,
   "id": "3909153e",
   "metadata": {},
   "outputs": [
    {
     "data": {
      "text/plain": [
       "['shivank', 'pandey', 'good']"
      ]
     },
     "execution_count": 65,
     "metadata": {},
     "output_type": "execute_result"
    }
   ],
   "source": [
    "list5=['shivank','pandey','is','a','good','boy']\n",
    "list(filter(lambda x: len(x)>3,list5))"
   ]
  },
  {
   "cell_type": "code",
   "execution_count": null,
   "id": "134acea2",
   "metadata": {},
   "outputs": [],
   "source": []
  }
 ],
 "metadata": {
  "kernelspec": {
   "display_name": "Python 3 (ipykernel)",
   "language": "python",
   "name": "python3"
  },
  "language_info": {
   "codemirror_mode": {
    "name": "ipython",
    "version": 3
   },
   "file_extension": ".py",
   "mimetype": "text/x-python",
   "name": "python",
   "nbconvert_exporter": "python",
   "pygments_lexer": "ipython3",
   "version": "3.10.6"
  }
 },
 "nbformat": 4,
 "nbformat_minor": 5
}
