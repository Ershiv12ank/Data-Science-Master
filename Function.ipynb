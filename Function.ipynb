{
 "cells": [
  {
   "cell_type": "code",
   "execution_count": null,
   "id": "4bfd01fd",
   "metadata": {},
   "outputs": [],
   "source": []
  },
  {
   "cell_type": "code",
   "execution_count": 3,
   "id": "87820480",
   "metadata": {},
   "outputs": [
    {
     "name": "stdout",
     "output_type": "stream",
     "text": [
      "We are the living in the age of artificial intelligence \n"
     ]
    }
   ],
   "source": [
    "print(\"We are the living in the age of artificial intelligence \")"
   ]
  },
  {
   "cell_type": "code",
   "execution_count": 4,
   "id": "c511ee28",
   "metadata": {},
   "outputs": [],
   "source": [
    "def start():\n",
    "    print(\"We are the living in the age of artificial intelligence \")"
   ]
  },
  {
   "cell_type": "code",
   "execution_count": 5,
   "id": "8be50ec7",
   "metadata": {},
   "outputs": [
    {
     "name": "stdout",
     "output_type": "stream",
     "text": [
      "We are the living in the age of artificial intelligence \n"
     ]
    }
   ],
   "source": [
    "start()"
   ]
  },
  {
   "cell_type": "code",
   "execution_count": 6,
   "id": "d2a7fa60",
   "metadata": {},
   "outputs": [
    {
     "name": "stdout",
     "output_type": "stream",
     "text": [
      "We are the living in the age of artificial intelligence \n"
     ]
    },
    {
     "ename": "TypeError",
     "evalue": "unsupported operand type(s) for +: 'NoneType' and 'str'",
     "output_type": "error",
     "traceback": [
      "\u001b[0;31m---------------------------------------------------------------------------\u001b[0m",
      "\u001b[0;31mTypeError\u001b[0m                                 Traceback (most recent call last)",
      "\u001b[0;32m/tmp/ipykernel_35973/2343064748.py\u001b[0m in \u001b[0;36m<module>\u001b[0;34m\u001b[0m\n\u001b[0;32m----> 1\u001b[0;31m \u001b[0mstart\u001b[0m\u001b[0;34m(\u001b[0m\u001b[0;34m)\u001b[0m\u001b[0;34m+\u001b[0m\u001b[0;34m\"string\"\u001b[0m \u001b[0;31m# becouse of the start having print function and print function give a nonetype data\u001b[0m\u001b[0;34m\u001b[0m\u001b[0;34m\u001b[0m\u001b[0m\n\u001b[0m",
      "\u001b[0;31mTypeError\u001b[0m: unsupported operand type(s) for +: 'NoneType' and 'str'"
     ]
    }
   ],
   "source": [
    "start()+\"string\" # becouse of the start having print function and print function give a nonetype data"
   ]
  },
  {
   "cell_type": "code",
   "execution_count": null,
   "id": "d2f5f057",
   "metadata": {},
   "outputs": [],
   "source": [
    "type(print())"
   ]
  },
  {
   "cell_type": "code",
   "execution_count": null,
   "id": "962bf190",
   "metadata": {},
   "outputs": [],
   "source": [
    "def start1():\n",
    "    return \"We are the living in the age of artificial intelligence \""
   ]
  },
  {
   "cell_type": "code",
   "execution_count": null,
   "id": "9d1ad120",
   "metadata": {},
   "outputs": [],
   "source": [
    "start1()"
   ]
  },
  {
   "cell_type": "code",
   "execution_count": 7,
   "id": "8152b28b",
   "metadata": {},
   "outputs": [
    {
     "ename": "NameError",
     "evalue": "name 'start1' is not defined",
     "output_type": "error",
     "traceback": [
      "\u001b[0;31m---------------------------------------------------------------------------\u001b[0m",
      "\u001b[0;31mNameError\u001b[0m                                 Traceback (most recent call last)",
      "\u001b[0;32m/tmp/ipykernel_35973/2801665639.py\u001b[0m in \u001b[0;36m<module>\u001b[0;34m\u001b[0m\n\u001b[0;32m----> 1\u001b[0;31m \u001b[0mstart1\u001b[0m\u001b[0;34m(\u001b[0m\u001b[0;34m)\u001b[0m \u001b[0;34m+\u001b[0m \u001b[0;34m\"and data science is the sub set of artificial intelligence\"\u001b[0m\u001b[0;34m\u001b[0m\u001b[0;34m\u001b[0m\u001b[0m\n\u001b[0m\u001b[1;32m      2\u001b[0m \u001b[0;31m# It is run becouse start1 give the string\u001b[0m\u001b[0;34m\u001b[0m\u001b[0;34m\u001b[0m\u001b[0m\n",
      "\u001b[0;31mNameError\u001b[0m: name 'start1' is not defined"
     ]
    }
   ],
   "source": [
    "start1() + \"and data science is the sub set of artificial intelligence\"\n",
    "# It is run becouse start1 give the string"
   ]
  },
  {
   "cell_type": "code",
   "execution_count": 8,
   "id": "04104a2c",
   "metadata": {},
   "outputs": [],
   "source": [
    "def start2():\n",
    "       return 1,2,3,4.45,True\n"
   ]
  },
  {
   "cell_type": "code",
   "execution_count": 9,
   "id": "53e13e84",
   "metadata": {},
   "outputs": [
    {
     "data": {
      "text/plain": [
       "(1, 2, 3, 4.45, True)"
      ]
     },
     "execution_count": 9,
     "metadata": {},
     "output_type": "execute_result"
    }
   ],
   "source": [
    "start2() # it is always return output in the form of tuple"
   ]
  },
  {
   "cell_type": "code",
   "execution_count": 10,
   "id": "578bb077",
   "metadata": {},
   "outputs": [],
   "source": [
    "a=(1,2,3,4,5)"
   ]
  },
  {
   "cell_type": "code",
   "execution_count": 11,
   "id": "387f6895",
   "metadata": {},
   "outputs": [
    {
     "data": {
      "text/plain": [
       "(1, 2, 3, 4, 5)"
      ]
     },
     "execution_count": 11,
     "metadata": {},
     "output_type": "execute_result"
    }
   ],
   "source": [
    "a"
   ]
  },
  {
   "cell_type": "code",
   "execution_count": 12,
   "id": "df42b9e1",
   "metadata": {},
   "outputs": [],
   "source": [
    "a,b,c,d=1,2,3.44,True"
   ]
  },
  {
   "cell_type": "code",
   "execution_count": 13,
   "id": "24289154",
   "metadata": {},
   "outputs": [
    {
     "data": {
      "text/plain": [
       "1"
      ]
     },
     "execution_count": 13,
     "metadata": {},
     "output_type": "execute_result"
    }
   ],
   "source": [
    "a"
   ]
  },
  {
   "cell_type": "code",
   "execution_count": 14,
   "id": "59f18256",
   "metadata": {},
   "outputs": [
    {
     "data": {
      "text/plain": [
       "2"
      ]
     },
     "execution_count": 14,
     "metadata": {},
     "output_type": "execute_result"
    }
   ],
   "source": [
    "b"
   ]
  },
  {
   "cell_type": "code",
   "execution_count": 15,
   "id": "66115178",
   "metadata": {},
   "outputs": [
    {
     "data": {
      "text/plain": [
       "3.44"
      ]
     },
     "execution_count": 15,
     "metadata": {},
     "output_type": "execute_result"
    }
   ],
   "source": [
    "c"
   ]
  },
  {
   "cell_type": "code",
   "execution_count": 16,
   "id": "7bb7bd85",
   "metadata": {},
   "outputs": [
    {
     "data": {
      "text/plain": [
       "True"
      ]
     },
     "execution_count": 16,
     "metadata": {},
     "output_type": "execute_result"
    }
   ],
   "source": [
    "d"
   ]
  },
  {
   "cell_type": "code",
   "execution_count": 17,
   "id": "580d5074",
   "metadata": {},
   "outputs": [
    {
     "data": {
      "text/plain": [
       "(1, 2, 3, 4.45, True)"
      ]
     },
     "execution_count": 17,
     "metadata": {},
     "output_type": "execute_result"
    }
   ],
   "source": [
    "start2()"
   ]
  },
  {
   "cell_type": "code",
   "execution_count": 18,
   "id": "fbc8c110",
   "metadata": {},
   "outputs": [
    {
     "data": {
      "text/plain": [
       "1"
      ]
     },
     "execution_count": 18,
     "metadata": {},
     "output_type": "execute_result"
    }
   ],
   "source": [
    "start2()[0]"
   ]
  },
  {
   "cell_type": "code",
   "execution_count": 19,
   "id": "64e266f0",
   "metadata": {},
   "outputs": [
    {
     "data": {
      "text/plain": [
       "4.45"
      ]
     },
     "execution_count": 19,
     "metadata": {},
     "output_type": "execute_result"
    }
   ],
   "source": [
    "start2()[3]"
   ]
  },
  {
   "cell_type": "code",
   "execution_count": 20,
   "id": "dd960d5c",
   "metadata": {},
   "outputs": [],
   "source": [
    "a,b,c,d,e=start2()"
   ]
  },
  {
   "cell_type": "code",
   "execution_count": 21,
   "id": "14c8103b",
   "metadata": {},
   "outputs": [
    {
     "data": {
      "text/plain": [
       "1"
      ]
     },
     "execution_count": 21,
     "metadata": {},
     "output_type": "execute_result"
    }
   ],
   "source": [
    "a"
   ]
  },
  {
   "cell_type": "code",
   "execution_count": 22,
   "id": "d0636877",
   "metadata": {},
   "outputs": [
    {
     "data": {
      "text/plain": [
       "2"
      ]
     },
     "execution_count": 22,
     "metadata": {},
     "output_type": "execute_result"
    }
   ],
   "source": [
    "b"
   ]
  },
  {
   "cell_type": "code",
   "execution_count": 23,
   "id": "68d84182",
   "metadata": {},
   "outputs": [
    {
     "data": {
      "text/plain": [
       "3"
      ]
     },
     "execution_count": 23,
     "metadata": {},
     "output_type": "execute_result"
    }
   ],
   "source": [
    "c\n",
    "\n"
   ]
  },
  {
   "cell_type": "code",
   "execution_count": 24,
   "id": "4f912c90",
   "metadata": {},
   "outputs": [
    {
     "data": {
      "text/plain": [
       "4.45"
      ]
     },
     "execution_count": 24,
     "metadata": {},
     "output_type": "execute_result"
    }
   ],
   "source": [
    "d"
   ]
  },
  {
   "cell_type": "code",
   "execution_count": 25,
   "id": "607289e0",
   "metadata": {},
   "outputs": [
    {
     "data": {
      "text/plain": [
       "True"
      ]
     },
     "execution_count": 25,
     "metadata": {},
     "output_type": "execute_result"
    }
   ],
   "source": [
    "e"
   ]
  },
  {
   "cell_type": "code",
   "execution_count": 26,
   "id": "002413c7",
   "metadata": {},
   "outputs": [],
   "source": [
    "def start3():\n",
    "    a=3+4\n",
    "    return a"
   ]
  },
  {
   "cell_type": "code",
   "execution_count": 27,
   "id": "f05da5e9",
   "metadata": {},
   "outputs": [
    {
     "data": {
      "text/plain": [
       "7"
      ]
     },
     "execution_count": 27,
     "metadata": {},
     "output_type": "execute_result"
    }
   ],
   "source": [
    "start3()"
   ]
  },
  {
   "cell_type": "code",
   "execution_count": 28,
   "id": "a23898be",
   "metadata": {},
   "outputs": [
    {
     "data": {
      "text/plain": [
       "function"
      ]
     },
     "execution_count": 28,
     "metadata": {},
     "output_type": "execute_result"
    }
   ],
   "source": [
    "type(start3)"
   ]
  },
  {
   "cell_type": "code",
   "execution_count": 29,
   "id": "a6376ae5",
   "metadata": {},
   "outputs": [],
   "source": [
    "def start4(a,b):\n",
    "    c=a+b\n",
    "    return c"
   ]
  },
  {
   "cell_type": "code",
   "execution_count": 30,
   "id": "cafec1a3",
   "metadata": {},
   "outputs": [
    {
     "data": {
      "text/plain": [
       "11"
      ]
     },
     "execution_count": 30,
     "metadata": {},
     "output_type": "execute_result"
    }
   ],
   "source": [
    "start4(5,6)"
   ]
  },
  {
   "cell_type": "code",
   "execution_count": 32,
   "id": "bba9eee6",
   "metadata": {},
   "outputs": [
    {
     "data": {
      "text/plain": [
       "'shivank pandey'"
      ]
     },
     "execution_count": 32,
     "metadata": {},
     "output_type": "execute_result"
    }
   ],
   "source": [
    "start4(\"shivank\",\" pandey\")"
   ]
  },
  {
   "cell_type": "code",
   "execution_count": 33,
   "id": "ed33f437",
   "metadata": {},
   "outputs": [
    {
     "data": {
      "text/plain": [
       "67.10000000000001"
      ]
     },
     "execution_count": 33,
     "metadata": {},
     "output_type": "execute_result"
    }
   ],
   "source": [
    "start4(12.4,54.7)"
   ]
  },
  {
   "cell_type": "code",
   "execution_count": 34,
   "id": "2deae015",
   "metadata": {},
   "outputs": [
    {
     "data": {
      "text/plain": [
       "[1, 2, 3, 4, 5, 7, 2, 3, 4, 5, 6]"
      ]
     },
     "execution_count": 34,
     "metadata": {},
     "output_type": "execute_result"
    }
   ],
   "source": [
    "start4([1,2,3,4,5,7],[2,3,4,5,6])"
   ]
  },
  {
   "cell_type": "code",
   "execution_count": 35,
   "id": "08b38023",
   "metadata": {},
   "outputs": [
    {
     "data": {
      "text/plain": [
       "(1, 33, 6, 6, 7, 7, 4, 6, 8, 9, 0, 8)"
      ]
     },
     "execution_count": 35,
     "metadata": {},
     "output_type": "execute_result"
    }
   ],
   "source": [
    "start4((1,33,6,6,7,7),(4,6,8,9,0,8)) "
   ]
  },
  {
   "cell_type": "code",
   "execution_count": 69,
   "id": "b31db77a",
   "metadata": {},
   "outputs": [],
   "source": [
    "list = [1,2,3,4,5,6 , \"shivank\",\"pandey\",\"piprokhar\",[1,2,3,34,45,5,4]]"
   ]
  },
  {
   "cell_type": "code",
   "execution_count": 94,
   "id": "31b9f73a",
   "metadata": {},
   "outputs": [],
   "source": [
    "# function to extract only numeric part for the list\n",
    "def start5(a):\n",
    "    list=[]\n",
    "    for i in a:\n",
    "        if type(i)==int or type(i)==float:\n",
    "            list.append(i)\n",
    "    print(list)"
   ]
  },
  {
   "cell_type": "code",
   "execution_count": 95,
   "id": "bc5f8064",
   "metadata": {},
   "outputs": [
    {
     "name": "stdout",
     "output_type": "stream",
     "text": [
      "[1, 2, 3, 4, 5, 6]\n"
     ]
    }
   ],
   "source": [
    "start5(list)"
   ]
  },
  {
   "cell_type": "code",
   "execution_count": 96,
   "id": "46ab69f6",
   "metadata": {},
   "outputs": [],
   "source": [
    "# function to extract only string part for the list\n",
    "def start6(a):\n",
    "    list=[]\n",
    "    for i in a:\n",
    "        if type(i)== str:\n",
    "            list.append(i)\n",
    "    print(list)"
   ]
  },
  {
   "cell_type": "code",
   "execution_count": 97,
   "id": "707d11c4",
   "metadata": {},
   "outputs": [
    {
     "name": "stdout",
     "output_type": "stream",
     "text": [
      "['shivank', 'pandey', 'piprokhar']\n"
     ]
    }
   ],
   "source": [
    "start6(list)"
   ]
  },
  {
   "cell_type": "code",
   "execution_count": null,
   "id": "15fa2c5b",
   "metadata": {},
   "outputs": [],
   "source": []
  }
 ],
 "metadata": {
  "kernelspec": {
   "display_name": "Python 3 (ipykernel)",
   "language": "python",
   "name": "python3"
  },
  "language_info": {
   "codemirror_mode": {
    "name": "ipython",
    "version": 3
   },
   "file_extension": ".py",
   "mimetype": "text/x-python",
   "name": "python",
   "nbconvert_exporter": "python",
   "pygments_lexer": "ipython3",
   "version": "3.10.6"
  }
 },
 "nbformat": 4,
 "nbformat_minor": 5
}
