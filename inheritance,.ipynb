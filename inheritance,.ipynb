{
 "cells": [
  {
   "cell_type": "code",
   "execution_count": 7,
   "id": "426341c7",
   "metadata": {},
   "outputs": [],
   "source": [
    "# create a class\n",
    "class parent:\n",
    "    def test_parent(self):\n",
    "        print(\"this is a child of satendra\")\n",
    "        "
   ]
  },
  {
   "cell_type": "code",
   "execution_count": 14,
   "id": "7bf10c09",
   "metadata": {},
   "outputs": [],
   "source": [
    "#create a class of child of parent\n",
    "class child(parent):\n",
    "    pass"
   ]
  },
  {
   "cell_type": "code",
   "execution_count": 15,
   "id": "08e35472",
   "metadata": {},
   "outputs": [],
   "source": [
    "child_obj= child()"
   ]
  },
  {
   "cell_type": "code",
   "execution_count": 16,
   "id": "77de4b6b",
   "metadata": {},
   "outputs": [
    {
     "name": "stdout",
     "output_type": "stream",
     "text": [
      "this is a child of satendra\n"
     ]
    }
   ],
   "source": [
    "child_obj.test_parent()"
   ]
  },
  {
   "cell_type": "code",
   "execution_count": 26,
   "id": "c8c405e5",
   "metadata": {},
   "outputs": [],
   "source": [
    "# multi level inheritance\n",
    "class grand_father:\n",
    "    def grand_mother(self):\n",
    "        print(\"this is a grand mother \")"
   ]
  },
  {
   "cell_type": "code",
   "execution_count": 38,
   "id": "c52c9a40",
   "metadata": {},
   "outputs": [],
   "source": [
    "class grand_father1(grand_father):\n",
    "    def grand_mother1(self):\n",
    "        print(\"this is grand_father a grand mother 1\")"
   ]
  },
  {
   "cell_type": "code",
   "execution_count": 63,
   "id": "d2df544f",
   "metadata": {},
   "outputs": [],
   "source": [
    "class grand_father3(grand_father1):\n",
    "    def grand_mother2(self):\n",
    "        print(\"this is a grand mother 2\")"
   ]
  },
  {
   "cell_type": "code",
   "execution_count": 64,
   "id": "8eac3c7f",
   "metadata": {},
   "outputs": [],
   "source": [
    "obj_grand_mother = grand_father3()"
   ]
  },
  {
   "cell_type": "code",
   "execution_count": 65,
   "id": "b91c0e09",
   "metadata": {},
   "outputs": [
    {
     "name": "stdout",
     "output_type": "stream",
     "text": [
      "this is grand_father a grand mother 1\n"
     ]
    }
   ],
   "source": [
    "obj_grand_mother.grand_mother1()"
   ]
  },
  {
   "cell_type": "code",
   "execution_count": 66,
   "id": "d50d305d",
   "metadata": {},
   "outputs": [
    {
     "name": "stdout",
     "output_type": "stream",
     "text": [
      "this is a grand mother \n"
     ]
    }
   ],
   "source": [
    "obj_grand_mother.grand_mother()"
   ]
  },
  {
   "cell_type": "code",
   "execution_count": 67,
   "id": "d7e37e22",
   "metadata": {},
   "outputs": [],
   "source": [
    "#multiple inheritance"
   ]
  },
  {
   "cell_type": "code",
   "execution_count": 68,
   "id": "cb43031b",
   "metadata": {},
   "outputs": [],
   "source": [
    "# multi level inheritance\n",
    "class class1:\n",
    "    def grand_mother(self):\n",
    "        print(\"this is a grand mother \")"
   ]
  },
  {
   "cell_type": "code",
   "execution_count": 69,
   "id": "c7d8fc40",
   "metadata": {},
   "outputs": [],
   "source": [
    "class class2:\n",
    "    def grand_mother1(self):\n",
    "        print(\"this is grand_father a grand mother 1\")"
   ]
  },
  {
   "cell_type": "code",
   "execution_count": 70,
   "id": "7e82875a",
   "metadata": {},
   "outputs": [],
   "source": [
    "class class3(class1,class2):\n",
    "    def grand_mother2(self):\n",
    "        print(\"this is a grand mother 2\")"
   ]
  },
  {
   "cell_type": "code",
   "execution_count": 71,
   "id": "58ce3708",
   "metadata": {},
   "outputs": [],
   "source": [
    "obj_grand_mother = class3()"
   ]
  },
  {
   "cell_type": "code",
   "execution_count": 72,
   "id": "53b97e36",
   "metadata": {},
   "outputs": [
    {
     "name": "stdout",
     "output_type": "stream",
     "text": [
      "this is grand_father a grand mother 1\n"
     ]
    }
   ],
   "source": [
    "obj_grand_mother.grand_mother1()"
   ]
  },
  {
   "cell_type": "code",
   "execution_count": 73,
   "id": "7b5e67dc",
   "metadata": {},
   "outputs": [
    {
     "name": "stdout",
     "output_type": "stream",
     "text": [
      "this is a grand mother 2\n"
     ]
    }
   ],
   "source": [
    "obj_grand_mother.grand_mother2()"
   ]
  },
  {
   "cell_type": "code",
   "execution_count": null,
   "id": "321c1e94",
   "metadata": {},
   "outputs": [],
   "source": []
  },
  {
   "cell_type": "code",
   "execution_count": null,
   "id": "00db34c4",
   "metadata": {},
   "outputs": [],
   "source": []
  },
  {
   "cell_type": "code",
   "execution_count": null,
   "id": "78bd9417",
   "metadata": {},
   "outputs": [],
   "source": []
  },
  {
   "cell_type": "code",
   "execution_count": null,
   "id": "4cbcc9dd",
   "metadata": {},
   "outputs": [],
   "source": []
  },
  {
   "cell_type": "code",
   "execution_count": null,
   "id": "3ee65867",
   "metadata": {},
   "outputs": [],
   "source": []
  }
 ],
 "metadata": {
  "kernelspec": {
   "display_name": "Python 3 (ipykernel)",
   "language": "python",
   "name": "python3"
  },
  "language_info": {
   "codemirror_mode": {
    "name": "ipython",
    "version": 3
   },
   "file_extension": ".py",
   "mimetype": "text/x-python",
   "name": "python",
   "nbconvert_exporter": "python",
   "pygments_lexer": "ipython3",
   "version": "3.10.6"
  }
 },
 "nbformat": 4,
 "nbformat_minor": 5
}
