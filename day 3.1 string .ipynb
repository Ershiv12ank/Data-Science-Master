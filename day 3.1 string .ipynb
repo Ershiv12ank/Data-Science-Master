{
 "cells": [
  {
   "cell_type": "markdown",
   "id": "4fc23cbf",
   "metadata": {},
   "source": [
    "# String"
   ]
  },
  {
   "cell_type": "code",
   "execution_count": 1,
   "id": "54146a22",
   "metadata": {},
   "outputs": [
    {
     "data": {
      "text/plain": [
       "'This is Shivank Pandey'"
      ]
     },
     "execution_count": 1,
     "metadata": {},
     "output_type": "execute_result"
    }
   ],
   "source": [
    "\"This is Shivank Pandey\""
   ]
  },
  {
   "cell_type": "code",
   "execution_count": 2,
   "id": "2293a774",
   "metadata": {},
   "outputs": [],
   "source": [
    "str1= \"India is a great country\""
   ]
  },
  {
   "cell_type": "code",
   "execution_count": 3,
   "id": "8e1b5d23",
   "metadata": {},
   "outputs": [
    {
     "data": {
      "text/plain": [
       "'India is a great country'"
      ]
     },
     "execution_count": 3,
     "metadata": {},
     "output_type": "execute_result"
    }
   ],
   "source": [
    "str1"
   ]
  },
  {
   "cell_type": "code",
   "execution_count": 4,
   "id": "8b865da6",
   "metadata": {},
   "outputs": [
    {
     "data": {
      "text/plain": [
       "str"
      ]
     },
     "execution_count": 4,
     "metadata": {},
     "output_type": "execute_result"
    }
   ],
   "source": [
    "type(str1)"
   ]
  },
  {
   "cell_type": "code",
   "execution_count": 5,
   "id": "2395ebde",
   "metadata": {},
   "outputs": [],
   "source": [
    "# string is immutable "
   ]
  },
  {
   "cell_type": "code",
   "execution_count": 7,
   "id": "21167fc5",
   "metadata": {},
   "outputs": [
    {
     "data": {
      "text/plain": [
       "'shivank pandey'"
      ]
     },
     "execution_count": 7,
     "metadata": {},
     "output_type": "execute_result"
    }
   ],
   "source": [
    "str2='shivank pandey'\n",
    "str2"
   ]
  },
  {
   "cell_type": "code",
   "execution_count": 10,
   "id": "55357771",
   "metadata": {},
   "outputs": [
    {
     "data": {
      "text/plain": [
       "['__add__',\n",
       " '__class__',\n",
       " '__contains__',\n",
       " '__delattr__',\n",
       " '__dir__',\n",
       " '__doc__',\n",
       " '__eq__',\n",
       " '__format__',\n",
       " '__ge__',\n",
       " '__getattribute__',\n",
       " '__getitem__',\n",
       " '__getnewargs__',\n",
       " '__gt__',\n",
       " '__hash__',\n",
       " '__init__',\n",
       " '__init_subclass__',\n",
       " '__iter__',\n",
       " '__le__',\n",
       " '__len__',\n",
       " '__lt__',\n",
       " '__mod__',\n",
       " '__mul__',\n",
       " '__ne__',\n",
       " '__new__',\n",
       " '__reduce__',\n",
       " '__reduce_ex__',\n",
       " '__repr__',\n",
       " '__rmod__',\n",
       " '__rmul__',\n",
       " '__setattr__',\n",
       " '__sizeof__',\n",
       " '__str__',\n",
       " '__subclasshook__',\n",
       " 'capitalize',\n",
       " 'casefold',\n",
       " 'center',\n",
       " 'count',\n",
       " 'encode',\n",
       " 'endswith',\n",
       " 'expandtabs',\n",
       " 'find',\n",
       " 'format',\n",
       " 'format_map',\n",
       " 'index',\n",
       " 'isalnum',\n",
       " 'isalpha',\n",
       " 'isascii',\n",
       " 'isdecimal',\n",
       " 'isdigit',\n",
       " 'isidentifier',\n",
       " 'islower',\n",
       " 'isnumeric',\n",
       " 'isprintable',\n",
       " 'isspace',\n",
       " 'istitle',\n",
       " 'isupper',\n",
       " 'join',\n",
       " 'ljust',\n",
       " 'lower',\n",
       " 'lstrip',\n",
       " 'maketrans',\n",
       " 'partition',\n",
       " 'removeprefix',\n",
       " 'removesuffix',\n",
       " 'replace',\n",
       " 'rfind',\n",
       " 'rindex',\n",
       " 'rjust',\n",
       " 'rpartition',\n",
       " 'rsplit',\n",
       " 'rstrip',\n",
       " 'split',\n",
       " 'splitlines',\n",
       " 'startswith',\n",
       " 'strip',\n",
       " 'swapcase',\n",
       " 'title',\n",
       " 'translate',\n",
       " 'upper',\n",
       " 'zfill']"
      ]
     },
     "execution_count": 10,
     "metadata": {},
     "output_type": "execute_result"
    }
   ],
   "source": [
    "dir(str2)"
   ]
  },
  {
   "cell_type": "code",
   "execution_count": 11,
   "id": "07bdab4b",
   "metadata": {},
   "outputs": [],
   "source": [
    "new_string = 'shivank is a boy '"
   ]
  },
  {
   "cell_type": "code",
   "execution_count": 12,
   "id": "e12bd722",
   "metadata": {},
   "outputs": [
    {
     "data": {
      "text/plain": [
       "'h'"
      ]
     },
     "execution_count": 12,
     "metadata": {},
     "output_type": "execute_result"
    }
   ],
   "source": [
    "new_string[1]"
   ]
  },
  {
   "cell_type": "code",
   "execution_count": 14,
   "id": "f761a1b9",
   "metadata": {},
   "outputs": [
    {
     "data": {
      "text/plain": [
       "'s'"
      ]
     },
     "execution_count": 14,
     "metadata": {},
     "output_type": "execute_result"
    }
   ],
   "source": [
    "new_string[0]"
   ]
  },
  {
   "cell_type": "code",
   "execution_count": 15,
   "id": "93c2983d",
   "metadata": {},
   "outputs": [
    {
     "name": "stdout",
     "output_type": "stream",
     "text": [
      "s\n",
      "h\n",
      "i\n",
      "v\n",
      "a\n",
      "n\n",
      "k\n",
      " \n",
      "i\n",
      "s\n",
      " \n",
      "a\n",
      " \n",
      "b\n",
      "o\n",
      "y\n",
      " \n"
     ]
    }
   ],
   "source": [
    "for i in new_string:\n",
    "    print(i)"
   ]
  },
  {
   "cell_type": "code",
   "execution_count": 17,
   "id": "10107e71",
   "metadata": {},
   "outputs": [
    {
     "data": {
      "text/plain": [
       "'shivank is a boy '"
      ]
     },
     "execution_count": 17,
     "metadata": {},
     "output_type": "execute_result"
    }
   ],
   "source": [
    "## slice operation \n",
    "new_string[0:]"
   ]
  },
  {
   "cell_type": "code",
   "execution_count": 18,
   "id": "6cef7337",
   "metadata": {},
   "outputs": [
    {
     "data": {
      "text/plain": [
       "'shiva'"
      ]
     },
     "execution_count": 18,
     "metadata": {},
     "output_type": "execute_result"
    }
   ],
   "source": [
    "new_string[0:5]"
   ]
  },
  {
   "cell_type": "code",
   "execution_count": 19,
   "id": "3056c470",
   "metadata": {},
   "outputs": [
    {
     "data": {
      "text/plain": [
       "'ank is a boy '"
      ]
     },
     "execution_count": 19,
     "metadata": {},
     "output_type": "execute_result"
    }
   ],
   "source": [
    "new_string[4:]"
   ]
  },
  {
   "cell_type": "code",
   "execution_count": 20,
   "id": "8a3d4f38",
   "metadata": {},
   "outputs": [
    {
     "data": {
      "text/plain": [
       "'siaki  o '"
      ]
     },
     "execution_count": 20,
     "metadata": {},
     "output_type": "execute_result"
    }
   ],
   "source": [
    "new_string[0::2]"
   ]
  },
  {
   "cell_type": "code",
   "execution_count": 21,
   "id": "ccea9aee",
   "metadata": {},
   "outputs": [
    {
     "data": {
      "text/plain": [
       "'shivank is a boy '"
      ]
     },
     "execution_count": 21,
     "metadata": {},
     "output_type": "execute_result"
    }
   ],
   "source": [
    "new_string[::]"
   ]
  },
  {
   "cell_type": "code",
   "execution_count": 23,
   "id": "0663daf5",
   "metadata": {},
   "outputs": [
    {
     "data": {
      "text/plain": [
       "' yob a si knavihs'"
      ]
     },
     "execution_count": 23,
     "metadata": {},
     "output_type": "execute_result"
    }
   ],
   "source": [
    "new_string[::-1]"
   ]
  },
  {
   "cell_type": "code",
   "execution_count": 24,
   "id": "decfa742",
   "metadata": {},
   "outputs": [
    {
     "data": {
      "text/plain": [
       "' yob a si kna'"
      ]
     },
     "execution_count": 24,
     "metadata": {},
     "output_type": "execute_result"
    }
   ],
   "source": [
    "new_string[:3:-1]"
   ]
  },
  {
   "cell_type": "code",
   "execution_count": 25,
   "id": "a6da2827",
   "metadata": {},
   "outputs": [
    {
     "data": {
      "text/plain": [
       "'shivank is a boy '"
      ]
     },
     "execution_count": 25,
     "metadata": {},
     "output_type": "execute_result"
    }
   ],
   "source": [
    "new_string"
   ]
  },
  {
   "cell_type": "code",
   "execution_count": 30,
   "id": "3c6b3553",
   "metadata": {},
   "outputs": [
    {
     "data": {
      "text/plain": [
       "'knavihs'"
      ]
     },
     "execution_count": 30,
     "metadata": {},
     "output_type": "execute_result"
    }
   ],
   "source": [
    "new_string[6::-1]"
   ]
  },
  {
   "cell_type": "code",
   "execution_count": 31,
   "id": "15e2640c",
   "metadata": {},
   "outputs": [
    {
     "data": {
      "text/plain": [
       "'India is a great country'"
      ]
     },
     "execution_count": 31,
     "metadata": {},
     "output_type": "execute_result"
    }
   ],
   "source": [
    "str1"
   ]
  },
  {
   "cell_type": "code",
   "execution_count": 32,
   "id": "ae4ffee2",
   "metadata": {},
   "outputs": [
    {
     "data": {
      "text/plain": [
       "'shivank pandey'"
      ]
     },
     "execution_count": 32,
     "metadata": {},
     "output_type": "execute_result"
    }
   ],
   "source": [
    "str2"
   ]
  },
  {
   "cell_type": "code",
   "execution_count": 33,
   "id": "7063fcc5",
   "metadata": {},
   "outputs": [
    {
     "data": {
      "text/plain": [
       "'I'"
      ]
     },
     "execution_count": 33,
     "metadata": {},
     "output_type": "execute_result"
    }
   ],
   "source": [
    "str1[0]"
   ]
  },
  {
   "cell_type": "code",
   "execution_count": 34,
   "id": "f734da2a",
   "metadata": {},
   "outputs": [
    {
     "data": {
      "text/plain": [
       "'India is a great country'"
      ]
     },
     "execution_count": 34,
     "metadata": {},
     "output_type": "execute_result"
    }
   ],
   "source": [
    "str1[0:]"
   ]
  },
  {
   "cell_type": "code",
   "execution_count": 36,
   "id": "0f8da22f",
   "metadata": {},
   "outputs": [
    {
     "data": {
      "text/plain": [
       "'yrtnuoc taerg a si aidnI'"
      ]
     },
     "execution_count": 36,
     "metadata": {},
     "output_type": "execute_result"
    }
   ],
   "source": [
    "str1[::-1]"
   ]
  },
  {
   "cell_type": "code",
   "execution_count": 37,
   "id": "7d1f57e7",
   "metadata": {},
   "outputs": [
    {
     "data": {
      "text/plain": [
       "'India is a great country'"
      ]
     },
     "execution_count": 37,
     "metadata": {},
     "output_type": "execute_result"
    }
   ],
   "source": [
    "str1[::1]"
   ]
  },
  {
   "cell_type": "code",
   "execution_count": 38,
   "id": "2490876d",
   "metadata": {},
   "outputs": [
    {
     "data": {
      "text/plain": [
       "'aidnI'"
      ]
     },
     "execution_count": 38,
     "metadata": {},
     "output_type": "execute_result"
    }
   ],
   "source": [
    "str1[4::-1]"
   ]
  },
  {
   "cell_type": "code",
   "execution_count": 41,
   "id": "dab6a1ed",
   "metadata": {},
   "outputs": [
    {
     "data": {
      "text/plain": [
       "''"
      ]
     },
     "execution_count": 41,
     "metadata": {},
     "output_type": "execute_result"
    }
   ],
   "source": [
    "str1[2:9:-1]"
   ]
  },
  {
   "cell_type": "code",
   "execution_count": 42,
   "id": "4e5abdc7",
   "metadata": {},
   "outputs": [
    {
     "data": {
      "text/plain": [
       "'yrtnuoc taerg '"
      ]
     },
     "execution_count": 42,
     "metadata": {},
     "output_type": "execute_result"
    }
   ],
   "source": [
    "str1[:9:-1]"
   ]
  },
  {
   "cell_type": "code",
   "execution_count": 44,
   "id": "6b25023d",
   "metadata": {},
   "outputs": [
    {
     "data": {
      "text/plain": [
       "'India is a great country shivank pandey'"
      ]
     },
     "execution_count": 44,
     "metadata": {},
     "output_type": "execute_result"
    }
   ],
   "source": [
    "#concatenation of string \n",
    "## same data type are concate \n",
    "str1+\" \"+str2"
   ]
  },
  {
   "cell_type": "code",
   "execution_count": 47,
   "id": "abefafee",
   "metadata": {},
   "outputs": [
    {
     "data": {
      "text/plain": [
       "'India is a great country I proud to be indian '"
      ]
     },
     "execution_count": 47,
     "metadata": {},
     "output_type": "execute_result"
    }
   ],
   "source": [
    "str1 + \" I proud to be indian \""
   ]
  },
  {
   "cell_type": "code",
   "execution_count": 49,
   "id": "645d9bd9",
   "metadata": {},
   "outputs": [
    {
     "name": "stdout",
     "output_type": "stream",
     "text": [
      "print hello world\n"
     ]
    }
   ],
   "source": [
    "print(\"print hello\"+\" world\")"
   ]
  },
  {
   "cell_type": "code",
   "execution_count": 50,
   "id": "bac09c0c",
   "metadata": {},
   "outputs": [
    {
     "data": {
      "text/plain": [
       "'India is a great countryIndia is a great countryIndia is a great countryIndia is a great country'"
      ]
     },
     "execution_count": 50,
     "metadata": {},
     "output_type": "execute_result"
    }
   ],
   "source": [
    "str1*4"
   ]
  },
  {
   "cell_type": "code",
   "execution_count": 52,
   "id": "845d760d",
   "metadata": {},
   "outputs": [
    {
     "data": {
      "text/plain": [
       "24"
      ]
     },
     "execution_count": 52,
     "metadata": {},
     "output_type": "execute_result"
    }
   ],
   "source": [
    "len(str1)   #it is give the length of string"
   ]
  },
  {
   "cell_type": "code",
   "execution_count": 53,
   "id": "6e78d767",
   "metadata": {},
   "outputs": [],
   "source": [
    "## find :- It is used to find something in the string"
   ]
  },
  {
   "cell_type": "code",
   "execution_count": 56,
   "id": "c925346e",
   "metadata": {},
   "outputs": [
    {
     "data": {
      "text/plain": [
       "'India is a great country'"
      ]
     },
     "execution_count": 56,
     "metadata": {},
     "output_type": "execute_result"
    }
   ],
   "source": [
    "str1"
   ]
  },
  {
   "cell_type": "code",
   "execution_count": 55,
   "id": "0d10bc7f",
   "metadata": {},
   "outputs": [
    {
     "data": {
      "text/plain": [
       "3"
      ]
     },
     "execution_count": 55,
     "metadata": {},
     "output_type": "execute_result"
    }
   ],
   "source": [
    "str1.find(\"i\")"
   ]
  },
  {
   "cell_type": "code",
   "execution_count": 58,
   "id": "a5767ca7",
   "metadata": {},
   "outputs": [
    {
     "data": {
      "text/plain": [
       "11"
      ]
     },
     "execution_count": 58,
     "metadata": {},
     "output_type": "execute_result"
    }
   ],
   "source": [
    "str1.find(\"g\")"
   ]
  },
  {
   "cell_type": "code",
   "execution_count": 59,
   "id": "2a7c8939",
   "metadata": {},
   "outputs": [],
   "source": [
    "#count():- it is used to return count"
   ]
  },
  {
   "cell_type": "code",
   "execution_count": 60,
   "id": "0f0cd2b0",
   "metadata": {},
   "outputs": [
    {
     "data": {
      "text/plain": [
       "2"
      ]
     },
     "execution_count": 60,
     "metadata": {},
     "output_type": "execute_result"
    }
   ],
   "source": [
    "str1.count('i')"
   ]
  },
  {
   "cell_type": "code",
   "execution_count": 61,
   "id": "d81c5003",
   "metadata": {},
   "outputs": [],
   "source": [
    "# string split function :- it is used to split the string"
   ]
  },
  {
   "cell_type": "code",
   "execution_count": 62,
   "id": "9136d183",
   "metadata": {},
   "outputs": [
    {
     "data": {
      "text/plain": [
       "'India is a great country'"
      ]
     },
     "execution_count": 62,
     "metadata": {},
     "output_type": "execute_result"
    }
   ],
   "source": [
    "str1"
   ]
  },
  {
   "cell_type": "code",
   "execution_count": 63,
   "id": "e2131235",
   "metadata": {},
   "outputs": [
    {
     "data": {
      "text/plain": [
       "['India', 'is', 'a', 'great', 'country']"
      ]
     },
     "execution_count": 63,
     "metadata": {},
     "output_type": "execute_result"
    }
   ],
   "source": [
    "str1.split(' ')"
   ]
  },
  {
   "cell_type": "code",
   "execution_count": 64,
   "id": "181cf367",
   "metadata": {},
   "outputs": [
    {
     "data": {
      "text/plain": [
       "['Ind', 'a ', 's a great country']"
      ]
     },
     "execution_count": 64,
     "metadata": {},
     "output_type": "execute_result"
    }
   ],
   "source": [
    "str1.split('i')"
   ]
  },
  {
   "cell_type": "code",
   "execution_count": 65,
   "id": "0b977657",
   "metadata": {},
   "outputs": [],
   "source": [
    "# partition :- it is used to divide the string "
   ]
  },
  {
   "cell_type": "code",
   "execution_count": 66,
   "id": "c029f923",
   "metadata": {},
   "outputs": [
    {
     "data": {
      "text/plain": [
       "'India is a great country'"
      ]
     },
     "execution_count": 66,
     "metadata": {},
     "output_type": "execute_result"
    }
   ],
   "source": [
    "str1"
   ]
  },
  {
   "cell_type": "code",
   "execution_count": 67,
   "id": "e67b9dea",
   "metadata": {},
   "outputs": [
    {
     "data": {
      "text/plain": [
       "('Ind', 'i', 'a is a great country')"
      ]
     },
     "execution_count": 67,
     "metadata": {},
     "output_type": "execute_result"
    }
   ],
   "source": [
    "str1.partition(\"i\")"
   ]
  },
  {
   "cell_type": "code",
   "execution_count": 68,
   "id": "24c19b13",
   "metadata": {},
   "outputs": [
    {
     "data": {
      "text/plain": [
       "('India i', 's', ' a great country')"
      ]
     },
     "execution_count": 68,
     "metadata": {},
     "output_type": "execute_result"
    }
   ],
   "source": [
    "str1.partition(\"s\")"
   ]
  },
  {
   "cell_type": "code",
   "execution_count": 69,
   "id": "b22135eb",
   "metadata": {},
   "outputs": [],
   "source": [
    "## string upper case and lower case \n"
   ]
  },
  {
   "cell_type": "code",
   "execution_count": 70,
   "id": "21469bd5",
   "metadata": {},
   "outputs": [
    {
     "data": {
      "text/plain": [
       "'india is a great country'"
      ]
     },
     "execution_count": 70,
     "metadata": {},
     "output_type": "execute_result"
    }
   ],
   "source": [
    "str1.lower()"
   ]
  },
  {
   "cell_type": "code",
   "execution_count": 71,
   "id": "faa2d27c",
   "metadata": {},
   "outputs": [
    {
     "data": {
      "text/plain": [
       "'INDIA IS A GREAT COUNTRY'"
      ]
     },
     "execution_count": 71,
     "metadata": {},
     "output_type": "execute_result"
    }
   ],
   "source": [
    "str1.upper()"
   ]
  },
  {
   "cell_type": "code",
   "execution_count": 72,
   "id": "456f6846",
   "metadata": {},
   "outputs": [
    {
     "data": {
      "text/plain": [
       "'shivank pandey'"
      ]
     },
     "execution_count": 72,
     "metadata": {},
     "output_type": "execute_result"
    }
   ],
   "source": [
    "str2"
   ]
  },
  {
   "cell_type": "code",
   "execution_count": 73,
   "id": "bc8b69a6",
   "metadata": {},
   "outputs": [
    {
     "data": {
      "text/plain": [
       "'SHIVANK PANDEY'"
      ]
     },
     "execution_count": 73,
     "metadata": {},
     "output_type": "execute_result"
    }
   ],
   "source": [
    "str2.upper()"
   ]
  },
  {
   "cell_type": "code",
   "execution_count": 74,
   "id": "9bd1c104",
   "metadata": {},
   "outputs": [
    {
     "data": {
      "text/plain": [
       "'shivank pandey'"
      ]
     },
     "execution_count": 74,
     "metadata": {},
     "output_type": "execute_result"
    }
   ],
   "source": [
    "str2.lower()"
   ]
  },
  {
   "cell_type": "code",
   "execution_count": 75,
   "id": "31b33429",
   "metadata": {},
   "outputs": [],
   "source": [
    "str3=\"i am living in the vidisha \""
   ]
  },
  {
   "cell_type": "code",
   "execution_count": 77,
   "id": "58a7beac",
   "metadata": {},
   "outputs": [
    {
     "name": "stdout",
     "output_type": "stream",
     "text": [
      "India is a great country\n",
      "shivank pandey\n",
      "i am living in the vidisha \n"
     ]
    }
   ],
   "source": [
    "print(str1)\n",
    "print(str2)\n",
    "print(str3)"
   ]
  },
  {
   "cell_type": "code",
   "execution_count": 79,
   "id": "9e47cbf1",
   "metadata": {},
   "outputs": [
    {
     "name": "stdout",
     "output_type": "stream",
     "text": [
      "INDIA IS A GREAT COUNTRY\n",
      "SHIVANK PANDEY\n",
      "I AM LIVING IN THE VIDISHA \n"
     ]
    }
   ],
   "source": [
    "print(str1.upper())\n",
    "print(str2.upper())\n",
    "print(str3.upper())"
   ]
  },
  {
   "cell_type": "code",
   "execution_count": 80,
   "id": "a3e41980",
   "metadata": {},
   "outputs": [
    {
     "name": "stdout",
     "output_type": "stream",
     "text": [
      "india is a great country\n",
      "shivank pandey\n",
      "i am living in the vidisha \n"
     ]
    }
   ],
   "source": [
    "print(str1.lower())\n",
    "print(str2.lower())\n",
    "print(str3.lower())"
   ]
  },
  {
   "cell_type": "code",
   "execution_count": 82,
   "id": "381a61e8",
   "metadata": {},
   "outputs": [
    {
     "name": "stdout",
     "output_type": "stream",
     "text": [
      "India Is A Great Country\n",
      "Shivank Pandey\n",
      "I Am Living In The Vidisha \n"
     ]
    }
   ],
   "source": [
    "print(str1.title())\n",
    "print(str2.title())\n",
    "print(str3.title())"
   ]
  },
  {
   "cell_type": "code",
   "execution_count": 83,
   "id": "30b93cce",
   "metadata": {},
   "outputs": [],
   "source": [
    "#strip will remove white space from both end of the string \n"
   ]
  },
  {
   "cell_type": "code",
   "execution_count": 84,
   "id": "a7331d74",
   "metadata": {},
   "outputs": [
    {
     "data": {
      "text/plain": [
       "'pw skill is providing a good resource'"
      ]
     },
     "execution_count": 84,
     "metadata": {},
     "output_type": "execute_result"
    }
   ],
   "source": [
    "str4=\"  pw skill is providing a good resource   \"\n",
    "str4.strip(\" \")"
   ]
  },
  {
   "cell_type": "code",
   "execution_count": 85,
   "id": "ce2d8450",
   "metadata": {},
   "outputs": [
    {
     "data": {
      "text/plain": [
       "'  pw skill is providing a good resource   '"
      ]
     },
     "execution_count": 85,
     "metadata": {},
     "output_type": "execute_result"
    }
   ],
   "source": [
    "str4.strip(\"\")"
   ]
  },
  {
   "cell_type": "code",
   "execution_count": 86,
   "id": "709cefd7",
   "metadata": {},
   "outputs": [
    {
     "data": {
      "text/plain": [
       "'  pw skill is providing a good resource   '"
      ]
     },
     "execution_count": 86,
     "metadata": {},
     "output_type": "execute_result"
    }
   ],
   "source": [
    "str4.strip(\"p\")"
   ]
  },
  {
   "cell_type": "code",
   "execution_count": 91,
   "id": "4feb95b2",
   "metadata": {},
   "outputs": [
    {
     "data": {
      "text/plain": [
       "'pw skill is providing a good resource   '"
      ]
     },
     "execution_count": 91,
     "metadata": {},
     "output_type": "execute_result"
    }
   ],
   "source": [
    "str4.lstrip(\" \") ## it is used ti removing left white space"
   ]
  },
  {
   "cell_type": "code",
   "execution_count": 90,
   "id": "54029085",
   "metadata": {},
   "outputs": [
    {
     "data": {
      "text/plain": [
       "'  pw skill is providing a good resource'"
      ]
     },
     "execution_count": 90,
     "metadata": {},
     "output_type": "execute_result"
    }
   ],
   "source": [
    "str4.rstrip(\" \")  ## it is used ti removing right  white space"
   ]
  },
  {
   "cell_type": "code",
   "execution_count": 92,
   "id": "6c01c0ff",
   "metadata": {},
   "outputs": [],
   "source": [
    "#join operating in string "
   ]
  },
  {
   "cell_type": "code",
   "execution_count": 95,
   "id": "b5ae0325",
   "metadata": {},
   "outputs": [
    {
     "data": {
      "text/plain": [
       "'1\\nshivank2\\nshivank3\\nshivank4\\nshivank5\\nshivank6\\nshivank7'"
      ]
     },
     "execution_count": 95,
     "metadata": {},
     "output_type": "execute_result"
    }
   ],
   "source": [
    "\"shivank\".join(\"1234567\")"
   ]
  },
  {
   "cell_type": "code",
   "execution_count": 96,
   "id": "5be89316",
   "metadata": {},
   "outputs": [
    {
     "data": {
      "text/plain": [
       "'s h i v a n k'"
      ]
     },
     "execution_count": 96,
     "metadata": {},
     "output_type": "execute_result"
    }
   ],
   "source": [
    "\" \".join(\"shivank\")"
   ]
  },
  {
   "cell_type": "code",
   "execution_count": 97,
   "id": "178e5074",
   "metadata": {},
   "outputs": [
    {
     "data": {
      "text/plain": [
       "'s,h,i,v'"
      ]
     },
     "execution_count": 97,
     "metadata": {},
     "output_type": "execute_result"
    }
   ],
   "source": [
    "\",\".join(\"shiv\")"
   ]
  },
  {
   "cell_type": "code",
   "execution_count": 98,
   "id": "14d4579b",
   "metadata": {},
   "outputs": [],
   "source": [
    "#replace string \n",
    "string=\"this is a life changing moment\""
   ]
  },
  {
   "cell_type": "code",
   "execution_count": 99,
   "id": "20c6ee9a",
   "metadata": {},
   "outputs": [
    {
     "data": {
      "text/plain": [
       "'this is a life changing moment'"
      ]
     },
     "execution_count": 99,
     "metadata": {},
     "output_type": "execute_result"
    }
   ],
   "source": [
    "string"
   ]
  },
  {
   "cell_type": "code",
   "execution_count": 100,
   "id": "ed9873eb",
   "metadata": {},
   "outputs": [
    {
     "data": {
      "text/plain": [
       "'this is a life changing seatitition'"
      ]
     },
     "execution_count": 100,
     "metadata": {},
     "output_type": "execute_result"
    }
   ],
   "source": [
    "string.replace(\"moment\",\"seatitition\")"
   ]
  },
  {
   "cell_type": "code",
   "execution_count": 101,
   "id": "66f97087",
   "metadata": {},
   "outputs": [],
   "source": [
    "#formatting "
   ]
  },
  {
   "cell_type": "code",
   "execution_count": 103,
   "id": "e58adb98",
   "metadata": {},
   "outputs": [
    {
     "data": {
      "text/plain": [
       "'ooooooooooooooooooooooooooooooooooothis is a life changing momentooooooooooooooooooooooooooooooooooo'"
      ]
     },
     "execution_count": 103,
     "metadata": {},
     "output_type": "execute_result"
    }
   ],
   "source": [
    "string.center(100,\"o\")"
   ]
  },
  {
   "cell_type": "code",
   "execution_count": 108,
   "id": "a32640de",
   "metadata": {},
   "outputs": [
    {
     "data": {
      "text/plain": [
       "'hell    hi'"
      ]
     },
     "execution_count": 108,
     "metadata": {},
     "output_type": "execute_result"
    }
   ],
   "source": [
    "'hell\\thi'.expandtabs()"
   ]
  },
  {
   "cell_type": "code",
   "execution_count": 114,
   "id": "9a523a7c",
   "metadata": {},
   "outputs": [
    {
     "data": {
      "text/plain": [
       "'this is a life changing moment'"
      ]
     },
     "execution_count": 114,
     "metadata": {},
     "output_type": "execute_result"
    }
   ],
   "source": [
    "#checking string case \n",
    "string"
   ]
  },
  {
   "cell_type": "code",
   "execution_count": 113,
   "id": "bc334308",
   "metadata": {},
   "outputs": [
    {
     "data": {
      "text/plain": [
       "False"
      ]
     },
     "execution_count": 113,
     "metadata": {},
     "output_type": "execute_result"
    }
   ],
   "source": [
    "string.isupper()"
   ]
  },
  {
   "cell_type": "code",
   "execution_count": 115,
   "id": "69ef351c",
   "metadata": {},
   "outputs": [
    {
     "data": {
      "text/plain": [
       "True"
      ]
     },
     "execution_count": 115,
     "metadata": {},
     "output_type": "execute_result"
    }
   ],
   "source": [
    "string.islower() # it is used to check the string contain all the lower case"
   ]
  },
  {
   "cell_type": "code",
   "execution_count": 117,
   "id": "9af12e9a",
   "metadata": {},
   "outputs": [
    {
     "data": {
      "text/plain": [
       "False"
      ]
     },
     "execution_count": 117,
     "metadata": {},
     "output_type": "execute_result"
    }
   ],
   "source": [
    "string.isspace() # it is used to check the string contain space"
   ]
  },
  {
   "cell_type": "code",
   "execution_count": 118,
   "id": "f6f0e248",
   "metadata": {},
   "outputs": [
    {
     "data": {
      "text/plain": [
       "False"
      ]
     },
     "execution_count": 118,
     "metadata": {},
     "output_type": "execute_result"
    }
   ],
   "source": [
    "string.isdigit() # it is used to check the string contain all the digit"
   ]
  },
  {
   "cell_type": "code",
   "execution_count": 120,
   "id": "a9ade928",
   "metadata": {},
   "outputs": [
    {
     "data": {
      "text/plain": [
       "True"
      ]
     },
     "execution_count": 120,
     "metadata": {},
     "output_type": "execute_result"
    }
   ],
   "source": [
    "string.endswith('t')  # it is used to check the string end with (\"\")"
   ]
  },
  {
   "cell_type": "code",
   "execution_count": 121,
   "id": "4634fbb4",
   "metadata": {},
   "outputs": [
    {
     "data": {
      "text/plain": [
       "False"
      ]
     },
     "execution_count": 121,
     "metadata": {},
     "output_type": "execute_result"
    }
   ],
   "source": [
    "string.endswith('2')  "
   ]
  },
  {
   "cell_type": "code",
   "execution_count": 122,
   "id": "4fd1e38a",
   "metadata": {},
   "outputs": [
    {
     "data": {
      "text/plain": [
       "True"
      ]
     },
     "execution_count": 122,
     "metadata": {},
     "output_type": "execute_result"
    }
   ],
   "source": [
    "string.startswith('t')  # it is used to check the string contain start with \"\""
   ]
  },
  {
   "cell_type": "raw",
   "id": "3a97a908",
   "metadata": {},
   "source": [
    "string.endswith('i')"
   ]
  },
  {
   "cell_type": "code",
   "execution_count": 124,
   "id": "674f7b6c",
   "metadata": {},
   "outputs": [],
   "source": [
    "newstr1=\"123abcd\""
   ]
  },
  {
   "cell_type": "code",
   "execution_count": 125,
   "id": "3558d081",
   "metadata": {},
   "outputs": [
    {
     "data": {
      "text/plain": [
       "'123abcd'"
      ]
     },
     "execution_count": 125,
     "metadata": {},
     "output_type": "execute_result"
    }
   ],
   "source": [
    "newstr1"
   ]
  },
  {
   "cell_type": "code",
   "execution_count": 126,
   "id": "62f44748",
   "metadata": {},
   "outputs": [
    {
     "data": {
      "text/plain": [
       "True"
      ]
     },
     "execution_count": 126,
     "metadata": {},
     "output_type": "execute_result"
    }
   ],
   "source": [
    "newstr1.isalnum()"
   ]
  },
  {
   "cell_type": "code",
   "execution_count": 128,
   "id": "34afcb83",
   "metadata": {},
   "outputs": [
    {
     "data": {
      "text/plain": [
       "False"
      ]
     },
     "execution_count": 128,
     "metadata": {},
     "output_type": "execute_result"
    }
   ],
   "source": [
    "string.isalnum()"
   ]
  },
  {
   "cell_type": "code",
   "execution_count": 129,
   "id": "a7e35d57",
   "metadata": {},
   "outputs": [
    {
     "data": {
      "text/plain": [
       "False"
      ]
     },
     "execution_count": 129,
     "metadata": {},
     "output_type": "execute_result"
    }
   ],
   "source": [
    "string.istitle()"
   ]
  },
  {
   "cell_type": "markdown",
   "id": "075361b5",
   "metadata": {},
   "source": [
    "# Iterete through a string"
   ]
  },
  {
   "cell_type": "code",
   "execution_count": 130,
   "id": "d3e0a93b",
   "metadata": {},
   "outputs": [
    {
     "data": {
      "text/plain": [
       "30"
      ]
     },
     "execution_count": 130,
     "metadata": {},
     "output_type": "execute_result"
    }
   ],
   "source": [
    "len(string)"
   ]
  },
  {
   "cell_type": "code",
   "execution_count": 131,
   "id": "76057c77",
   "metadata": {},
   "outputs": [
    {
     "name": "stdout",
     "output_type": "stream",
     "text": [
      "30\n"
     ]
    }
   ],
   "source": [
    "count = 0\n",
    "for ch in string:\n",
    "    count=count+1\n",
    "    \n",
    "print(count)\n",
    "    "
   ]
  },
  {
   "cell_type": "code",
   "execution_count": 135,
   "id": "779fd915",
   "metadata": {},
   "outputs": [
    {
     "name": "stdout",
     "output_type": "stream",
     "text": [
      "t\n",
      "h\n",
      "i\n",
      "s\n",
      " \n",
      "i\n",
      "s\n",
      " \n",
      "a\n",
      " \n",
      "l\n",
      "i\n",
      "f\n",
      "e\n",
      " \n",
      "c\n",
      "h\n",
      "a\n",
      "n\n",
      "g\n",
      "i\n",
      "n\n",
      "g\n",
      " \n",
      "m\n",
      "o\n",
      "m\n",
      "e\n",
      "n\n",
      "t\n"
     ]
    }
   ],
   "source": [
    "# iterete the string throug range function\n",
    "for ch in range(0,len(string)):\n",
    "    print(string[ch])\n"
   ]
  },
  {
   "cell_type": "code",
   "execution_count": 136,
   "id": "1d8a8e58",
   "metadata": {},
   "outputs": [],
   "source": [
    "string= string.upper()"
   ]
  },
  {
   "cell_type": "code",
   "execution_count": 137,
   "id": "ce0a01e2",
   "metadata": {},
   "outputs": [
    {
     "data": {
      "text/plain": [
       "'THIS IS A LIFE CHANGING MOMENT'"
      ]
     },
     "execution_count": 137,
     "metadata": {},
     "output_type": "execute_result"
    }
   ],
   "source": [
    "string"
   ]
  },
  {
   "cell_type": "code",
   "execution_count": 138,
   "id": "19ef1793",
   "metadata": {},
   "outputs": [
    {
     "name": "stdout",
     "output_type": "stream",
     "text": [
      "T\n",
      "H\n",
      "I\n",
      "S\n",
      " \n",
      "I\n",
      "S\n",
      " \n",
      "A\n",
      " \n",
      "L\n",
      "I\n",
      "F\n",
      "E\n",
      " \n",
      "C\n",
      "H\n",
      "A\n",
      "N\n",
      "G\n",
      "I\n",
      "N\n",
      "G\n",
      " \n",
      "M\n",
      "O\n",
      "M\n",
      "E\n",
      "N\n",
      "T\n"
     ]
    }
   ],
   "source": [
    "# iterete the string throug range function\n",
    "for ch in range(0,len(string)):\n",
    "    print(string[ch])\n"
   ]
  },
  {
   "cell_type": "code",
   "execution_count": 144,
   "id": "afd33c2f",
   "metadata": {},
   "outputs": [
    {
     "name": "stdout",
     "output_type": "stream",
     "text": [
      "T\n",
      "N\n",
      "E\n",
      "M\n",
      "O\n",
      "M\n",
      " \n",
      "G\n",
      "N\n",
      "I\n",
      "G\n",
      "N\n",
      "A\n",
      "H\n",
      "C\n",
      " \n",
      "E\n",
      "F\n",
      "I\n",
      "L\n",
      " \n",
      "A\n",
      " \n",
      "S\n",
      "I\n",
      " \n",
      "S\n",
      "I\n",
      "H\n",
      "T\n"
     ]
    }
   ],
   "source": [
    "#reverse the string by the help of index\n",
    "ch = len(string)-1\n",
    "while ch>=0:\n",
    "    print(string[ch])\n",
    "    ch =ch-1"
   ]
  },
  {
   "cell_type": "code",
   "execution_count": 153,
   "id": "bf2bd13a",
   "metadata": {},
   "outputs": [
    {
     "name": "stdout",
     "output_type": "stream",
     "text": [
      "s not vowel\n",
      "h not vowel\n",
      "i vowel\n",
      "i not vowel\n",
      "v not vowel\n",
      "a vowel\n",
      "a not vowel\n",
      "n not vowel\n",
      "k not vowel\n",
      "slash\n",
      "  not vowel\n",
      "comma\n",
      "slash\n",
      "  not vowel\n",
      "t not vowel\n",
      "a vowel\n",
      "a not vowel\n",
      "n not vowel\n",
      "y not vowel\n",
      "a vowel\n",
      "a not vowel\n",
      "slash\n",
      "  not vowel\n"
     ]
    }
   ],
   "source": [
    "name=\"shivank , tanya \"\n",
    "vowel=\"AEIOUaeiou\"\n",
    "name.strip()\n",
    "\n",
    "for i in name:\n",
    "    if i in vowel:\n",
    "        print(i,\"vowel\")\n",
    "    if i==\" \":\n",
    "        print(\"slash\")\n",
    "    if i==\",\":\n",
    "        print(\"comma\")\n",
    "    else:\n",
    "        print(i,\"not vowel\")"
   ]
  },
  {
   "cell_type": "code",
   "execution_count": null,
   "id": "3e47be11",
   "metadata": {},
   "outputs": [],
   "source": []
  }
 ],
 "metadata": {
  "kernelspec": {
   "display_name": "Python 3 (ipykernel)",
   "language": "python",
   "name": "python3"
  },
  "language_info": {
   "codemirror_mode": {
    "name": "ipython",
    "version": 3
   },
   "file_extension": ".py",
   "mimetype": "text/x-python",
   "name": "python",
   "nbconvert_exporter": "python",
   "pygments_lexer": "ipython3",
   "version": "3.10.9"
  }
 },
 "nbformat": 4,
 "nbformat_minor": 5
}
