{
 "cells": [
  {
   "cell_type": "code",
   "execution_count": null,
   "id": "bff57cab",
   "metadata": {},
   "outputs": [],
   "source": []
  },
  {
   "cell_type": "markdown",
   "id": "0667d487",
   "metadata": {},
   "source": [
    "#  python assignment\n"
   ]
  },
  {
   "cell_type": "markdown",
   "id": "23dbe37b",
   "metadata": {},
   "source": [
    "### Q1. Which keyword is used to create a function? Create a function to return a list of odd numbers in the range of 1 to 25."
   ]
  },
  {
   "cell_type": "markdown",
   "id": "9eb5ffc9",
   "metadata": {},
   "source": [
    "#### Ans:- def keyword is used to create a function "
   ]
  },
  {
   "cell_type": "code",
   "execution_count": null,
   "id": "55dcbd34",
   "metadata": {},
   "outputs": [],
   "source": [
    "# a function to return a list of odd numbers in the range of 1 to 25.\n",
    "\n",
    "def odd():\n",
    "    for i in range(1,25):\n",
    "        if i%2!=0:\n",
    "            print(i)\n",
    "        \n",
    "    "
   ]
  },
  {
   "cell_type": "code",
   "execution_count": null,
   "id": "860197a1",
   "metadata": {},
   "outputs": [],
   "source": [
    "odd()"
   ]
  },
  {
   "cell_type": "markdown",
   "id": "8c28af03",
   "metadata": {},
   "source": [
    "### Q2. Why *args and **kwargs is used in some functions? Create a function each for *args and **kwargs to demonstrate their use."
   ]
  },
  {
   "cell_type": "markdown",
   "id": "b08ff111",
   "metadata": {},
   "source": [
    "#### Answer:-\n",
    "#### *args:-when you are unsure about the number of arguments to pass in the functions then we used *args \n",
    "#### **kwards :- it is also like a *args but it give a result in the form of dictionary"
   ]
  },
  {
   "cell_type": "code",
   "execution_count": null,
   "id": "10429bad",
   "metadata": {},
   "outputs": [],
   "source": [
    "# a function each for *args and **kwargs to demonstrate their use.\n",
    "def fun(*arg):\n",
    "    return arg\n"
   ]
  },
  {
   "cell_type": "code",
   "execution_count": null,
   "id": "04672132",
   "metadata": {},
   "outputs": [],
   "source": [
    "l = ([1,2,3,4,5,6,7], (1,2,3,4,5),\"shivank\",'pandey')"
   ]
  },
  {
   "cell_type": "code",
   "execution_count": null,
   "id": "65cdd91f",
   "metadata": {},
   "outputs": [],
   "source": [
    "fun(l)"
   ]
  },
  {
   "cell_type": "code",
   "execution_count": null,
   "id": "283c1280",
   "metadata": {},
   "outputs": [],
   "source": [
    "def fun1(**dic): \n",
    "    return dic"
   ]
  },
  {
   "cell_type": "code",
   "execution_count": null,
   "id": "f4ba74d4",
   "metadata": {},
   "outputs": [],
   "source": [
    "fun1(a=1,b=\"shivank\",c=[1,2,3,4,5,6], d=(1,2,3,4,5,6))"
   ]
  },
  {
   "cell_type": "markdown",
   "id": "ffd60150",
   "metadata": {},
   "source": [
    "### Q3. What is an iterator in python? Name the method used to initialise the iterator object and the method used for iteration. Use these methods to print the first five elements of the given\n",
    "### list [2, 4, 6, 8, 10, 12, 14, 16,18, 20]."
   ]
  },
  {
   "cell_type": "raw",
   "id": "15e20e02",
   "metadata": {},
   "source": [
    "An iterator is an object that contains a countable number of values.\n",
    "                          or\n",
    "An iterator is an object that can be iterated upon, meaning that you can traverse through all the values."
   ]
  },
  {
   "cell_type": "code",
   "execution_count": 2,
   "id": "0c005214",
   "metadata": {},
   "outputs": [
    {
     "name": "stdout",
     "output_type": "stream",
     "text": [
      "2\n",
      "4\n",
      "6\n",
      "8\n",
      "10\n"
     ]
    }
   ],
   "source": [
    "my_list = [2, 4, 6, 8, 10, 12, 14, 16, 18, 20]\n",
    "\n",
    "# Create an iterator object\n",
    "my_iterator = iter(my_list)\n",
    "\n",
    "# Print the first five elements\n",
    "for _ in range(5):\n",
    "    element = next(my_iterator)\n",
    "    print(element)\n"
   ]
  },
  {
   "cell_type": "code",
   "execution_count": null,
   "id": "24641dba",
   "metadata": {},
   "outputs": [],
   "source": []
  },
  {
   "cell_type": "markdown",
   "id": "fbdf1933",
   "metadata": {},
   "source": [
    "### Q4. What is a generator function in python? Why yield keyword is used? Give an example of a generator function."
   ]
  },
  {
   "cell_type": "raw",
   "id": "779b13cf",
   "metadata": {},
   "source": [
    "Generators are functions that you can use for controlling the iterator. \n",
    "In comparison with regular functions that return a single value or nothing,\n",
    "generators return multiple values in a sequence, one after another."
   ]
  },
  {
   "cell_type": "raw",
   "id": "efadb601",
   "metadata": {},
   "source": [
    "yield keyword is used to convert an expression that is specified \n",
    "along with it to a generator object and return it to the caller."
   ]
  },
  {
   "cell_type": "code",
   "execution_count": null,
   "id": "42d692b1",
   "metadata": {},
   "outputs": [],
   "source": [
    "#for example \n",
    "# fibnakiseries\n",
    "def fib(n):\n",
    "    a=0\n",
    "    b=1\n",
    "    for i in range(n):\n",
    "        yield a\n",
    "        a,b=b,a+b\n",
    "    "
   ]
  },
  {
   "cell_type": "code",
   "execution_count": null,
   "id": "fc45bc56",
   "metadata": {},
   "outputs": [],
   "source": [
    "fib(11)"
   ]
  },
  {
   "cell_type": "code",
   "execution_count": null,
   "id": "c666ac3a",
   "metadata": {},
   "outputs": [],
   "source": [
    "for i in fib(11):\n",
    "    print(i)"
   ]
  },
  {
   "cell_type": "markdown",
   "id": "472846ef",
   "metadata": {},
   "source": [
    "### Q5. Create a generator function for prime numbers less than 1000. Use the next() method to print the first 20 prime numbers."
   ]
  },
  {
   "cell_type": "raw",
   "id": "a4e8248e",
   "metadata": {},
   "source": [
    "Create a generator function for prime numbers less than 1000. "
   ]
  },
  {
   "cell_type": "code",
   "execution_count": 1,
   "id": "4523e76a",
   "metadata": {},
   "outputs": [
    {
     "name": "stdout",
     "output_type": "stream",
     "text": [
      "2\n",
      "3\n",
      "5\n",
      "7\n",
      "11\n",
      "13\n",
      "17\n",
      "19\n",
      "23\n",
      "29\n",
      "31\n",
      "37\n",
      "41\n",
      "43\n",
      "47\n",
      "53\n",
      "59\n",
      "61\n",
      "67\n",
      "71\n"
     ]
    }
   ],
   "source": [
    "def generate_primes():\n",
    "    primes = []\n",
    "    num = 2\n",
    "    \n",
    "    while num < 1000:\n",
    "        is_prime = True\n",
    "        \n",
    "        for prime in primes:\n",
    "            if num % prime == 0:\n",
    "                is_prime = False\n",
    "                break\n",
    "        \n",
    "        if is_prime:\n",
    "            primes.append(num)\n",
    "            yield num\n",
    "        \n",
    "        num += 1\n",
    "\n",
    "# Create the generator object\n",
    "prime_generator = generate_primes()\n",
    "\n",
    "# Print the first 20 prime numbers\n",
    "for _ in range(20):\n",
    "    prime = next(prime_generator)\n",
    "    print(prime)\n"
   ]
  },
  {
   "cell_type": "code",
   "execution_count": null,
   "id": "b453a5df",
   "metadata": {},
   "outputs": [],
   "source": []
  },
  {
   "cell_type": "code",
   "execution_count": null,
   "id": "64e37799",
   "metadata": {},
   "outputs": [],
   "source": []
  },
  {
   "cell_type": "code",
   "execution_count": null,
   "id": "cd60651e",
   "metadata": {},
   "outputs": [],
   "source": []
  },
  {
   "cell_type": "code",
   "execution_count": null,
   "id": "ede65478",
   "metadata": {},
   "outputs": [],
   "source": []
  }
 ],
 "metadata": {
  "kernelspec": {
   "display_name": "Python 3 (ipykernel)",
   "language": "python",
   "name": "python3"
  },
  "language_info": {
   "codemirror_mode": {
    "name": "ipython",
    "version": 3
   },
   "file_extension": ".py",
   "mimetype": "text/x-python",
   "name": "python",
   "nbconvert_exporter": "python",
   "pygments_lexer": "ipython3",
   "version": "3.10.6"
  }
 },
 "nbformat": 4,
 "nbformat_minor": 5
}
