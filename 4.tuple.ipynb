{
 "cells": [
  {
   "cell_type": "markdown",
   "id": "9af964c4",
   "metadata": {},
   "source": [
    "# tuple\n",
    "## it is mutable data type "
   ]
  },
  {
   "cell_type": "code",
   "execution_count": 1,
   "id": "6df7cb80",
   "metadata": {},
   "outputs": [],
   "source": [
    "#how to create a tuple\n",
    "t=()"
   ]
  },
  {
   "cell_type": "code",
   "execution_count": 2,
   "id": "54facd40",
   "metadata": {},
   "outputs": [
    {
     "data": {
      "text/plain": [
       "tuple"
      ]
     },
     "execution_count": 2,
     "metadata": {},
     "output_type": "execute_result"
    }
   ],
   "source": [
    "# how to check the data type of variable \n",
    "type(t)"
   ]
  },
  {
   "cell_type": "code",
   "execution_count": 3,
   "id": "c15f8d41",
   "metadata": {},
   "outputs": [],
   "source": [
    "# now creating a tuple to performing operation\n",
    "tuple1=(23,45,67,89,34,\"shivank\",\"tanya\")"
   ]
  },
  {
   "cell_type": "code",
   "execution_count": 11,
   "id": "0b838c6e",
   "metadata": {},
   "outputs": [
    {
     "name": "stdout",
     "output_type": "stream",
     "text": [
      "(23, 45, 67, 89, 34, 'shivank', 'tanya')\n"
     ]
    }
   ],
   "source": [
    "# print the created tuple\n",
    "print(tuple1)"
   ]
  },
  {
   "cell_type": "markdown",
   "id": "2f006a85",
   "metadata": {},
   "source": [
    "## sliceing the tuple"
   ]
  },
  {
   "cell_type": "code",
   "execution_count": 12,
   "id": "c3001f08",
   "metadata": {},
   "outputs": [
    {
     "data": {
      "text/plain": [
       "23"
      ]
     },
     "execution_count": 12,
     "metadata": {},
     "output_type": "execute_result"
    }
   ],
   "source": [
    "tuple1[0]"
   ]
  },
  {
   "cell_type": "code",
   "execution_count": 13,
   "id": "984c9373",
   "metadata": {},
   "outputs": [
    {
     "data": {
      "text/plain": [
       "'tanya'"
      ]
     },
     "execution_count": 13,
     "metadata": {},
     "output_type": "execute_result"
    }
   ],
   "source": [
    "tuple1[-1]"
   ]
  },
  {
   "cell_type": "code",
   "execution_count": 14,
   "id": "69aaf028",
   "metadata": {},
   "outputs": [
    {
     "data": {
      "text/plain": [
       "(23, 45, 67)"
      ]
     },
     "execution_count": 14,
     "metadata": {},
     "output_type": "execute_result"
    }
   ],
   "source": [
    "tuple1[0:3]"
   ]
  },
  {
   "cell_type": "code",
   "execution_count": 15,
   "id": "ddb7c3eb",
   "metadata": {},
   "outputs": [
    {
     "data": {
      "text/plain": [
       "('tanya', 'shivank', 34, 89, 67, 45, 23)"
      ]
     },
     "execution_count": 15,
     "metadata": {},
     "output_type": "execute_result"
    }
   ],
   "source": [
    "tuple1[-1::-1]"
   ]
  },
  {
   "cell_type": "code",
   "execution_count": 17,
   "id": "7238bb3a",
   "metadata": {},
   "outputs": [
    {
     "data": {
      "text/plain": [
       "('tanya', 'shivank', 34, 89, 67, 45, 23)"
      ]
     },
     "execution_count": 17,
     "metadata": {},
     "output_type": "execute_result"
    }
   ],
   "source": [
    "# reverse the element of tuple\n",
    "tuple1[::-1]"
   ]
  },
  {
   "cell_type": "markdown",
   "id": "da3f05a4",
   "metadata": {},
   "source": [
    "# function in tuple\n",
    "## 1. index\n",
    "## 2. count()\n",
    "\n"
   ]
  },
  {
   "cell_type": "code",
   "execution_count": 21,
   "id": "03ec16eb",
   "metadata": {},
   "outputs": [
    {
     "data": {
      "text/plain": [
       "0"
      ]
     },
     "execution_count": 21,
     "metadata": {},
     "output_type": "execute_result"
    }
   ],
   "source": [
    "tuple1.count(\"a\")"
   ]
  },
  {
   "cell_type": "code",
   "execution_count": 25,
   "id": "d8147889",
   "metadata": {},
   "outputs": [
    {
     "data": {
      "text/plain": [
       "4"
      ]
     },
     "execution_count": 25,
     "metadata": {},
     "output_type": "execute_result"
    }
   ],
   "source": [
    "tuple1.index(34)"
   ]
  },
  {
   "cell_type": "code",
   "execution_count": 26,
   "id": "89a5ebea",
   "metadata": {},
   "outputs": [],
   "source": [
    "t1=(True , \"shiv\",\"tanu\",\"ram\",False, 0,1,2,3,4,5)"
   ]
  },
  {
   "cell_type": "code",
   "execution_count": 27,
   "id": "f7ecb115",
   "metadata": {},
   "outputs": [
    {
     "data": {
      "text/plain": [
       "0"
      ]
     },
     "execution_count": 27,
     "metadata": {},
     "output_type": "execute_result"
    }
   ],
   "source": [
    "t1.index(1) #due to True is treated as a 1"
   ]
  },
  {
   "cell_type": "code",
   "execution_count": 28,
   "id": "2ce2db47",
   "metadata": {},
   "outputs": [
    {
     "data": {
      "text/plain": [
       "2"
      ]
     },
     "execution_count": 28,
     "metadata": {},
     "output_type": "execute_result"
    }
   ],
   "source": [
    "t1.count(1) #due to True is treated as a 1"
   ]
  },
  {
   "cell_type": "code",
   "execution_count": 35,
   "id": "8fafaeed",
   "metadata": {},
   "outputs": [
    {
     "name": "stdout",
     "output_type": "stream",
     "text": [
      "True <class 'bool'>\n",
      "shiv <class 'str'>\n",
      "tanu <class 'str'>\n",
      "ram <class 'str'>\n",
      "False <class 'bool'>\n",
      "0 <class 'int'>\n",
      "1 <class 'int'>\n",
      "2 <class 'int'>\n",
      "3 <class 'int'>\n",
      "4 <class 'int'>\n",
      "5 <class 'int'>\n"
     ]
    }
   ],
   "source": [
    "# iretated element through the tuple by for loop\n",
    "for i in t1:\n",
    "    print(i,type(i))"
   ]
  },
  {
   "cell_type": "code",
   "execution_count": 37,
   "id": "49109ef9",
   "metadata": {},
   "outputs": [],
   "source": [
    "t2=(1,2,3,4)"
   ]
  },
  {
   "cell_type": "markdown",
   "id": "903a4964",
   "metadata": {},
   "source": [
    "##### "
   ]
  },
  {
   "cell_type": "code",
   "execution_count": 38,
   "id": "13612170",
   "metadata": {},
   "outputs": [
    {
     "data": {
      "text/plain": [
       "(1, 2, 3, 4)"
      ]
     },
     "execution_count": 38,
     "metadata": {},
     "output_type": "execute_result"
    }
   ],
   "source": [
    "t2"
   ]
  },
  {
   "cell_type": "code",
   "execution_count": 39,
   "id": "a640b31b",
   "metadata": {},
   "outputs": [
    {
     "data": {
      "text/plain": [
       "(1, 2, 3, 4, 1, 2, 3, 4)"
      ]
     },
     "execution_count": 39,
     "metadata": {},
     "output_type": "execute_result"
    }
   ],
   "source": [
    "t2*2"
   ]
  },
  {
   "cell_type": "code",
   "execution_count": 40,
   "id": "55b6fc17",
   "metadata": {},
   "outputs": [],
   "source": [
    "tuple_1=(1,2,3,4,5,6,7)\n",
    "tuple_2=(\"shivank\",\"tanya\",\"miss\",\"you\")"
   ]
  },
  {
   "cell_type": "code",
   "execution_count": 44,
   "id": "a5d165a9",
   "metadata": {},
   "outputs": [
    {
     "data": {
      "text/plain": [
       "(1, 2, 3, 4, 5, 6, 7, 'shivank', 'tanya', 'miss', 'you')"
      ]
     },
     "execution_count": 44,
     "metadata": {},
     "output_type": "execute_result"
    }
   ],
   "source": [
    "tuple_3=(tuple_1+tuple_2 )\n",
    "tuple_3"
   ]
  },
  {
   "cell_type": "code",
   "execution_count": 46,
   "id": "12275f23",
   "metadata": {},
   "outputs": [
    {
     "data": {
      "text/plain": [
       "True"
      ]
     },
     "execution_count": 46,
     "metadata": {},
     "output_type": "execute_result"
    }
   ],
   "source": [
    "\"shivank\" in tuple_3"
   ]
  },
  {
   "cell_type": "code",
   "execution_count": 47,
   "id": "cfd9f911",
   "metadata": {},
   "outputs": [
    {
     "data": {
      "text/plain": [
       "False"
      ]
     },
     "execution_count": 47,
     "metadata": {},
     "output_type": "execute_result"
    }
   ],
   "source": [
    "\"shiv\" in tuple_3"
   ]
  },
  {
   "cell_type": "code",
   "execution_count": 48,
   "id": "422c15f9",
   "metadata": {},
   "outputs": [
    {
     "data": {
      "text/plain": [
       "11"
      ]
     },
     "execution_count": 48,
     "metadata": {},
     "output_type": "execute_result"
    }
   ],
   "source": [
    "len(tuple_3)"
   ]
  },
  {
   "cell_type": "markdown",
   "id": "13d5b85a",
   "metadata": {},
   "source": [
    "# question"
   ]
  },
  {
   "cell_type": "code",
   "execution_count": 50,
   "id": "1ccce961",
   "metadata": {},
   "outputs": [
    {
     "data": {
      "text/plain": [
       "(12, 34, 56, 79, 23)"
      ]
     },
     "execution_count": 50,
     "metadata": {},
     "output_type": "execute_result"
    }
   ],
   "source": [
    "#que 1 :-Reverse the tuple\n",
    "\n",
    "tuple_4=(12,34,56,79,23)\n",
    "tuple_4"
   ]
  },
  {
   "cell_type": "code",
   "execution_count": 72,
   "id": "308eedc7",
   "metadata": {},
   "outputs": [
    {
     "name": "stdout",
     "output_type": "stream",
     "text": [
      "23\n",
      "79\n",
      "56\n",
      "34\n",
      "12\n"
     ]
    }
   ],
   "source": [
    "n=len(tuple_4)-1\n",
    "for i in range(n,-1,-1):\n",
    "    print(tuple_4[i])\n"
   ]
  },
  {
   "cell_type": "code",
   "execution_count": 71,
   "id": "c2f3f04d",
   "metadata": {},
   "outputs": [
    {
     "data": {
      "text/plain": [
       "(23, 79, 56, 34, 12)"
      ]
     },
     "execution_count": 71,
     "metadata": {},
     "output_type": "execute_result"
    }
   ],
   "source": [
    "tuple_4[::-1]"
   ]
  },
  {
   "cell_type": "code",
   "execution_count": 73,
   "id": "2d92b941",
   "metadata": {},
   "outputs": [],
   "source": [
    "#que 2:-Access value 20 from the tuple\n",
    "tuple_5=(12,34,56,20,34)\n"
   ]
  },
  {
   "cell_type": "code",
   "execution_count": 74,
   "id": "e3b96ed0",
   "metadata": {},
   "outputs": [
    {
     "data": {
      "text/plain": [
       "20"
      ]
     },
     "execution_count": 74,
     "metadata": {},
     "output_type": "execute_result"
    }
   ],
   "source": [
    "tuple_5[3]"
   ]
  },
  {
   "cell_type": "code",
   "execution_count": 76,
   "id": "fa06f243",
   "metadata": {},
   "outputs": [
    {
     "data": {
      "text/plain": [
       "True"
      ]
     },
     "execution_count": 76,
     "metadata": {},
     "output_type": "execute_result"
    }
   ],
   "source": [
    "20 in tuple_5\n",
    "    "
   ]
  },
  {
   "cell_type": "code",
   "execution_count": 77,
   "id": "453eebc4",
   "metadata": {},
   "outputs": [
    {
     "name": "stdout",
     "output_type": "stream",
     "text": [
      "20\n"
     ]
    }
   ],
   "source": [
    "if 20 in tuple_5:\n",
    "    print(\"20\")"
   ]
  },
  {
   "cell_type": "code",
   "execution_count": 78,
   "id": "3e8f0a73",
   "metadata": {},
   "outputs": [
    {
     "data": {
      "text/plain": [
       "20"
      ]
     },
     "execution_count": 78,
     "metadata": {},
     "output_type": "execute_result"
    }
   ],
   "source": [
    "# 2.\n",
    "tuple_6 = (\"Orange\", [10, 20, 30], (5, 15, 25))\n",
    "\n",
    "tuple_6[1][1]"
   ]
  },
  {
   "cell_type": "code",
   "execution_count": null,
   "id": "bdc65023",
   "metadata": {},
   "outputs": [],
   "source": []
  }
 ],
 "metadata": {
  "kernelspec": {
   "display_name": "Python 3 (ipykernel)",
   "language": "python",
   "name": "python3"
  },
  "language_info": {
   "codemirror_mode": {
    "name": "ipython",
    "version": 3
   },
   "file_extension": ".py",
   "mimetype": "text/x-python",
   "name": "python",
   "nbconvert_exporter": "python",
   "pygments_lexer": "ipython3",
   "version": "3.10.9"
  }
 },
 "nbformat": 4,
 "nbformat_minor": 5
}
