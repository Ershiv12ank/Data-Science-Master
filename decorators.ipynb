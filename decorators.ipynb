{
 "cells": [
  {
   "cell_type": "code",
   "execution_count": 1,
   "id": "0e602596",
   "metadata": {},
   "outputs": [],
   "source": [
    "# this is a simple method to find that type of things"
   ]
  },
  {
   "cell_type": "code",
   "execution_count": 4,
   "id": "f1eef5bd",
   "metadata": {},
   "outputs": [],
   "source": [
    "def fun():\n",
    "    print(\"this is a first number\")\n",
    "    print(6+7)\n",
    "    print(\"this is a last number\")"
   ]
  },
  {
   "cell_type": "code",
   "execution_count": 5,
   "id": "be89a53f",
   "metadata": {},
   "outputs": [
    {
     "name": "stdout",
     "output_type": "stream",
     "text": [
      "this is a first number\n",
      "13\n",
      "this is a last number\n"
     ]
    }
   ],
   "source": [
    "fun()"
   ]
  },
  {
   "cell_type": "code",
   "execution_count": 6,
   "id": "541360e7",
   "metadata": {},
   "outputs": [],
   "source": [
    "def deco(func):\n",
    "    def inner_decco():\n",
    "        print(\"this is a first line\")\n",
    "        func()\n",
    "        print(\"this is a last line\")\n",
    "    return inner_decco"
   ]
  },
  {
   "cell_type": "code",
   "execution_count": 7,
   "id": "1930f131",
   "metadata": {},
   "outputs": [],
   "source": [
    "@deco\n",
    "def fun():\n",
    "    print(8+7)"
   ]
  },
  {
   "cell_type": "code",
   "execution_count": 8,
   "id": "eb881274",
   "metadata": {},
   "outputs": [
    {
     "name": "stdout",
     "output_type": "stream",
     "text": [
      "this is a first line\n",
      "15\n",
      "this is a last line\n"
     ]
    }
   ],
   "source": [
    "fun()"
   ]
  },
  {
   "cell_type": "code",
   "execution_count": 9,
   "id": "1677670e",
   "metadata": {},
   "outputs": [],
   "source": [
    "@deco\n",
    "def fun3():\n",
    "    print(823+7)"
   ]
  },
  {
   "cell_type": "code",
   "execution_count": 10,
   "id": "c77687af",
   "metadata": {},
   "outputs": [
    {
     "name": "stdout",
     "output_type": "stream",
     "text": [
      "this is a first line\n",
      "830\n",
      "this is a last line\n"
     ]
    }
   ],
   "source": [
    "fun3()"
   ]
  },
  {
   "cell_type": "code",
   "execution_count": 11,
   "id": "5ee58880",
   "metadata": {},
   "outputs": [],
   "source": [
    "@deco\n",
    "def fun5():\n",
    "    print(\"hello world\")"
   ]
  },
  {
   "cell_type": "code",
   "execution_count": 12,
   "id": "def8730b",
   "metadata": {},
   "outputs": [
    {
     "name": "stdout",
     "output_type": "stream",
     "text": [
      "this is a first line\n",
      "hello world\n",
      "this is a last line\n"
     ]
    }
   ],
   "source": [
    "fun5()@deco\n",
    "def fun3():\n",
    "    print(823+7)"
   ]
  },
  {
   "cell_type": "code",
   "execution_count": 14,
   "id": "fa392251",
   "metadata": {},
   "outputs": [],
   "source": [
    "import time\n",
    "def timer(func):\n",
    "    def inner_timer():\n",
    "        \n",
    "        start=time.time()\n",
    "        func()\n",
    "        end=start=time.time()\n",
    "        print(end-start)\n",
    "    return inner_timer"
   ]
  },
  {
   "cell_type": "code",
   "execution_count": 22,
   "id": "4adbcdb9",
   "metadata": {},
   "outputs": [],
   "source": [
    "@timer\n",
    "def func1():\n",
    "    print(90+90)\n",
    "    "
   ]
  },
  {
   "cell_type": "code",
   "execution_count": 24,
   "id": "8284b8a0",
   "metadata": {},
   "outputs": [
    {
     "name": "stdout",
     "output_type": "stream",
     "text": [
      "180\n",
      "0.0\n"
     ]
    }
   ],
   "source": [
    "func1()"
   ]
  },
  {
   "cell_type": "code",
   "execution_count": 27,
   "id": "f08df2ae",
   "metadata": {},
   "outputs": [],
   "source": [
    "@timer\n",
    "def func3():\n",
    "    for i in range(19999999999):\n",
    "        pass"
   ]
  },
  {
   "cell_type": "code",
   "execution_count": 28,
   "id": "28105d8e",
   "metadata": {},
   "outputs": [
    {
     "name": "stdout",
     "output_type": "stream",
     "text": [
      "0.0\n"
     ]
    }
   ],
   "source": [
    "func3()"
   ]
  },
  {
   "cell_type": "code",
   "execution_count": null,
   "id": "887e6d99",
   "metadata": {},
   "outputs": [],
   "source": []
  }
 ],
 "metadata": {
  "kernelspec": {
   "display_name": "Python 3 (ipykernel)",
   "language": "python",
   "name": "python3"
  },
  "language_info": {
   "codemirror_mode": {
    "name": "ipython",
    "version": 3
   },
   "file_extension": ".py",
   "mimetype": "text/x-python",
   "name": "python",
   "nbconvert_exporter": "python",
   "pygments_lexer": "ipython3",
   "version": "3.10.6"
  }
 },
 "nbformat": 4,
 "nbformat_minor": 5
}
