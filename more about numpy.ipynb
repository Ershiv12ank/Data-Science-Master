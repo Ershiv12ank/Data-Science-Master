{
 "cells": [
  {
   "cell_type": "code",
   "execution_count": 1,
   "id": "5a1e8f1a",
   "metadata": {},
   "outputs": [],
   "source": [
    "import numpy as np"
   ]
  },
  {
   "cell_type": "code",
   "execution_count": 4,
   "id": "3df913f8",
   "metadata": {},
   "outputs": [
    {
     "data": {
      "text/plain": [
       "[0, 1, 2, 3, 4]"
      ]
     },
     "execution_count": 4,
     "metadata": {},
     "output_type": "execute_result"
    }
   ],
   "source": [
    "# it is a method to create a list by range function it take only integr arrgument in the range\n",
    "list(range(0,5))"
   ]
  },
  {
   "cell_type": "code",
   "execution_count": 9,
   "id": "02f05fa0",
   "metadata": {},
   "outputs": [],
   "source": [
    "# in numpy having a range function similar to the range function it take integr as well as floating point number in argument\n",
    "a=np.arange(0.1,56.0)"
   ]
  },
  {
   "cell_type": "code",
   "execution_count": 10,
   "id": "26b97524",
   "metadata": {},
   "outputs": [
    {
     "data": {
      "text/plain": [
       "numpy.ndarray"
      ]
     },
     "execution_count": 10,
     "metadata": {},
     "output_type": "execute_result"
    }
   ],
   "source": [
    "type(a)"
   ]
  },
  {
   "cell_type": "code",
   "execution_count": 11,
   "id": "349e24a6",
   "metadata": {},
   "outputs": [
    {
     "data": {
      "text/plain": [
       "[0.1,\n",
       " 1.1,\n",
       " 2.1,\n",
       " 3.1,\n",
       " 4.1,\n",
       " 5.1,\n",
       " 6.1,\n",
       " 7.1,\n",
       " 8.1,\n",
       " 9.1,\n",
       " 10.1,\n",
       " 11.1,\n",
       " 12.1,\n",
       " 13.1,\n",
       " 14.1,\n",
       " 15.1,\n",
       " 16.1,\n",
       " 17.1,\n",
       " 18.1,\n",
       " 19.1,\n",
       " 20.1,\n",
       " 21.1,\n",
       " 22.1,\n",
       " 23.1,\n",
       " 24.1,\n",
       " 25.1,\n",
       " 26.1,\n",
       " 27.1,\n",
       " 28.1,\n",
       " 29.1,\n",
       " 30.1,\n",
       " 31.1,\n",
       " 32.1,\n",
       " 33.1,\n",
       " 34.1,\n",
       " 35.1,\n",
       " 36.1,\n",
       " 37.1,\n",
       " 38.1,\n",
       " 39.1,\n",
       " 40.1,\n",
       " 41.1,\n",
       " 42.1,\n",
       " 43.1,\n",
       " 44.1,\n",
       " 45.1,\n",
       " 46.1,\n",
       " 47.1,\n",
       " 48.1,\n",
       " 49.1,\n",
       " 50.1,\n",
       " 51.1,\n",
       " 52.1,\n",
       " 53.1,\n",
       " 54.1,\n",
       " 55.1]"
      ]
     },
     "execution_count": 11,
     "metadata": {},
     "output_type": "execute_result"
    }
   ],
   "source": [
    "#convert into a list \n",
    "list(a)"
   ]
  },
  {
   "cell_type": "code",
   "execution_count": 12,
   "id": "486b654f",
   "metadata": {},
   "outputs": [],
   "source": [
    "arr2=np.arange(0.1,56.0,0.2)"
   ]
  },
  {
   "cell_type": "code",
   "execution_count": 13,
   "id": "9e4cd0d1",
   "metadata": {},
   "outputs": [
    {
     "data": {
      "text/plain": [
       "array([ 0.1,  0.3,  0.5,  0.7,  0.9,  1.1,  1.3,  1.5,  1.7,  1.9,  2.1,\n",
       "        2.3,  2.5,  2.7,  2.9,  3.1,  3.3,  3.5,  3.7,  3.9,  4.1,  4.3,\n",
       "        4.5,  4.7,  4.9,  5.1,  5.3,  5.5,  5.7,  5.9,  6.1,  6.3,  6.5,\n",
       "        6.7,  6.9,  7.1,  7.3,  7.5,  7.7,  7.9,  8.1,  8.3,  8.5,  8.7,\n",
       "        8.9,  9.1,  9.3,  9.5,  9.7,  9.9, 10.1, 10.3, 10.5, 10.7, 10.9,\n",
       "       11.1, 11.3, 11.5, 11.7, 11.9, 12.1, 12.3, 12.5, 12.7, 12.9, 13.1,\n",
       "       13.3, 13.5, 13.7, 13.9, 14.1, 14.3, 14.5, 14.7, 14.9, 15.1, 15.3,\n",
       "       15.5, 15.7, 15.9, 16.1, 16.3, 16.5, 16.7, 16.9, 17.1, 17.3, 17.5,\n",
       "       17.7, 17.9, 18.1, 18.3, 18.5, 18.7, 18.9, 19.1, 19.3, 19.5, 19.7,\n",
       "       19.9, 20.1, 20.3, 20.5, 20.7, 20.9, 21.1, 21.3, 21.5, 21.7, 21.9,\n",
       "       22.1, 22.3, 22.5, 22.7, 22.9, 23.1, 23.3, 23.5, 23.7, 23.9, 24.1,\n",
       "       24.3, 24.5, 24.7, 24.9, 25.1, 25.3, 25.5, 25.7, 25.9, 26.1, 26.3,\n",
       "       26.5, 26.7, 26.9, 27.1, 27.3, 27.5, 27.7, 27.9, 28.1, 28.3, 28.5,\n",
       "       28.7, 28.9, 29.1, 29.3, 29.5, 29.7, 29.9, 30.1, 30.3, 30.5, 30.7,\n",
       "       30.9, 31.1, 31.3, 31.5, 31.7, 31.9, 32.1, 32.3, 32.5, 32.7, 32.9,\n",
       "       33.1, 33.3, 33.5, 33.7, 33.9, 34.1, 34.3, 34.5, 34.7, 34.9, 35.1,\n",
       "       35.3, 35.5, 35.7, 35.9, 36.1, 36.3, 36.5, 36.7, 36.9, 37.1, 37.3,\n",
       "       37.5, 37.7, 37.9, 38.1, 38.3, 38.5, 38.7, 38.9, 39.1, 39.3, 39.5,\n",
       "       39.7, 39.9, 40.1, 40.3, 40.5, 40.7, 40.9, 41.1, 41.3, 41.5, 41.7,\n",
       "       41.9, 42.1, 42.3, 42.5, 42.7, 42.9, 43.1, 43.3, 43.5, 43.7, 43.9,\n",
       "       44.1, 44.3, 44.5, 44.7, 44.9, 45.1, 45.3, 45.5, 45.7, 45.9, 46.1,\n",
       "       46.3, 46.5, 46.7, 46.9, 47.1, 47.3, 47.5, 47.7, 47.9, 48.1, 48.3,\n",
       "       48.5, 48.7, 48.9, 49.1, 49.3, 49.5, 49.7, 49.9, 50.1, 50.3, 50.5,\n",
       "       50.7, 50.9, 51.1, 51.3, 51.5, 51.7, 51.9, 52.1, 52.3, 52.5, 52.7,\n",
       "       52.9, 53.1, 53.3, 53.5, 53.7, 53.9, 54.1, 54.3, 54.5, 54.7, 54.9,\n",
       "       55.1, 55.3, 55.5, 55.7, 55.9])"
      ]
     },
     "execution_count": 13,
     "metadata": {},
     "output_type": "execute_result"
    }
   ],
   "source": [
    "arr2"
   ]
  },
  {
   "cell_type": "code",
   "execution_count": 15,
   "id": "2f275416",
   "metadata": {},
   "outputs": [
    {
     "data": {
      "text/plain": [
       "numpy.ndarray"
      ]
     },
     "execution_count": 15,
     "metadata": {},
     "output_type": "execute_result"
    }
   ],
   "source": [
    "type(arr2)"
   ]
  },
  {
   "cell_type": "code",
   "execution_count": 16,
   "id": "70b51136",
   "metadata": {},
   "outputs": [
    {
     "data": {
      "text/plain": [
       "280"
      ]
     },
     "execution_count": 16,
     "metadata": {},
     "output_type": "execute_result"
    }
   ],
   "source": [
    "len(arr2)"
   ]
  },
  {
   "cell_type": "code",
   "execution_count": 17,
   "id": "af2873c0",
   "metadata": {},
   "outputs": [
    {
     "data": {
      "text/plain": [
       "[0.1,\n",
       " 0.30000000000000004,\n",
       " 0.5000000000000001,\n",
       " 0.7000000000000001,\n",
       " 0.9000000000000001,\n",
       " 1.1000000000000003,\n",
       " 1.3000000000000003,\n",
       " 1.5000000000000004,\n",
       " 1.7000000000000004,\n",
       " 1.9000000000000004,\n",
       " 2.1000000000000005,\n",
       " 2.3000000000000007,\n",
       " 2.5000000000000004,\n",
       " 2.7000000000000006,\n",
       " 2.900000000000001,\n",
       " 3.1000000000000005,\n",
       " 3.3000000000000007,\n",
       " 3.500000000000001,\n",
       " 3.7000000000000006,\n",
       " 3.900000000000001,\n",
       " 4.1000000000000005,\n",
       " 4.300000000000001,\n",
       " 4.500000000000001,\n",
       " 4.7,\n",
       " 4.9,\n",
       " 5.1000000000000005,\n",
       " 5.300000000000001,\n",
       " 5.500000000000001,\n",
       " 5.700000000000001,\n",
       " 5.9,\n",
       " 6.1000000000000005,\n",
       " 6.300000000000001,\n",
       " 6.500000000000001,\n",
       " 6.700000000000001,\n",
       " 6.900000000000001,\n",
       " 7.100000000000001,\n",
       " 7.300000000000001,\n",
       " 7.500000000000001,\n",
       " 7.700000000000001,\n",
       " 7.900000000000001,\n",
       " 8.100000000000001,\n",
       " 8.3,\n",
       " 8.500000000000002,\n",
       " 8.700000000000001,\n",
       " 8.900000000000002,\n",
       " 9.100000000000001,\n",
       " 9.3,\n",
       " 9.500000000000002,\n",
       " 9.700000000000001,\n",
       " 9.900000000000002,\n",
       " 10.100000000000001,\n",
       " 10.300000000000002,\n",
       " 10.500000000000002,\n",
       " 10.700000000000001,\n",
       " 10.900000000000002,\n",
       " 11.100000000000001,\n",
       " 11.300000000000002,\n",
       " 11.500000000000002,\n",
       " 11.700000000000001,\n",
       " 11.900000000000002,\n",
       " 12.100000000000001,\n",
       " 12.300000000000002,\n",
       " 12.500000000000002,\n",
       " 12.700000000000003,\n",
       " 12.900000000000002,\n",
       " 13.100000000000001,\n",
       " 13.300000000000002,\n",
       " 13.500000000000002,\n",
       " 13.700000000000003,\n",
       " 13.900000000000002,\n",
       " 14.100000000000003,\n",
       " 14.300000000000002,\n",
       " 14.500000000000002,\n",
       " 14.700000000000003,\n",
       " 14.900000000000002,\n",
       " 15.100000000000003,\n",
       " 15.300000000000002,\n",
       " 15.500000000000002,\n",
       " 15.700000000000003,\n",
       " 15.900000000000002,\n",
       " 16.100000000000005,\n",
       " 16.300000000000004,\n",
       " 16.500000000000004,\n",
       " 16.700000000000006,\n",
       " 16.900000000000006,\n",
       " 17.100000000000005,\n",
       " 17.300000000000004,\n",
       " 17.500000000000004,\n",
       " 17.700000000000006,\n",
       " 17.900000000000006,\n",
       " 18.100000000000005,\n",
       " 18.300000000000004,\n",
       " 18.500000000000004,\n",
       " 18.700000000000006,\n",
       " 18.900000000000006,\n",
       " 19.100000000000005,\n",
       " 19.300000000000004,\n",
       " 19.500000000000004,\n",
       " 19.700000000000006,\n",
       " 19.900000000000006,\n",
       " 20.100000000000005,\n",
       " 20.300000000000004,\n",
       " 20.500000000000007,\n",
       " 20.700000000000006,\n",
       " 20.900000000000006,\n",
       " 21.100000000000005,\n",
       " 21.300000000000004,\n",
       " 21.500000000000007,\n",
       " 21.700000000000006,\n",
       " 21.900000000000006,\n",
       " 22.100000000000005,\n",
       " 22.300000000000004,\n",
       " 22.500000000000007,\n",
       " 22.700000000000006,\n",
       " 22.900000000000006,\n",
       " 23.100000000000005,\n",
       " 23.300000000000004,\n",
       " 23.500000000000007,\n",
       " 23.700000000000006,\n",
       " 23.900000000000006,\n",
       " 24.100000000000005,\n",
       " 24.300000000000008,\n",
       " 24.500000000000007,\n",
       " 24.700000000000006,\n",
       " 24.900000000000006,\n",
       " 25.100000000000005,\n",
       " 25.300000000000008,\n",
       " 25.500000000000007,\n",
       " 25.700000000000006,\n",
       " 25.900000000000006,\n",
       " 26.100000000000005,\n",
       " 26.300000000000008,\n",
       " 26.500000000000007,\n",
       " 26.700000000000006,\n",
       " 26.900000000000006,\n",
       " 27.100000000000005,\n",
       " 27.300000000000008,\n",
       " 27.500000000000007,\n",
       " 27.700000000000006,\n",
       " 27.900000000000006,\n",
       " 28.10000000000001,\n",
       " 28.300000000000008,\n",
       " 28.500000000000007,\n",
       " 28.700000000000006,\n",
       " 28.900000000000006,\n",
       " 29.10000000000001,\n",
       " 29.300000000000008,\n",
       " 29.500000000000007,\n",
       " 29.700000000000006,\n",
       " 29.900000000000006,\n",
       " 30.10000000000001,\n",
       " 30.300000000000008,\n",
       " 30.500000000000007,\n",
       " 30.700000000000006,\n",
       " 30.900000000000006,\n",
       " 31.10000000000001,\n",
       " 31.300000000000008,\n",
       " 31.500000000000007,\n",
       " 31.700000000000006,\n",
       " 31.90000000000001,\n",
       " 32.10000000000001,\n",
       " 32.300000000000004,\n",
       " 32.50000000000001,\n",
       " 32.70000000000001,\n",
       " 32.900000000000006,\n",
       " 33.10000000000001,\n",
       " 33.30000000000001,\n",
       " 33.50000000000001,\n",
       " 33.70000000000001,\n",
       " 33.900000000000006,\n",
       " 34.10000000000001,\n",
       " 34.30000000000001,\n",
       " 34.50000000000001,\n",
       " 34.70000000000001,\n",
       " 34.900000000000006,\n",
       " 35.10000000000001,\n",
       " 35.30000000000001,\n",
       " 35.50000000000001,\n",
       " 35.70000000000001,\n",
       " 35.900000000000006,\n",
       " 36.10000000000001,\n",
       " 36.30000000000001,\n",
       " 36.50000000000001,\n",
       " 36.70000000000001,\n",
       " 36.900000000000006,\n",
       " 37.10000000000001,\n",
       " 37.30000000000001,\n",
       " 37.50000000000001,\n",
       " 37.70000000000001,\n",
       " 37.900000000000006,\n",
       " 38.10000000000001,\n",
       " 38.30000000000001,\n",
       " 38.50000000000001,\n",
       " 38.70000000000001,\n",
       " 38.900000000000006,\n",
       " 39.10000000000001,\n",
       " 39.30000000000001,\n",
       " 39.50000000000001,\n",
       " 39.70000000000001,\n",
       " 39.900000000000006,\n",
       " 40.10000000000001,\n",
       " 40.30000000000001,\n",
       " 40.50000000000001,\n",
       " 40.70000000000001,\n",
       " 40.90000000000001,\n",
       " 41.10000000000001,\n",
       " 41.30000000000001,\n",
       " 41.50000000000001,\n",
       " 41.70000000000001,\n",
       " 41.90000000000001,\n",
       " 42.10000000000001,\n",
       " 42.30000000000001,\n",
       " 42.50000000000001,\n",
       " 42.70000000000001,\n",
       " 42.90000000000001,\n",
       " 43.10000000000001,\n",
       " 43.30000000000001,\n",
       " 43.50000000000001,\n",
       " 43.70000000000001,\n",
       " 43.90000000000001,\n",
       " 44.10000000000001,\n",
       " 44.30000000000001,\n",
       " 44.50000000000001,\n",
       " 44.70000000000001,\n",
       " 44.90000000000001,\n",
       " 45.10000000000001,\n",
       " 45.30000000000001,\n",
       " 45.50000000000001,\n",
       " 45.70000000000001,\n",
       " 45.90000000000001,\n",
       " 46.10000000000001,\n",
       " 46.30000000000001,\n",
       " 46.50000000000001,\n",
       " 46.70000000000001,\n",
       " 46.90000000000001,\n",
       " 47.10000000000001,\n",
       " 47.30000000000001,\n",
       " 47.50000000000001,\n",
       " 47.70000000000001,\n",
       " 47.90000000000001,\n",
       " 48.10000000000001,\n",
       " 48.30000000000001,\n",
       " 48.500000000000014,\n",
       " 48.70000000000001,\n",
       " 48.90000000000001,\n",
       " 49.10000000000001,\n",
       " 49.30000000000001,\n",
       " 49.500000000000014,\n",
       " 49.70000000000001,\n",
       " 49.90000000000001,\n",
       " 50.10000000000001,\n",
       " 50.30000000000001,\n",
       " 50.500000000000014,\n",
       " 50.70000000000001,\n",
       " 50.90000000000001,\n",
       " 51.10000000000001,\n",
       " 51.30000000000001,\n",
       " 51.500000000000014,\n",
       " 51.70000000000001,\n",
       " 51.90000000000001,\n",
       " 52.10000000000001,\n",
       " 52.30000000000001,\n",
       " 52.500000000000014,\n",
       " 52.70000000000001,\n",
       " 52.90000000000001,\n",
       " 53.10000000000001,\n",
       " 53.30000000000001,\n",
       " 53.500000000000014,\n",
       " 53.70000000000001,\n",
       " 53.90000000000001,\n",
       " 54.10000000000001,\n",
       " 54.30000000000001,\n",
       " 54.500000000000014,\n",
       " 54.70000000000001,\n",
       " 54.90000000000001,\n",
       " 55.100000000000016,\n",
       " 55.30000000000001,\n",
       " 55.500000000000014,\n",
       " 55.70000000000001,\n",
       " 55.90000000000001]"
      ]
     },
     "execution_count": 17,
     "metadata": {},
     "output_type": "execute_result"
    }
   ],
   "source": [
    "list(arr2)"
   ]
  },
  {
   "cell_type": "code",
   "execution_count": 22,
   "id": "467a1271",
   "metadata": {},
   "outputs": [
    {
     "data": {
      "text/plain": [
       "array([1., 3., 5.])"
      ]
     },
     "execution_count": 22,
     "metadata": {},
     "output_type": "execute_result"
    }
   ],
   "source": [
    "# linespace function it take three argument and one for starting \n",
    "# one for ending and one for divide the range in how many part\n",
    "#e.g:\n",
    "\n",
    "np.linspace(1,5,3)\n",
    "# it is devide equal part"
   ]
  },
  {
   "cell_type": "code",
   "execution_count": 23,
   "id": "25e2da8f",
   "metadata": {},
   "outputs": [
    {
     "data": {
      "text/plain": [
       "array([1.        , 1.44444444, 1.88888889, 2.33333333, 2.77777778,\n",
       "       3.22222222, 3.66666667, 4.11111111, 4.55555556, 5.        ])"
      ]
     },
     "execution_count": 23,
     "metadata": {},
     "output_type": "execute_result"
    }
   ],
   "source": [
    "np.linspace(1,5,10)"
   ]
  },
  {
   "cell_type": "code",
   "execution_count": 24,
   "id": "98a56705",
   "metadata": {},
   "outputs": [
    {
     "data": {
      "text/plain": [
       "array([1.        , 1.21052632, 1.42105263, 1.63157895, 1.84210526,\n",
       "       2.05263158, 2.26315789, 2.47368421, 2.68421053, 2.89473684,\n",
       "       3.10526316, 3.31578947, 3.52631579, 3.73684211, 3.94736842,\n",
       "       4.15789474, 4.36842105, 4.57894737, 4.78947368, 5.        ])"
      ]
     },
     "execution_count": 24,
     "metadata": {},
     "output_type": "execute_result"
    }
   ],
   "source": [
    "np.linspace(1,5,20)"
   ]
  },
  {
   "cell_type": "code",
   "execution_count": 26,
   "id": "199a8568",
   "metadata": {},
   "outputs": [
    {
     "data": {
      "text/plain": [
       "array([2.        , 2.33305808, 2.72158   , 3.1748021 , 3.70349885,\n",
       "       4.32023896, 5.0396842 , 5.87893797, 6.85795186, 8.        ])"
      ]
     },
     "execution_count": 26,
     "metadata": {},
     "output_type": "execute_result"
    }
   ],
   "source": [
    "#logspace data is used to divde a range in logs\n",
    "np.logspace(1,3,10,base=2)"
   ]
  },
  {
   "cell_type": "code",
   "execution_count": 27,
   "id": "ed8d1897",
   "metadata": {},
   "outputs": [
    {
     "data": {
      "text/plain": [
       "array([0., 0., 0., 0., 0.])"
      ]
     },
     "execution_count": 27,
     "metadata": {},
     "output_type": "execute_result"
    }
   ],
   "source": [
    "#zeros function create zero array and matric\n",
    "np.zeros(5)"
   ]
  },
  {
   "cell_type": "code",
   "execution_count": 28,
   "id": "905ea001",
   "metadata": {},
   "outputs": [
    {
     "data": {
      "text/plain": [
       "array([[0., 0., 0., 0.],\n",
       "       [0., 0., 0., 0.]])"
      ]
     },
     "execution_count": 28,
     "metadata": {},
     "output_type": "execute_result"
    }
   ],
   "source": [
    "np.zeros((2,4))"
   ]
  },
  {
   "cell_type": "code",
   "execution_count": 29,
   "id": "d2a83f54",
   "metadata": {},
   "outputs": [
    {
     "data": {
      "text/plain": [
       "array([[[0., 0., 0., 0.],\n",
       "        [0., 0., 0., 0.],\n",
       "        [0., 0., 0., 0.],\n",
       "        [0., 0., 0., 0.]],\n",
       "\n",
       "       [[0., 0., 0., 0.],\n",
       "        [0., 0., 0., 0.],\n",
       "        [0., 0., 0., 0.],\n",
       "        [0., 0., 0., 0.]]])"
      ]
     },
     "execution_count": 29,
     "metadata": {},
     "output_type": "execute_result"
    }
   ],
   "source": [
    "np.zeros((2,4,4))"
   ]
  },
  {
   "cell_type": "code",
   "execution_count": 30,
   "id": "87881a1d",
   "metadata": {},
   "outputs": [
    {
     "data": {
      "text/plain": [
       "array([[[[0., 0., 0., 0., 0.],\n",
       "         [0., 0., 0., 0., 0.],\n",
       "         [0., 0., 0., 0., 0.],\n",
       "         [0., 0., 0., 0., 0.]],\n",
       "\n",
       "        [[0., 0., 0., 0., 0.],\n",
       "         [0., 0., 0., 0., 0.],\n",
       "         [0., 0., 0., 0., 0.],\n",
       "         [0., 0., 0., 0., 0.]],\n",
       "\n",
       "        [[0., 0., 0., 0., 0.],\n",
       "         [0., 0., 0., 0., 0.],\n",
       "         [0., 0., 0., 0., 0.],\n",
       "         [0., 0., 0., 0., 0.]],\n",
       "\n",
       "        [[0., 0., 0., 0., 0.],\n",
       "         [0., 0., 0., 0., 0.],\n",
       "         [0., 0., 0., 0., 0.],\n",
       "         [0., 0., 0., 0., 0.]]],\n",
       "\n",
       "\n",
       "       [[[0., 0., 0., 0., 0.],\n",
       "         [0., 0., 0., 0., 0.],\n",
       "         [0., 0., 0., 0., 0.],\n",
       "         [0., 0., 0., 0., 0.]],\n",
       "\n",
       "        [[0., 0., 0., 0., 0.],\n",
       "         [0., 0., 0., 0., 0.],\n",
       "         [0., 0., 0., 0., 0.],\n",
       "         [0., 0., 0., 0., 0.]],\n",
       "\n",
       "        [[0., 0., 0., 0., 0.],\n",
       "         [0., 0., 0., 0., 0.],\n",
       "         [0., 0., 0., 0., 0.],\n",
       "         [0., 0., 0., 0., 0.]],\n",
       "\n",
       "        [[0., 0., 0., 0., 0.],\n",
       "         [0., 0., 0., 0., 0.],\n",
       "         [0., 0., 0., 0., 0.],\n",
       "         [0., 0., 0., 0., 0.]]]])"
      ]
     },
     "execution_count": 30,
     "metadata": {},
     "output_type": "execute_result"
    }
   ],
   "source": [
    "np.zeros((2,4,4,5))"
   ]
  },
  {
   "cell_type": "code",
   "execution_count": 31,
   "id": "e137cbd8",
   "metadata": {},
   "outputs": [],
   "source": [
    "arr=np.zeros((2,4))"
   ]
  },
  {
   "cell_type": "code",
   "execution_count": 32,
   "id": "1be6a76a",
   "metadata": {},
   "outputs": [
    {
     "data": {
      "text/plain": [
       "array([[0., 0., 0., 0.],\n",
       "       [0., 0., 0., 0.]])"
      ]
     },
     "execution_count": 32,
     "metadata": {},
     "output_type": "execute_result"
    }
   ],
   "source": [
    "arr"
   ]
  },
  {
   "cell_type": "code",
   "execution_count": 33,
   "id": "02ac2daf",
   "metadata": {},
   "outputs": [
    {
     "data": {
      "text/plain": [
       "array([[1., 1., 1., 1.],\n",
       "       [1., 1., 1., 1.]])"
      ]
     },
     "execution_count": 33,
     "metadata": {},
     "output_type": "execute_result"
    }
   ],
   "source": [
    "arr+1"
   ]
  },
  {
   "cell_type": "code",
   "execution_count": 34,
   "id": "c5e2560f",
   "metadata": {},
   "outputs": [
    {
     "data": {
      "text/plain": [
       "array([[-1., -1., -1., -1.],\n",
       "       [-1., -1., -1., -1.]])"
      ]
     },
     "execution_count": 34,
     "metadata": {},
     "output_type": "execute_result"
    }
   ],
   "source": [
    "arr-1"
   ]
  },
  {
   "cell_type": "code",
   "execution_count": 35,
   "id": "fabb3141",
   "metadata": {},
   "outputs": [
    {
     "data": {
      "text/plain": [
       "array([[0., 0., 0., 0.],\n",
       "       [0., 0., 0., 0.]])"
      ]
     },
     "execution_count": 35,
     "metadata": {},
     "output_type": "execute_result"
    }
   ],
   "source": [
    "arr/2"
   ]
  },
  {
   "cell_type": "code",
   "execution_count": 36,
   "id": "5b2e3788",
   "metadata": {},
   "outputs": [
    {
     "data": {
      "text/plain": [
       "array([1., 1., 1., 1., 1., 1.])"
      ]
     },
     "execution_count": 36,
     "metadata": {},
     "output_type": "execute_result"
    }
   ],
   "source": [
    "#ones function create a array of ones\n",
    "np.ones(6)"
   ]
  },
  {
   "cell_type": "code",
   "execution_count": 37,
   "id": "ffcebc7c",
   "metadata": {},
   "outputs": [
    {
     "data": {
      "text/plain": [
       "array([[1., 1., 1., 1., 1.],\n",
       "       [1., 1., 1., 1., 1.],\n",
       "       [1., 1., 1., 1., 1.],\n",
       "       [1., 1., 1., 1., 1.]])"
      ]
     },
     "execution_count": 37,
     "metadata": {},
     "output_type": "execute_result"
    }
   ],
   "source": [
    "np.ones((4,5))"
   ]
  },
  {
   "cell_type": "code",
   "execution_count": 38,
   "id": "28fee105",
   "metadata": {},
   "outputs": [
    {
     "data": {
      "text/plain": [
       "array([[[1., 1., 1., 1., 1., 1., 1.],\n",
       "        [1., 1., 1., 1., 1., 1., 1.],\n",
       "        [1., 1., 1., 1., 1., 1., 1.],\n",
       "        [1., 1., 1., 1., 1., 1., 1.],\n",
       "        [1., 1., 1., 1., 1., 1., 1.]],\n",
       "\n",
       "       [[1., 1., 1., 1., 1., 1., 1.],\n",
       "        [1., 1., 1., 1., 1., 1., 1.],\n",
       "        [1., 1., 1., 1., 1., 1., 1.],\n",
       "        [1., 1., 1., 1., 1., 1., 1.],\n",
       "        [1., 1., 1., 1., 1., 1., 1.]],\n",
       "\n",
       "       [[1., 1., 1., 1., 1., 1., 1.],\n",
       "        [1., 1., 1., 1., 1., 1., 1.],\n",
       "        [1., 1., 1., 1., 1., 1., 1.],\n",
       "        [1., 1., 1., 1., 1., 1., 1.],\n",
       "        [1., 1., 1., 1., 1., 1., 1.]],\n",
       "\n",
       "       [[1., 1., 1., 1., 1., 1., 1.],\n",
       "        [1., 1., 1., 1., 1., 1., 1.],\n",
       "        [1., 1., 1., 1., 1., 1., 1.],\n",
       "        [1., 1., 1., 1., 1., 1., 1.],\n",
       "        [1., 1., 1., 1., 1., 1., 1.]]])"
      ]
     },
     "execution_count": 38,
     "metadata": {},
     "output_type": "execute_result"
    }
   ],
   "source": [
    "np.ones((4,5,7))"
   ]
  },
  {
   "cell_type": "code",
   "execution_count": 39,
   "id": "3684af1e",
   "metadata": {},
   "outputs": [],
   "source": [
    "arr1=np.ones((4,5))"
   ]
  },
  {
   "cell_type": "code",
   "execution_count": 40,
   "id": "1ba946fb",
   "metadata": {},
   "outputs": [
    {
     "data": {
      "text/plain": [
       "array([[2., 2., 2., 2., 2.],\n",
       "       [2., 2., 2., 2., 2.],\n",
       "       [2., 2., 2., 2., 2.],\n",
       "       [2., 2., 2., 2., 2.]])"
      ]
     },
     "execution_count": 40,
     "metadata": {},
     "output_type": "execute_result"
    }
   ],
   "source": [
    "arr1*2"
   ]
  },
  {
   "cell_type": "code",
   "execution_count": 41,
   "id": "efed5b47",
   "metadata": {},
   "outputs": [
    {
     "data": {
      "text/plain": [
       "array([[3., 3., 3., 3., 3.],\n",
       "       [3., 3., 3., 3., 3.],\n",
       "       [3., 3., 3., 3., 3.],\n",
       "       [3., 3., 3., 3., 3.]])"
      ]
     },
     "execution_count": 41,
     "metadata": {},
     "output_type": "execute_result"
    }
   ],
   "source": [
    "arr1+2"
   ]
  },
  {
   "cell_type": "code",
   "execution_count": 42,
   "id": "ae865ad8",
   "metadata": {},
   "outputs": [
    {
     "data": {
      "text/plain": [
       "array([[-1., -1., -1., -1., -1.],\n",
       "       [-1., -1., -1., -1., -1.],\n",
       "       [-1., -1., -1., -1., -1.],\n",
       "       [-1., -1., -1., -1., -1.]])"
      ]
     },
     "execution_count": 42,
     "metadata": {},
     "output_type": "execute_result"
    }
   ],
   "source": [
    "arr1-2"
   ]
  },
  {
   "cell_type": "code",
   "execution_count": 43,
   "id": "833cd4c5",
   "metadata": {},
   "outputs": [
    {
     "data": {
      "text/plain": [
       "array([[0.5, 0.5, 0.5, 0.5, 0.5],\n",
       "       [0.5, 0.5, 0.5, 0.5, 0.5],\n",
       "       [0.5, 0.5, 0.5, 0.5, 0.5],\n",
       "       [0.5, 0.5, 0.5, 0.5, 0.5]])"
      ]
     },
     "execution_count": 43,
     "metadata": {},
     "output_type": "execute_result"
    }
   ],
   "source": [
    "arr1/2"
   ]
  },
  {
   "cell_type": "code",
   "execution_count": 44,
   "id": "e61d223c",
   "metadata": {},
   "outputs": [
    {
     "data": {
      "text/plain": [
       "array([0., 0., 0., 0.])"
      ]
     },
     "execution_count": 44,
     "metadata": {},
     "output_type": "execute_result"
    }
   ],
   "source": [
    "#empty function create a array of empty\n",
    "np.empty(4)"
   ]
  },
  {
   "cell_type": "code",
   "execution_count": 47,
   "id": "84f614ee",
   "metadata": {},
   "outputs": [
    {
     "data": {
      "text/plain": [
       "array([[ 0.1,  1.1,  2.1,  3.1,  4.1,  5.1,  6.1],\n",
       "       [ 7.1,  8.1,  9.1, 10.1, 11.1, 12.1, 13.1],\n",
       "       [14.1, 15.1, 16.1, 17.1, 18.1, 19.1, 20.1],\n",
       "       [21.1, 22.1, 23.1, 24.1, 25.1, 26.1, 27.1],\n",
       "       [28.1, 29.1, 30.1, 31.1, 32.1, 33.1, 34.1],\n",
       "       [35.1, 36.1, 37.1, 38.1, 39.1, 40.1, 41.1],\n",
       "       [42.1, 43.1, 44.1, 45.1, 46.1, 47.1, 48.1],\n",
       "       [49.1, 50.1, 51.1, 52.1, 53.1, 54.1, 55.1]])"
      ]
     },
     "execution_count": 47,
     "metadata": {},
     "output_type": "execute_result"
    }
   ],
   "source": [
    "np.empty((8,7))"
   ]
  },
  {
   "cell_type": "code",
   "execution_count": 49,
   "id": "3f1ee269",
   "metadata": {},
   "outputs": [
    {
     "data": {
      "text/plain": [
       "array([[1., 0., 0., 0., 0.],\n",
       "       [0., 1., 0., 0., 0.],\n",
       "       [0., 0., 1., 0., 0.],\n",
       "       [0., 0., 0., 1., 0.],\n",
       "       [0., 0., 0., 0., 1.]])"
      ]
     },
     "execution_count": 49,
     "metadata": {},
     "output_type": "execute_result"
    }
   ],
   "source": [
    "#eye fumction gives identity matric\n",
    "np.eye(5)"
   ]
  },
  {
   "cell_type": "code",
   "execution_count": 50,
   "id": "e98ba1b6",
   "metadata": {},
   "outputs": [
    {
     "data": {
      "text/plain": [
       "array([0.33730516, 0.05579999, 0.72896246, 0.52602496, 0.3672281 ])"
      ]
     },
     "execution_count": 50,
     "metadata": {},
     "output_type": "execute_result"
    }
   ],
   "source": [
    "# now we are coming in the random function\n",
    "#1.) random.rand :- it generated a random data with range\n",
    "np.random.rand(5)"
   ]
  },
  {
   "cell_type": "code",
   "execution_count": 51,
   "id": "7a2a5fdd",
   "metadata": {},
   "outputs": [
    {
     "data": {
      "text/plain": [
       "array([[0.76588341, 0.87413977, 0.09180962, 0.77589504, 0.83593578]])"
      ]
     },
     "execution_count": 51,
     "metadata": {},
     "output_type": "execute_result"
    }
   ],
   "source": [
    "np.random.rand(1,5)"
   ]
  },
  {
   "cell_type": "code",
   "execution_count": 56,
   "id": "778d7155",
   "metadata": {
    "scrolled": true
   },
   "outputs": [
    {
     "data": {
      "text/plain": [
       "array([[[0.39733789, 0.38864435, 0.05279519, 0.29583724, 0.15444098,\n",
       "         0.55621668, 0.46369216, 0.50258607, 0.27571758, 0.06453429,\n",
       "         0.41275038, 0.63332095, 0.97187413, 0.89934414, 0.46100506,\n",
       "         0.59189532, 0.61099224, 0.94607326, 0.47826298, 0.28217252,\n",
       "         0.09946391, 0.7714664 , 0.05973384, 0.20257242],\n",
       "        [0.53776153, 0.48584199, 0.14449535, 0.58871187, 0.71172425,\n",
       "         0.7983705 , 0.04365815, 0.93871727, 0.89358776, 0.64735169,\n",
       "         0.7885343 , 0.12234617, 0.61185092, 0.35335806, 0.28168862,\n",
       "         0.70677669, 0.43937037, 0.86303763, 0.01201775, 0.12854216,\n",
       "         0.40649012, 0.29966094, 0.37988233, 0.24504801],\n",
       "        [0.35289761, 0.89346718, 0.22465252, 0.43838745, 0.58875378,\n",
       "         0.88685554, 0.00237097, 0.63930836, 0.22585559, 0.91181401,\n",
       "         0.37884731, 0.27561918, 0.44037379, 0.95865911, 0.63332045,\n",
       "         0.56393228, 0.98544419, 0.47767909, 0.13678403, 0.5072594 ,\n",
       "         0.38518583, 0.5224106 , 0.14830485, 0.35941445],\n",
       "        [0.9120472 , 0.76858996, 0.53827059, 0.98903881, 0.01286774,\n",
       "         0.89266342, 0.91181632, 0.36412459, 0.8232477 , 0.70948213,\n",
       "         0.77359347, 0.57716719, 0.02733448, 0.02916453, 0.16653688,\n",
       "         0.11816891, 0.43620774, 0.7599941 , 0.11784709, 0.58207789,\n",
       "         0.72653526, 0.45573147, 0.94548654, 0.16081131],\n",
       "        [0.15993662, 0.79837653, 0.0741366 , 0.84557861, 0.77351719,\n",
       "         0.31153098, 0.54598429, 0.772265  , 0.56388834, 0.1810558 ,\n",
       "         0.33123807, 0.01316286, 0.05484058, 0.30980522, 0.38954405,\n",
       "         0.91907705, 0.35285156, 0.90817931, 0.33382588, 0.72445814,\n",
       "         0.20071154, 0.5833449 , 0.76500383, 0.97547063]]])"
      ]
     },
     "execution_count": 56,
     "metadata": {},
     "output_type": "execute_result"
    }
   ],
   "source": [
    "np.random.rand(1,5,24)"
   ]
  },
  {
   "cell_type": "code",
   "execution_count": 57,
   "id": "1bf9d9e7",
   "metadata": {},
   "outputs": [
    {
     "data": {
      "text/plain": [
       "array([[-1.12806946,  0.62988092,  1.24770875,  1.07059891,  0.83994073]])"
      ]
     },
     "execution_count": 57,
     "metadata": {},
     "output_type": "execute_result"
    }
   ],
   "source": [
    "np.random.randn(1,5)"
   ]
  },
  {
   "cell_type": "code",
   "execution_count": 60,
   "id": "f63d6d56",
   "metadata": {},
   "outputs": [],
   "source": [
    "arr=np.random.randint(1,5,(3,4))"
   ]
  },
  {
   "cell_type": "code",
   "execution_count": 61,
   "id": "431f2cff",
   "metadata": {},
   "outputs": [
    {
     "data": {
      "text/plain": [
       "array([[1, 1, 1, 4],\n",
       "       [4, 4, 1, 3],\n",
       "       [3, 3, 4, 2]])"
      ]
     },
     "execution_count": 61,
     "metadata": {},
     "output_type": "execute_result"
    }
   ],
   "source": [
    "arr"
   ]
  },
  {
   "cell_type": "code",
   "execution_count": 62,
   "id": "2940a5fb",
   "metadata": {},
   "outputs": [
    {
     "data": {
      "text/plain": [
       "12"
      ]
     },
     "execution_count": 62,
     "metadata": {},
     "output_type": "execute_result"
    }
   ],
   "source": [
    "arr.size"
   ]
  },
  {
   "cell_type": "code",
   "execution_count": 63,
   "id": "25156d0e",
   "metadata": {},
   "outputs": [
    {
     "data": {
      "text/plain": [
       "2"
      ]
     },
     "execution_count": 63,
     "metadata": {},
     "output_type": "execute_result"
    }
   ],
   "source": [
    "arr.ndim"
   ]
  },
  {
   "cell_type": "code",
   "execution_count": 64,
   "id": "5d22cf07",
   "metadata": {},
   "outputs": [
    {
     "data": {
      "text/plain": [
       "(3, 4)"
      ]
     },
     "execution_count": 64,
     "metadata": {},
     "output_type": "execute_result"
    }
   ],
   "source": [
    "arr.shape"
   ]
  },
  {
   "cell_type": "code",
   "execution_count": 67,
   "id": "33294da4",
   "metadata": {},
   "outputs": [
    {
     "data": {
      "text/plain": [
       "array([[1, 1],\n",
       "       [1, 4],\n",
       "       [4, 4],\n",
       "       [1, 3],\n",
       "       [3, 3],\n",
       "       [4, 2]])"
      ]
     },
     "execution_count": 67,
     "metadata": {},
     "output_type": "execute_result"
    }
   ],
   "source": [
    "arr.reshape(6,2)"
   ]
  },
  {
   "cell_type": "code",
   "execution_count": 75,
   "id": "81daeea8",
   "metadata": {},
   "outputs": [],
   "source": [
    "arr2=np.random.randint(2,4,(3,4))"
   ]
  },
  {
   "cell_type": "code",
   "execution_count": 76,
   "id": "0469ede2",
   "metadata": {},
   "outputs": [
    {
     "data": {
      "text/plain": [
       "array([[3, 2, 2, 3],\n",
       "       [3, 2, 3, 3],\n",
       "       [2, 3, 2, 3]])"
      ]
     },
     "execution_count": 76,
     "metadata": {},
     "output_type": "execute_result"
    }
   ],
   "source": [
    "arr2"
   ]
  },
  {
   "cell_type": "code",
   "execution_count": 77,
   "id": "a149cbcf",
   "metadata": {},
   "outputs": [
    {
     "data": {
      "text/plain": [
       "array([[ True, False, False,  True],\n",
       "       [ True, False,  True,  True],\n",
       "       [False,  True, False,  True]])"
      ]
     },
     "execution_count": 77,
     "metadata": {},
     "output_type": "execute_result"
    }
   ],
   "source": [
    "arr2>2"
   ]
  },
  {
   "cell_type": "code",
   "execution_count": 78,
   "id": "04df17b0",
   "metadata": {},
   "outputs": [
    {
     "data": {
      "text/plain": [
       "array([3, 3, 3, 3, 3, 3, 3])"
      ]
     },
     "execution_count": 78,
     "metadata": {},
     "output_type": "execute_result"
    }
   ],
   "source": [
    "arr2[arr2>2]"
   ]
  },
  {
   "cell_type": "code",
   "execution_count": 80,
   "id": "b694cd1e",
   "metadata": {},
   "outputs": [],
   "source": [
    "arr1=np.random.randint(1,6,(3,4))\n",
    "arr1=np.random.randint(6,10,(3,4))"
   ]
  },
  {
   "cell_type": "code",
   "execution_count": 82,
   "id": "e45f3f46",
   "metadata": {},
   "outputs": [
    {
     "data": {
      "text/plain": [
       "array([[ 9, 10, 10, 10],\n",
       "       [11, 11,  9, 10],\n",
       "       [10, 10, 11, 11]])"
      ]
     },
     "execution_count": 82,
     "metadata": {},
     "output_type": "execute_result"
    }
   ],
   "source": [
    "# arthmatic operation inex by in the array\n",
    "arr1+arr2"
   ]
  },
  {
   "cell_type": "code",
   "execution_count": 83,
   "id": "3cf4d888",
   "metadata": {},
   "outputs": [
    {
     "data": {
      "text/plain": [
       "array([[3, 6, 6, 4],\n",
       "       [5, 7, 3, 4],\n",
       "       [6, 4, 7, 5]])"
      ]
     },
     "execution_count": 83,
     "metadata": {},
     "output_type": "execute_result"
    }
   ],
   "source": [
    "arr1-arr2"
   ]
  },
  {
   "cell_type": "code",
   "execution_count": 84,
   "id": "3ce14b57",
   "metadata": {},
   "outputs": [
    {
     "data": {
      "text/plain": [
       "array([[18, 16, 16, 21],\n",
       "       [24, 18, 18, 21],\n",
       "       [16, 21, 18, 24]])"
      ]
     },
     "execution_count": 84,
     "metadata": {},
     "output_type": "execute_result"
    }
   ],
   "source": [
    "arr1*arr2"
   ]
  },
  {
   "cell_type": "code",
   "execution_count": 85,
   "id": "eae9a448",
   "metadata": {},
   "outputs": [
    {
     "data": {
      "text/plain": [
       "array([[2.        , 4.        , 4.        , 2.33333333],\n",
       "       [2.66666667, 4.5       , 2.        , 2.33333333],\n",
       "       [4.        , 2.33333333, 4.5       , 2.66666667]])"
      ]
     },
     "execution_count": 85,
     "metadata": {},
     "output_type": "execute_result"
    }
   ],
   "source": [
    "arr1/arr2"
   ]
  },
  {
   "cell_type": "code",
   "execution_count": 88,
   "id": "1a749485",
   "metadata": {},
   "outputs": [],
   "source": [
    "arr3=np.random.randint(1,6,(3,3))\n",
    "arr4=np.random.randint(6,10,(3,3))"
   ]
  },
  {
   "cell_type": "code",
   "execution_count": 91,
   "id": "8571ead0",
   "metadata": {},
   "outputs": [
    {
     "data": {
      "text/plain": [
       "array([[72, 63, 50],\n",
       "       [81, 78, 57],\n",
       "       [72, 69, 50]])"
      ]
     },
     "execution_count": 91,
     "metadata": {},
     "output_type": "execute_result"
    }
   ],
   "source": [
    "# if we want to perform matrix multiplicatin the we used @ opperator\n",
    "#(m,n) (j,k) \n",
    "# here must be n=j anf the result matrix is (m,k)\n",
    "arr3@arr4"
   ]
  },
  {
   "cell_type": "code",
   "execution_count": 97,
   "id": "92afa9ae",
   "metadata": {},
   "outputs": [],
   "source": [
    "# array brodcasting\n",
    "arr4=np.zeros((4,5))"
   ]
  },
  {
   "cell_type": "code",
   "execution_count": 98,
   "id": "034b7321",
   "metadata": {},
   "outputs": [
    {
     "data": {
      "text/plain": [
       "array([[0., 0., 0., 0., 0.],\n",
       "       [0., 0., 0., 0., 0.],\n",
       "       [0., 0., 0., 0., 0.],\n",
       "       [0., 0., 0., 0., 0.]])"
      ]
     },
     "execution_count": 98,
     "metadata": {},
     "output_type": "execute_result"
    }
   ],
   "source": [
    "arr4"
   ]
  },
  {
   "cell_type": "code",
   "execution_count": 99,
   "id": "16ee9d11",
   "metadata": {},
   "outputs": [
    {
     "data": {
      "text/plain": [
       "array([[5., 5., 5., 5., 5.],\n",
       "       [5., 5., 5., 5., 5.],\n",
       "       [5., 5., 5., 5., 5.],\n",
       "       [5., 5., 5., 5., 5.]])"
      ]
     },
     "execution_count": 99,
     "metadata": {},
     "output_type": "execute_result"
    }
   ],
   "source": [
    "arr4+5"
   ]
  },
  {
   "cell_type": "code",
   "execution_count": 101,
   "id": "f306090b",
   "metadata": {},
   "outputs": [],
   "source": [
    "a=np.array([1,2,3,4,5])"
   ]
  },
  {
   "cell_type": "code",
   "execution_count": 102,
   "id": "89cff190",
   "metadata": {},
   "outputs": [
    {
     "data": {
      "text/plain": [
       "array([[1., 2., 3., 4., 5.],\n",
       "       [1., 2., 3., 4., 5.],\n",
       "       [1., 2., 3., 4., 5.],\n",
       "       [1., 2., 3., 4., 5.]])"
      ]
     },
     "execution_count": 102,
     "metadata": {},
     "output_type": "execute_result"
    }
   ],
   "source": [
    "arr4+a"
   ]
  },
  {
   "cell_type": "code",
   "execution_count": 111,
   "id": "ed1586bb",
   "metadata": {},
   "outputs": [],
   "source": []
  },
  {
   "cell_type": "code",
   "execution_count": null,
   "id": "0f25e28c",
   "metadata": {},
   "outputs": [],
   "source": [
    "\n"
   ]
  },
  {
   "cell_type": "code",
   "execution_count": null,
   "id": "ef71787b",
   "metadata": {},
   "outputs": [],
   "source": []
  },
  {
   "cell_type": "code",
   "execution_count": null,
   "id": "14c1a9f1",
   "metadata": {},
   "outputs": [],
   "source": []
  }
 ],
 "metadata": {
  "kernelspec": {
   "display_name": "Python 3 (ipykernel)",
   "language": "python",
   "name": "python3"
  },
  "language_info": {
   "codemirror_mode": {
    "name": "ipython",
    "version": 3
   },
   "file_extension": ".py",
   "mimetype": "text/x-python",
   "name": "python",
   "nbconvert_exporter": "python",
   "pygments_lexer": "ipython3",
   "version": "3.10.6"
  }
 },
 "nbformat": 4,
 "nbformat_minor": 5
}
