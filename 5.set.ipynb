{
 "cells": [
  {
   "cell_type": "markdown",
   "id": "f708ffff",
   "metadata": {},
   "source": [
    "# set\n",
    "### it is a immutable data type\n"
   ]
  },
  {
   "cell_type": "code",
   "execution_count": 5,
   "id": "37a0fb75",
   "metadata": {},
   "outputs": [],
   "source": [
    "set={}  #if we intilised with empty set then it is treat as a dictionary"
   ]
  },
  {
   "cell_type": "code",
   "execution_count": 6,
   "id": "a7346873",
   "metadata": {},
   "outputs": [
    {
     "data": {
      "text/plain": [
       "{}"
      ]
     },
     "execution_count": 6,
     "metadata": {},
     "output_type": "execute_result"
    }
   ],
   "source": [
    "set"
   ]
  },
  {
   "cell_type": "code",
   "execution_count": 7,
   "id": "7048ca20",
   "metadata": {},
   "outputs": [
    {
     "data": {
      "text/plain": [
       "dict"
      ]
     },
     "execution_count": 7,
     "metadata": {},
     "output_type": "execute_result"
    }
   ],
   "source": [
    "type(set)"
   ]
  },
  {
   "cell_type": "code",
   "execution_count": 8,
   "id": "46be1219",
   "metadata": {},
   "outputs": [],
   "source": [
    "set_1={1,2,3,4,5,6,2} #when we fill the element into the currly braces then it become a set"
   ]
  },
  {
   "cell_type": "code",
   "execution_count": 9,
   "id": "e93af3ce",
   "metadata": {},
   "outputs": [
    {
     "data": {
      "text/plain": [
       "{1, 2, 3, 4, 5, 6}"
      ]
     },
     "execution_count": 9,
     "metadata": {},
     "output_type": "execute_result"
    }
   ],
   "source": [
    "set_1"
   ]
  },
  {
   "cell_type": "code",
   "execution_count": 10,
   "id": "c8713a5c",
   "metadata": {},
   "outputs": [
    {
     "data": {
      "text/plain": [
       "{0, 1, 2, 3, 4, 5, 6, 7, 21, 45}"
      ]
     },
     "execution_count": 10,
     "metadata": {},
     "output_type": "execute_result"
    }
   ],
   "source": [
    "# in set the element return uniquely if any number or element of set is same then they will be remove \n",
    "## and it is also sort the element into the accending order\n",
    "set_2={1,2,1,1,21,1,1,0,1,1,2,2,4,2,3,3,4,4,4,45,4,5,6,6,7}\n",
    "set_2"
   ]
  },
  {
   "cell_type": "code",
   "execution_count": 11,
   "id": "7dbea5b0",
   "metadata": {},
   "outputs": [
    {
     "data": {
      "text/plain": [
       "[0, 1, 2, 3, 4, 5, 6, 7, 45, 21]"
      ]
     },
     "execution_count": 11,
     "metadata": {},
     "output_type": "execute_result"
    }
   ],
   "source": [
    "#covert set into the list\n",
    "\n",
    "a=list(set_2)\n",
    "a"
   ]
  },
  {
   "cell_type": "code",
   "execution_count": 12,
   "id": "104f2989",
   "metadata": {},
   "outputs": [
    {
     "data": {
      "text/plain": [
       "list"
      ]
     },
     "execution_count": 12,
     "metadata": {},
     "output_type": "execute_result"
    }
   ],
   "source": [
    "type(a)"
   ]
  },
  {
   "cell_type": "code",
   "execution_count": 13,
   "id": "9a648a84",
   "metadata": {},
   "outputs": [],
   "source": [
    "set_3= {4,5,6,78,95,43,2,3}"
   ]
  },
  {
   "cell_type": "code",
   "execution_count": 14,
   "id": "893cd914",
   "metadata": {},
   "outputs": [
    {
     "data": {
      "text/plain": [
       "{2, 3, 4, 5, 6, 43, 78, 95}"
      ]
     },
     "execution_count": 14,
     "metadata": {},
     "output_type": "execute_result"
    }
   ],
   "source": [
    "set_3"
   ]
  },
  {
   "cell_type": "code",
   "execution_count": 15,
   "id": "c08ba980",
   "metadata": {},
   "outputs": [],
   "source": [
    "set_4={1,2,3,4,5,(1,2,3,4,5)} #tuple inside the set"
   ]
  },
  {
   "cell_type": "code",
   "execution_count": 16,
   "id": "0d41fb77",
   "metadata": {},
   "outputs": [
    {
     "data": {
      "text/plain": [
       "{(1, 2, 3, 4, 5), 1, 2, 3, 4, 5}"
      ]
     },
     "execution_count": 16,
     "metadata": {},
     "output_type": "execute_result"
    }
   ],
   "source": [
    "set_4"
   ]
  },
  {
   "cell_type": "code",
   "execution_count": 17,
   "id": "8b00c2b7",
   "metadata": {},
   "outputs": [],
   "source": [
    "# we do not used index base subscription"
   ]
  },
  {
   "cell_type": "code",
   "execution_count": 18,
   "id": "c0841d5f",
   "metadata": {},
   "outputs": [
    {
     "name": "stdout",
     "output_type": "stream",
     "text": [
      "2\n",
      "3\n",
      "4\n",
      "5\n",
      "6\n",
      "43\n",
      "78\n",
      "95\n"
     ]
    }
   ],
   "source": [
    "for i in set_3:\n",
    "    print(i)"
   ]
  },
  {
   "cell_type": "code",
   "execution_count": 19,
   "id": "e900bb05",
   "metadata": {},
   "outputs": [],
   "source": [
    "set_4={2,3,4,5,\"shivank\",\"Shivank\"} # becouse python is a case sencitive language"
   ]
  },
  {
   "cell_type": "code",
   "execution_count": 20,
   "id": "75b86451",
   "metadata": {},
   "outputs": [
    {
     "data": {
      "text/plain": [
       "{2, 3, 4, 5, 'Shivank', 'shivank'}"
      ]
     },
     "execution_count": 20,
     "metadata": {},
     "output_type": "execute_result"
    }
   ],
   "source": [
    "set_4"
   ]
  },
  {
   "cell_type": "code",
   "execution_count": 21,
   "id": "e6b0ebeb",
   "metadata": {},
   "outputs": [],
   "source": [
    "set_4.add(23)"
   ]
  },
  {
   "cell_type": "code",
   "execution_count": 22,
   "id": "0c245d7c",
   "metadata": {},
   "outputs": [
    {
     "data": {
      "text/plain": [
       "{2, 23, 3, 4, 5, 'Shivank', 'shivank'}"
      ]
     },
     "execution_count": 22,
     "metadata": {},
     "output_type": "execute_result"
    }
   ],
   "source": [
    "set_4"
   ]
  },
  {
   "cell_type": "code",
   "execution_count": 23,
   "id": "448607f8",
   "metadata": {},
   "outputs": [
    {
     "data": {
      "text/plain": [
       "{2, 23, 3, 4, 5, 'Shivank', 'shivank'}"
      ]
     },
     "execution_count": 23,
     "metadata": {},
     "output_type": "execute_result"
    }
   ],
   "source": [
    "set_4.copy()"
   ]
  },
  {
   "cell_type": "code",
   "execution_count": 24,
   "id": "1dc2e734",
   "metadata": {},
   "outputs": [
    {
     "data": {
      "text/plain": [
       "7"
      ]
     },
     "execution_count": 24,
     "metadata": {},
     "output_type": "execute_result"
    }
   ],
   "source": [
    "len(set_4)"
   ]
  },
  {
   "cell_type": "code",
   "execution_count": 25,
   "id": "b5d1c8a5",
   "metadata": {},
   "outputs": [
    {
     "data": {
      "text/plain": [
       "2"
      ]
     },
     "execution_count": 25,
     "metadata": {},
     "output_type": "execute_result"
    }
   ],
   "source": [
    "set_3.pop()"
   ]
  },
  {
   "cell_type": "code",
   "execution_count": 26,
   "id": "062983e6",
   "metadata": {},
   "outputs": [
    {
     "data": {
      "text/plain": [
       "3"
      ]
     },
     "execution_count": 26,
     "metadata": {},
     "output_type": "execute_result"
    }
   ],
   "source": [
    "set_3.pop()"
   ]
  },
  {
   "cell_type": "code",
   "execution_count": 27,
   "id": "4bc95432",
   "metadata": {},
   "outputs": [
    {
     "data": {
      "text/plain": [
       "4"
      ]
     },
     "execution_count": 27,
     "metadata": {},
     "output_type": "execute_result"
    }
   ],
   "source": [
    "set_3.pop()"
   ]
  },
  {
   "cell_type": "code",
   "execution_count": 28,
   "id": "d0a53f21",
   "metadata": {},
   "outputs": [
    {
     "data": {
      "text/plain": [
       "5"
      ]
     },
     "execution_count": 28,
     "metadata": {},
     "output_type": "execute_result"
    }
   ],
   "source": [
    "set_3.pop()"
   ]
  },
  {
   "cell_type": "code",
   "execution_count": 29,
   "id": "db803a2e",
   "metadata": {},
   "outputs": [
    {
     "data": {
      "text/plain": [
       "6"
      ]
     },
     "execution_count": 29,
     "metadata": {},
     "output_type": "execute_result"
    }
   ],
   "source": [
    "set_3.pop()"
   ]
  },
  {
   "cell_type": "code",
   "execution_count": 30,
   "id": "86a4140f",
   "metadata": {},
   "outputs": [
    {
     "data": {
      "text/plain": [
       "{43, 78, 95}"
      ]
     },
     "execution_count": 30,
     "metadata": {},
     "output_type": "execute_result"
    }
   ],
   "source": [
    "set_3"
   ]
  },
  {
   "cell_type": "code",
   "execution_count": 31,
   "id": "c78f1e99",
   "metadata": {},
   "outputs": [
    {
     "data": {
      "text/plain": [
       "43"
      ]
     },
     "execution_count": 31,
     "metadata": {},
     "output_type": "execute_result"
    }
   ],
   "source": [
    "set_3.pop()"
   ]
  },
  {
   "cell_type": "code",
   "execution_count": 32,
   "id": "b4ccb512",
   "metadata": {},
   "outputs": [
    {
     "data": {
      "text/plain": [
       "{78, 95}"
      ]
     },
     "execution_count": 32,
     "metadata": {},
     "output_type": "execute_result"
    }
   ],
   "source": [
    "set_3"
   ]
  },
  {
   "cell_type": "code",
   "execution_count": 35,
   "id": "37fcb8d3",
   "metadata": {},
   "outputs": [],
   "source": [
    "set_3.clear() # it is used to clear the set and remove all the element in the set"
   ]
  },
  {
   "cell_type": "code",
   "execution_count": 36,
   "id": "9d6280f7",
   "metadata": {},
   "outputs": [
    {
     "data": {
      "text/plain": [
       "set()"
      ]
     },
     "execution_count": 36,
     "metadata": {},
     "output_type": "execute_result"
    }
   ],
   "source": [
    "set_3"
   ]
  },
  {
   "cell_type": "code",
   "execution_count": 37,
   "id": "925d0535",
   "metadata": {},
   "outputs": [],
   "source": [
    "set_10={1,2,3,4,5}\n",
    "set_11={1,2,3,5,6}\n"
   ]
  },
  {
   "cell_type": "code",
   "execution_count": 38,
   "id": "7c1366e2",
   "metadata": {},
   "outputs": [
    {
     "data": {
      "text/plain": [
       "{4}"
      ]
     },
     "execution_count": 38,
     "metadata": {},
     "output_type": "execute_result"
    }
   ],
   "source": [
    "set_10.difference(set_11)"
   ]
  },
  {
   "cell_type": "code",
   "execution_count": 39,
   "id": "65527d8f",
   "metadata": {},
   "outputs": [
    {
     "data": {
      "text/plain": [
       "{6}"
      ]
     },
     "execution_count": 39,
     "metadata": {},
     "output_type": "execute_result"
    }
   ],
   "source": [
    "set_11.difference(set_10)"
   ]
  },
  {
   "cell_type": "code",
   "execution_count": null,
   "id": "745a9c51",
   "metadata": {},
   "outputs": [],
   "source": []
  }
 ],
 "metadata": {
  "kernelspec": {
   "display_name": "Python 3 (ipykernel)",
   "language": "python",
   "name": "python3"
  },
  "language_info": {
   "codemirror_mode": {
    "name": "ipython",
    "version": 3
   },
   "file_extension": ".py",
   "mimetype": "text/x-python",
   "name": "python",
   "nbconvert_exporter": "python",
   "pygments_lexer": "ipython3",
   "version": "3.10.9"
  }
 },
 "nbformat": 4,
 "nbformat_minor": 5
}
