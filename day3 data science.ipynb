{
 "cells": [
  {
   "cell_type": "markdown",
   "id": "0a26edff",
   "metadata": {},
   "source": [
    "## Operation "
   ]
  },
  {
   "cell_type": "markdown",
   "id": "55db298f",
   "metadata": {},
   "source": [
    "### logiacl\n",
    "### Equality \n",
    "### Comparision \n",
    "### Arthmetic \n",
    "### Bitwise"
   ]
  },
  {
   "cell_type": "markdown",
   "id": "59636e09",
   "metadata": {},
   "source": [
    "#### In python following keywords are used for boolen operations "
   ]
  },
  {
   "cell_type": "markdown",
   "id": "05bc9cc5",
   "metadata": {},
   "source": [
    "# and , or ,not"
   ]
  },
  {
   "cell_type": "code",
   "execution_count": 4,
   "id": "07feb5d2",
   "metadata": {},
   "outputs": [
    {
     "name": "stdout",
     "output_type": "stream",
     "text": [
      "Definrd value of start = True\n",
      "Definrd value of stop = False\n",
      "Definrd value of start = True\n",
      "Definrd value of start = False\n",
      "Definrd value of stop = False\n",
      "Definrd value of stop = True\n"
     ]
    }
   ],
   "source": [
    "start = True \n",
    "stop = False\n",
    "\n",
    "# print the value as it id \n",
    "print(f\"Definrd value of start = {start}\")\n",
    "print(f\"Definrd value of stop = {stop}\")\n",
    "\n",
    "# it is also written as :\n",
    "print(f\"Definrd value of start = {start}\")\n",
    "print(f\"Definrd value of start = {not start}\")\n",
    "\n",
    "#alternativly \n",
    "print(f\"Definrd value of stop = {stop}\")\n",
    "print(f\"Definrd value of stop = {not stop}\")\n",
    "\n"
   ]
  },
  {
   "cell_type": "markdown",
   "id": "54a6311b",
   "metadata": {},
   "source": [
    "## Lets define two variables with integer values 1 and 0-"
   ]
  },
  {
   "cell_type": "code",
   "execution_count": 6,
   "id": "1d322938",
   "metadata": {},
   "outputs": [
    {
     "name": "stdout",
     "output_type": "stream",
     "text": [
      "Definrd value of start = 1\n",
      "Definrd value of stop = 0\n",
      "Definrd value of start = 1\n",
      "Definrd value of start = 0\n",
      "Definrd value of stop = 0\n",
      "Definrd value of stop = 1\n"
     ]
    }
   ],
   "source": [
    "start = 1 \n",
    "stop = 0\n",
    "\n",
    "# print the value as it id \n",
    "print(f\"Definrd value of start = {start}\")\n",
    "print(f\"Definrd value of stop = {stop}\")\n",
    "\n",
    "# it is also written as :\n",
    "print(f\"Definrd value of start = {start}\")\n",
    "print(f\"Definrd value of start = {int(not start)}\")\n",
    "\n",
    "#alternativly \n",
    "print(f\"Definrd value of stop = {stop}\")\n",
    "print(f\"Definrd value of stop = {int(not stop)}\")\n"
   ]
  },
  {
   "cell_type": "code",
   "execution_count": 9,
   "id": "80a175ec",
   "metadata": {},
   "outputs": [
    {
     "name": "stdout",
     "output_type": "stream",
     "text": [
      "boolean value of no.0 is False\n",
      "boolean value of no.1 is True\n",
      "boolean value of negiation of .1 is False and negiation of .0 is True\n"
     ]
    }
   ],
   "source": [
    "one = 1\n",
    "zero =0\n",
    "\n",
    "print(f\"boolean value of no.{zero} is {bool(zero)}\")\n",
    "print(f\"boolean value of no.{one} is {bool(one)}\")\n",
    "print(f\"boolean value of negiation of .{one} is {bool(not one)} and negiation of .{zero} is {bool(not zero)}\")"
   ]
  },
  {
   "cell_type": "code",
   "execution_count": 10,
   "id": "46a8f0fc",
   "metadata": {},
   "outputs": [
    {
     "name": "stdout",
     "output_type": "stream",
     "text": [
      "boolean value of some_positive_integer.5 is True\n",
      "boolean value of some_negative_integer.-5 is True\n",
      "boolean value of negetion of  some_negative_integer.-5 is False and negetion of  some_positive_integer.5 is False\n"
     ]
    }
   ],
   "source": [
    "some_positive_integer=5\n",
    "some_negative_integer=-5\n",
    "print(f\"boolean value of some_positive_integer.{some_positive_integer} is {bool(some_positive_integer)}\")\n",
    "print(f\"boolean value of some_negative_integer.{some_negative_integer} is {bool(some_negative_integer)}\")\n",
    "print(f\"boolean value of negetion of  some_negative_integer.{some_negative_integer} is {bool( not some_negative_integer)} and negetion of  some_positive_integer.{ some_positive_integer} is {bool(not some_positive_integer)}\")"
   ]
  },
  {
   "cell_type": "code",
   "execution_count": 11,
   "id": "c5b2b753",
   "metadata": {},
   "outputs": [
    {
     "name": "stdout",
     "output_type": "stream",
     "text": [
      "boolean value of some_positive_float.5.23 is True\n",
      "boolean value of some_negative_float.-5.45 is True\n",
      "boolean value of negetion of  some_negative_float.-5.45 is False and negetion of  some_positive_integer.5.23 is False\n"
     ]
    }
   ],
   "source": [
    "some_positive_float=5.23\n",
    "some_negative_float=-5.45\n",
    "print(f\"boolean value of some_positive_float.{some_positive_float} is {bool(some_positive_float)}\")\n",
    "print(f\"boolean value of some_negative_float.{some_negative_float} is {bool(some_negative_float)}\")\n",
    "print(f\"boolean value of negetion of  some_negative_float.{some_negative_float} is {bool( not some_negative_float)} and negetion of  some_positive_integer.{ some_positive_float} is {bool(not some_positive_float)}\")"
   ]
  },
  {
   "cell_type": "code",
   "execution_count": 12,
   "id": "e33a2c5a",
   "metadata": {},
   "outputs": [],
   "source": [
    "# Example of and operator :\n"
   ]
  },
  {
   "cell_type": "code",
   "execution_count": 13,
   "id": "b72d3781",
   "metadata": {},
   "outputs": [
    {
     "name": "stdout",
     "output_type": "stream",
     "text": [
      "Dish contain vegitable  = True\n",
      "Dish contain salt  = False\n",
      " hence dish was prepared good   = False\n"
     ]
    }
   ],
   "source": [
    "vegitables = True \n",
    "salt = False\n",
    "dish = vegitables and salt\n",
    "print(f\"Dish contain vegitable  = {vegitables}\")\n",
    "print(f\"Dish contain salt  = {salt}\")\n",
    "print(f\" hence dish was prepared good   = {dish}\")"
   ]
  },
  {
   "cell_type": "code",
   "execution_count": 14,
   "id": "eb7774ac",
   "metadata": {},
   "outputs": [
    {
     "name": "stdout",
     "output_type": "stream",
     "text": [
      "Dish contain vegitable  = True\n",
      "Dish contain salt  = True\n",
      " hence dish was prepared good   = True\n"
     ]
    }
   ],
   "source": [
    "vegitables = True \n",
    "salt = True\n",
    "dish = vegitables and salt\n",
    "print(f\"Dish contain vegitable  = {vegitables}\")\n",
    "print(f\"Dish contain salt  = {salt}\")\n",
    "print(f\" hence dish was prepared good   = {dish}\")"
   ]
  },
  {
   "cell_type": "code",
   "execution_count": 15,
   "id": "e4e0aef3",
   "metadata": {},
   "outputs": [],
   "source": [
    "#Example of or operator"
   ]
  },
  {
   "cell_type": "code",
   "execution_count": 16,
   "id": "24c2b3cb",
   "metadata": {},
   "outputs": [
    {
     "name": "stdout",
     "output_type": "stream",
     "text": [
      " you have a bike True\n",
      " you have a car  False\n",
      " You can trevel 100 km  True\n"
     ]
    }
   ],
   "source": [
    "bike = True\n",
    "car= False\n",
    "\n",
    "travel_100_KM = bike or car\n",
    "\n",
    "print(f\" you have a bike {bike}\")\n",
    "print(f\" you have a car  {car}\")\n",
    "print(f\" You can trevel 100 km  {travel_100_KM}\")"
   ]
  },
  {
   "cell_type": "code",
   "execution_count": 17,
   "id": "fe66f142",
   "metadata": {},
   "outputs": [
    {
     "name": "stdout",
     "output_type": "stream",
     "text": [
      " you have a bike True\n",
      " you have a car  True\n",
      " You can trevel 100 km  True\n"
     ]
    }
   ],
   "source": [
    "bike = True\n",
    "car= True\n",
    "\n",
    "travel_100_KM = bike or car\n",
    "\n",
    "print(f\" you have a bike {bike}\")\n",
    "print(f\" you have a car  {car}\")\n",
    "print(f\" You can trevel 100 km  {travel_100_KM}\")"
   ]
  },
  {
   "cell_type": "code",
   "execution_count": 18,
   "id": "92974784",
   "metadata": {},
   "outputs": [
    {
     "name": "stdout",
     "output_type": "stream",
     "text": [
      " you have a bike False\n",
      " you have a car  False\n",
      " You can trevel 100 km  False\n"
     ]
    }
   ],
   "source": [
    "bike = False\n",
    "car= False\n",
    "\n",
    "travel_100_KM = bike or car\n",
    "\n",
    "print(f\" you have a bike {bike}\")\n",
    "print(f\" you have a car  {car}\")\n",
    "print(f\" You can trevel 100 km  {travel_100_KM}\")"
   ]
  },
  {
   "cell_type": "code",
   "execution_count": 19,
   "id": "d6d8a424",
   "metadata": {},
   "outputs": [
    {
     "name": "stdout",
     "output_type": "stream",
     "text": [
      " you have a bike False\n",
      " you have a car  True\n",
      " You can trevel 100 km  True\n"
     ]
    }
   ],
   "source": [
    "bike = False\n",
    "car= True\n",
    "\n",
    "travel_100_KM = bike or car\n",
    "\n",
    "print(f\" you have a bike {bike}\")\n",
    "print(f\" you have a car  {car}\")\n",
    "print(f\" You can trevel 100 km  {travel_100_KM}\")"
   ]
  },
  {
   "cell_type": "markdown",
   "id": "f9132503",
   "metadata": {},
   "source": [
    "# Equality Operators \n",
    "### 1. is :- it is return true if the element of a and b point same object \n",
    "### 2 is not :-  it is return true is the element point different object \n",
    "### 3 a!=b or not equal to :- it is return true if the element differnt form each other \n"
   ]
  },
  {
   "cell_type": "code",
   "execution_count": 27,
   "id": "bae18203",
   "metadata": {},
   "outputs": [
    {
     "name": "stdout",
     "output_type": "stream",
     "text": [
      "addres of list_1 is 2646043164992\n",
      "addres of list_2 is 2646043032064\n"
     ]
    }
   ],
   "source": [
    "list_1 =['1','2', '3','4' ,'5']\n",
    "list_2 =['1','2', '3','4' ,'5']\n",
    "a= id(list_1)\n",
    "b=id(list_2)\n",
    "print(f\"addres of list_1 is {a}\")\n",
    "print(f\"addres of list_2 is {b}\")\n"
   ]
  },
  {
   "cell_type": "code",
   "execution_count": 28,
   "id": "f640a427",
   "metadata": {},
   "outputs": [
    {
     "data": {
      "text/plain": [
       "False"
      ]
     },
     "execution_count": 28,
     "metadata": {},
     "output_type": "execute_result"
    }
   ],
   "source": [
    "list_1 is list_2"
   ]
  },
  {
   "cell_type": "code",
   "execution_count": 29,
   "id": "3d569760",
   "metadata": {},
   "outputs": [
    {
     "data": {
      "text/plain": [
       "True"
      ]
     },
     "execution_count": 29,
     "metadata": {},
     "output_type": "execute_result"
    }
   ],
   "source": [
    "list_1 == list_2"
   ]
  },
  {
   "cell_type": "code",
   "execution_count": 30,
   "id": "881b872c",
   "metadata": {},
   "outputs": [
    {
     "data": {
      "text/plain": [
       "True"
      ]
     },
     "execution_count": 30,
     "metadata": {},
     "output_type": "execute_result"
    }
   ],
   "source": [
    "list_1 is not list_2"
   ]
  },
  {
   "cell_type": "code",
   "execution_count": 31,
   "id": "d203d5a4",
   "metadata": {},
   "outputs": [
    {
     "data": {
      "text/plain": [
       "False"
      ]
     },
     "execution_count": 31,
     "metadata": {},
     "output_type": "execute_result"
    }
   ],
   "source": [
    "list_1 !=list_2"
   ]
  },
  {
   "cell_type": "code",
   "execution_count": 35,
   "id": "a41c4c49",
   "metadata": {},
   "outputs": [],
   "source": [
    "list_3= list_1"
   ]
  },
  {
   "cell_type": "code",
   "execution_count": 38,
   "id": "e99b7db6",
   "metadata": {},
   "outputs": [
    {
     "name": "stdout",
     "output_type": "stream",
     "text": [
      "addres of list_1 is 2646043164992\n",
      "addres of list_2 is 2646043164992\n",
      "True\n",
      "False\n",
      "False\n"
     ]
    }
   ],
   "source": [
    "a= id(list_1)\n",
    "b=id(list_3)\n",
    "print(f\"addres of list_1 is {a}\")\n",
    "print(f\"addres of list_2 is {b}\")\n",
    "print(list_3 is  list_1)\n",
    "print(list_3 is not list_1)\n",
    "print(list_3 !=list_1)"
   ]
  },
  {
   "cell_type": "markdown",
   "id": "74309945",
   "metadata": {},
   "source": [
    "# Comparison Operators"
   ]
  },
  {
   "cell_type": "code",
   "execution_count": 39,
   "id": "19ecad0b",
   "metadata": {},
   "outputs": [],
   "source": [
    "# (<,>, <= ,>=< ==)"
   ]
  },
  {
   "cell_type": "code",
   "execution_count": 40,
   "id": "5a4125c6",
   "metadata": {},
   "outputs": [
    {
     "name": "stdout",
     "output_type": "stream",
     "text": [
      "True\n",
      "False\n",
      "True\n",
      "False\n",
      "False\n",
      "True\n",
      "False\n",
      "True\n"
     ]
    }
   ],
   "source": [
    "age_of_shivank = 21\n",
    "age_of_tanya = 18\n",
    "age_of_satendra = 21\n",
    "\n",
    "print(age_of_shivank > age_of_tanya)\n",
    "print(age_of_shivank < age_of_tanya)\n",
    "print(age_of_shivank >= age_of_tanya)\n",
    "print(age_of_shivank <= age_of_tanya)\n",
    "print(age_of_shivank > age_of_satendra)\n",
    "print(age_of_shivank >= age_of_satendra)\n",
    "print(age_of_shivank < age_of_satendra)\n",
    "print(age_of_shivank <= age_of_satendra)"
   ]
  },
  {
   "cell_type": "code",
   "execution_count": 41,
   "id": "ae94bd5f",
   "metadata": {},
   "outputs": [
    {
     "name": "stdout",
     "output_type": "stream",
     "text": [
      "speed of bike is greater than speed of car : False\n"
     ]
    }
   ],
   "source": [
    "speed_of_bike = 150\n",
    "speed_of_car =200\n",
    "\n",
    "print(f\"speed of bike is greater than speed of car : {speed_of_bike > speed_of_car}\")"
   ]
  },
  {
   "cell_type": "code",
   "execution_count": 42,
   "id": "6ca580a2",
   "metadata": {},
   "outputs": [
    {
     "name": "stdout",
     "output_type": "stream",
     "text": [
      "speed of bike is lower than speed of car : True\n"
     ]
    }
   ],
   "source": [
    "speed_of_bike = 150\n",
    "speed_of_car =200\n",
    "\n",
    "print(f\"speed of bike is lower than speed of car : {speed_of_bike < speed_of_car}\")"
   ]
  },
  {
   "cell_type": "code",
   "execution_count": 45,
   "id": "bbf56517",
   "metadata": {},
   "outputs": [
    {
     "name": "stdout",
     "output_type": "stream",
     "text": [
      "mark of tanya is greater than princy :False\n",
      "mark of tanya is lower than princy :True\n",
      "mark of tanya is greater than muskan :True\n",
      "mark of tanya is greater and equal to the mark of teesha :True\n"
     ]
    }
   ],
   "source": [
    "marks_of_tanya =8.0\n",
    "marks_of_princy =8.5\n",
    "marks_of_muskan =7.0\n",
    "marks_of_teesha =8.0\n",
    "\n",
    "print(f\"mark of tanya is greater than princy :{marks_of_tanya >marks_of_princy}\")\n",
    "print(f\"mark of tanya is lower than princy :{marks_of_tanya <marks_of_princy}\")\n",
    "print(f\"mark of tanya is greater than muskan :{marks_of_tanya >marks_of_muskan}\")\n",
    "print(f\"mark of tanya is greater and equal to the mark of teesha :{marks_of_tanya >=marks_of_teesha}\")\n"
   ]
  },
  {
   "cell_type": "markdown",
   "id": "29ebaa4b",
   "metadata": {},
   "source": [
    "# Arthmatic operators\n",
    "\n",
    "### (+,-,*,%,/,//)\n",
    "#### +:- addition\n",
    "#### -:- substract\n",
    "#### *:- multiply\n",
    "#### /:- dividsion\n",
    "#### //:- integer division\n",
    "#### %:- moduls give reminder"
   ]
  },
  {
   "cell_type": "code",
   "execution_count": 48,
   "id": "9100a051",
   "metadata": {},
   "outputs": [
    {
     "name": "stdout",
     "output_type": "stream",
     "text": [
      "the sum of var_1 and var_2 is : 29\n"
     ]
    }
   ],
   "source": [
    "var_1= 25\n",
    "var_2= 4\n",
    "print(f\"the sum of var_1 and var_2 is : {var_1 + var_2}\")"
   ]
  },
  {
   "cell_type": "code",
   "execution_count": 49,
   "id": "12a3af51",
   "metadata": {},
   "outputs": [
    {
     "name": "stdout",
     "output_type": "stream",
     "text": [
      "the subrtact of var_1 and var_2 is : 21\n"
     ]
    }
   ],
   "source": [
    "var_1= 25\n",
    "var_2= 4\n",
    "print(f\"the subrtact of var_1 and var_2 is : {var_1 - var_2}\")"
   ]
  },
  {
   "cell_type": "code",
   "execution_count": 50,
   "id": "137e210b",
   "metadata": {},
   "outputs": [
    {
     "name": "stdout",
     "output_type": "stream",
     "text": [
      "the product of var_1 and var_2 is : 100\n"
     ]
    }
   ],
   "source": [
    "var_1= 25\n",
    "var_2= 4\n",
    "print(f\"the product of var_1 and var_2 is : {var_1 * var_2}\")"
   ]
  },
  {
   "cell_type": "code",
   "execution_count": 51,
   "id": "b04017ed",
   "metadata": {},
   "outputs": [
    {
     "name": "stdout",
     "output_type": "stream",
     "text": [
      "the remender of var_1 and var_2 is : 1\n"
     ]
    }
   ],
   "source": [
    "var_1= 25\n",
    "var_2= 4\n",
    "print(f\"the remender of var_1 and var_2 is : {var_1 % var_2}\")"
   ]
  },
  {
   "cell_type": "code",
   "execution_count": 52,
   "id": "03fa6db0",
   "metadata": {},
   "outputs": [
    {
     "name": "stdout",
     "output_type": "stream",
     "text": [
      "the division of var_1 and var_2 is : 6.25\n"
     ]
    }
   ],
   "source": [
    "var_1= 25\n",
    "var_2= 4\n",
    "print(f\"the division of var_1 and var_2 is : {var_1 / var_2}\")"
   ]
  },
  {
   "cell_type": "code",
   "execution_count": 53,
   "id": "82c67818",
   "metadata": {},
   "outputs": [
    {
     "name": "stdout",
     "output_type": "stream",
     "text": [
      "the integer division of of var_1 and var_2 is : 6\n"
     ]
    }
   ],
   "source": [
    "var_1= 25\n",
    "var_2= 4\n",
    "print(f\"the integer division of of var_1 and var_2 is : {var_1 // var_2}\")"
   ]
  },
  {
   "cell_type": "markdown",
   "id": "c79d5ae6",
   "metadata": {},
   "source": [
    "# Bitwise operation"
   ]
  },
  {
   "cell_type": "code",
   "execution_count": 58,
   "id": "8fe849a7",
   "metadata": {},
   "outputs": [
    {
     "data": {
      "text/plain": [
       "'0b1010'"
      ]
     },
     "execution_count": 58,
     "metadata": {},
     "output_type": "execute_result"
    }
   ],
   "source": [
    "var_a=10\n",
    "var_b=4\n",
    "bin(var_a)\n"
   ]
  },
  {
   "cell_type": "code",
   "execution_count": 59,
   "id": "6c129fd3",
   "metadata": {},
   "outputs": [
    {
     "data": {
      "text/plain": [
       "'0b100'"
      ]
     },
     "execution_count": 59,
     "metadata": {},
     "output_type": "execute_result"
    }
   ],
   "source": [
    "bin(var_b)"
   ]
  },
  {
   "cell_type": "code",
   "execution_count": 61,
   "id": "c2fe4ae0",
   "metadata": {},
   "outputs": [],
   "source": [
    "bitwise_and = var_a&var_b"
   ]
  },
  {
   "cell_type": "code",
   "execution_count": 62,
   "id": "40712c75",
   "metadata": {},
   "outputs": [
    {
     "name": "stdout",
     "output_type": "stream",
     "text": [
      "0\n"
     ]
    }
   ],
   "source": [
    "print(bitwise_and)"
   ]
  },
  {
   "cell_type": "code",
   "execution_count": 63,
   "id": "69156db6",
   "metadata": {},
   "outputs": [],
   "source": [
    "binary_bitwise_and = bin(var_a&var_b)"
   ]
  },
  {
   "cell_type": "code",
   "execution_count": 64,
   "id": "91cb88b4",
   "metadata": {},
   "outputs": [
    {
     "name": "stdout",
     "output_type": "stream",
     "text": [
      "0b0\n"
     ]
    }
   ],
   "source": [
    "print(binary_bitwise_and)"
   ]
  },
  {
   "cell_type": "code",
   "execution_count": 65,
   "id": "1dd2dfc3",
   "metadata": {},
   "outputs": [
    {
     "data": {
      "text/plain": [
       "0"
      ]
     },
     "execution_count": 65,
     "metadata": {},
     "output_type": "execute_result"
    }
   ],
   "source": [
    "var_a>>var_b"
   ]
  },
  {
   "cell_type": "code",
   "execution_count": 66,
   "id": "732b2869",
   "metadata": {},
   "outputs": [
    {
     "data": {
      "text/plain": [
       "160"
      ]
     },
     "execution_count": 66,
     "metadata": {},
     "output_type": "execute_result"
    }
   ],
   "source": [
    "var_a<<var_b"
   ]
  },
  {
   "cell_type": "code",
   "execution_count": null,
   "id": "066c13ec",
   "metadata": {},
   "outputs": [],
   "source": []
  }
 ],
 "metadata": {
  "kernelspec": {
   "display_name": "Python 3 (ipykernel)",
   "language": "python",
   "name": "python3"
  },
  "language_info": {
   "codemirror_mode": {
    "name": "ipython",
    "version": 3
   },
   "file_extension": ".py",
   "mimetype": "text/x-python",
   "name": "python",
   "nbconvert_exporter": "python",
   "pygments_lexer": "ipython3",
   "version": "3.10.9"
  }
 },
 "nbformat": 4,
 "nbformat_minor": 5
}
