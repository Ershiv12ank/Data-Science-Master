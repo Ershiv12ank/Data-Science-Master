{
 "cells": [
  {
   "cell_type": "code",
   "execution_count": 1,
   "id": "07b0936d",
   "metadata": {},
   "outputs": [],
   "source": [
    "import numpy as np"
   ]
  },
  {
   "cell_type": "code",
   "execution_count": 2,
   "id": "11a298ba",
   "metadata": {},
   "outputs": [],
   "source": [
    "arr=np.random.randint(1,10,(3,4))"
   ]
  },
  {
   "cell_type": "code",
   "execution_count": 3,
   "id": "e0423b44",
   "metadata": {},
   "outputs": [
    {
     "data": {
      "text/plain": [
       "array([[6, 2, 9],\n",
       "       [2, 8, 1],\n",
       "       [4, 5, 9],\n",
       "       [3, 1, 9]])"
      ]
     },
     "execution_count": 3,
     "metadata": {},
     "output_type": "execute_result"
    }
   ],
   "source": [
    "# .T for transpose function to transpose the the whole array ment column convert into row and row convert into column \\\n",
    "arr.T"
   ]
  },
  {
   "cell_type": "code",
   "execution_count": 4,
   "id": "49c704fc",
   "metadata": {},
   "outputs": [],
   "source": [
    "# flatten:- it is used to convert array of one diemention\n",
    "a=arr.flatten()"
   ]
  },
  {
   "cell_type": "code",
   "execution_count": 5,
   "id": "96bbfaf4",
   "metadata": {},
   "outputs": [
    {
     "data": {
      "text/plain": [
       "array([6, 2, 4, 3, 2, 8, 5, 1, 9, 1, 9, 9])"
      ]
     },
     "execution_count": 5,
     "metadata": {},
     "output_type": "execute_result"
    }
   ],
   "source": [
    "a"
   ]
  },
  {
   "cell_type": "code",
   "execution_count": 6,
   "id": "bdd27f92",
   "metadata": {},
   "outputs": [
    {
     "data": {
      "text/plain": [
       "numpy.ndarray"
      ]
     },
     "execution_count": 6,
     "metadata": {},
     "output_type": "execute_result"
    }
   ],
   "source": [
    "type(a)"
   ]
  },
  {
   "cell_type": "code",
   "execution_count": 7,
   "id": "99626764",
   "metadata": {},
   "outputs": [
    {
     "data": {
      "text/plain": [
       "12"
      ]
     },
     "execution_count": 7,
     "metadata": {},
     "output_type": "execute_result"
    }
   ],
   "source": [
    "len(a)"
   ]
  },
  {
   "cell_type": "code",
   "execution_count": 8,
   "id": "53594f28",
   "metadata": {},
   "outputs": [
    {
     "data": {
      "text/plain": [
       "array([[[6, 2, 4, 3]],\n",
       "\n",
       "       [[2, 8, 5, 1]],\n",
       "\n",
       "       [[9, 1, 9, 9]]])"
      ]
     },
     "execution_count": 8,
     "metadata": {},
     "output_type": "execute_result"
    }
   ],
   "source": [
    "# expand_dims:- it is used to expand the diemention of the array if we take axis = 1 then it expanded by the column and axis =0 then expanded by the row\n",
    "np.expand_dims(arr ,axis=1)"
   ]
  },
  {
   "cell_type": "code",
   "execution_count": 9,
   "id": "10ea267e",
   "metadata": {},
   "outputs": [
    {
     "data": {
      "text/plain": [
       "array([[[6, 2, 4, 3],\n",
       "        [2, 8, 5, 1],\n",
       "        [9, 1, 9, 9]]])"
      ]
     },
     "execution_count": 9,
     "metadata": {},
     "output_type": "execute_result"
    }
   ],
   "source": [
    "np.expand_dims(arr ,axis=0)"
   ]
  },
  {
   "cell_type": "code",
   "execution_count": 12,
   "id": "b185bffa",
   "metadata": {},
   "outputs": [
    {
     "data": {
      "text/plain": [
       "array([1, 2, 3])"
      ]
     },
     "execution_count": 12,
     "metadata": {},
     "output_type": "execute_result"
    }
   ],
   "source": [
    "## squeeze is conver two d array to one d array\n",
    "data=np.array(([1],[2],[3]))\n",
    "np.squeeze(data)"
   ]
  },
  {
   "cell_type": "code",
   "execution_count": 14,
   "id": "77524826",
   "metadata": {},
   "outputs": [
    {
     "data": {
      "text/plain": [
       "array([1, 1, 1, 2, 2, 2, 3, 3, 3])"
      ]
     },
     "execution_count": 14,
     "metadata": {},
     "output_type": "execute_result"
    }
   ],
   "source": [
    "# repet function is used to repeat the element \n",
    "np.repeat(data ,3)"
   ]
  },
  {
   "cell_type": "code",
   "execution_count": 18,
   "id": "5e56c161",
   "metadata": {},
   "outputs": [
    {
     "data": {
      "text/plain": [
       "array([[1],\n",
       "       [2],\n",
       "       [3]])"
      ]
     },
     "execution_count": 18,
     "metadata": {},
     "output_type": "execute_result"
    }
   ],
   "source": [
    "# roll function is used to rool the element \n",
    "np.roll(data ,3)"
   ]
  },
  {
   "cell_type": "code",
   "execution_count": 21,
   "id": "ac646d40",
   "metadata": {},
   "outputs": [],
   "source": [
    "arr4=np.array([1,2,3,4])"
   ]
  },
  {
   "cell_type": "code",
   "execution_count": 24,
   "id": "8338aa8c",
   "metadata": {},
   "outputs": [
    {
     "data": {
      "text/plain": [
       "array([[1, 0, 0, 0],\n",
       "       [0, 2, 0, 0],\n",
       "       [0, 0, 3, 0],\n",
       "       [0, 0, 0, 4]])"
      ]
     },
     "execution_count": 24,
     "metadata": {},
     "output_type": "execute_result"
    }
   ],
   "source": [
    "# digonal function is used to represent the element of a list diognaly\n",
    "np.diag(arr4)"
   ]
  },
  {
   "cell_type": "code",
   "execution_count": 25,
   "id": "385e24c5",
   "metadata": {},
   "outputs": [],
   "source": [
    "# binary operation \n",
    "array1=np.random.randint(1,9,(4,5))"
   ]
  },
  {
   "cell_type": "code",
   "execution_count": 26,
   "id": "101bb0b3",
   "metadata": {},
   "outputs": [],
   "source": [
    "array2=np.random.randint(1,9,(4,5))"
   ]
  },
  {
   "cell_type": "code",
   "execution_count": 27,
   "id": "0b222ae1",
   "metadata": {},
   "outputs": [
    {
     "data": {
      "text/plain": [
       "array([[ 7, 10,  5,  9, 10],\n",
       "       [ 9,  7,  7, 10, 11],\n",
       "       [10, 11, 11,  3, 10],\n",
       "       [ 9,  8, 13,  7,  4]])"
      ]
     },
     "execution_count": 27,
     "metadata": {},
     "output_type": "execute_result"
    }
   ],
   "source": [
    "array1+array2"
   ]
  },
  {
   "cell_type": "code",
   "execution_count": 28,
   "id": "f141b569",
   "metadata": {},
   "outputs": [
    {
     "data": {
      "text/plain": [
       "array([[ 5, -2, -3,  3,  6],\n",
       "       [ 1,  1, -1, -6, -3],\n",
       "       [ 2,  5, -5,  1, -2],\n",
       "       [ 7,  0,  1, -1,  0]])"
      ]
     },
     "execution_count": 28,
     "metadata": {},
     "output_type": "execute_result"
    }
   ],
   "source": [
    "array1-array2"
   ]
  },
  {
   "cell_type": "code",
   "execution_count": 29,
   "id": "25f59ace",
   "metadata": {},
   "outputs": [
    {
     "data": {
      "text/plain": [
       "array([[ 6, 24,  4, 18, 16],\n",
       "       [20, 12, 12, 16, 28],\n",
       "       [24, 24, 24,  2, 24],\n",
       "       [ 8, 16, 42, 12,  4]])"
      ]
     },
     "execution_count": 29,
     "metadata": {},
     "output_type": "execute_result"
    }
   ],
   "source": [
    "array1*array2"
   ]
  },
  {
   "cell_type": "code",
   "execution_count": 30,
   "id": "bef3eb80",
   "metadata": {},
   "outputs": [
    {
     "data": {
      "text/plain": [
       "array([[6.        , 0.66666667, 0.25      , 2.        , 4.        ],\n",
       "       [1.25      , 1.33333333, 0.75      , 0.25      , 0.57142857],\n",
       "       [1.5       , 2.66666667, 0.375     , 2.        , 0.66666667],\n",
       "       [8.        , 1.        , 1.16666667, 0.75      , 1.        ]])"
      ]
     },
     "execution_count": 30,
     "metadata": {},
     "output_type": "execute_result"
    }
   ],
   "source": [
    "array1/array2"
   ]
  },
  {
   "cell_type": "code",
   "execution_count": 31,
   "id": "e069b7b4",
   "metadata": {},
   "outputs": [
    {
     "data": {
      "text/plain": [
       "array([[0, 4, 1, 0, 0],\n",
       "       [1, 1, 3, 2, 4],\n",
       "       [2, 2, 3, 0, 4],\n",
       "       [0, 0, 1, 3, 0]])"
      ]
     },
     "execution_count": 31,
     "metadata": {},
     "output_type": "execute_result"
    }
   ],
   "source": [
    "array1%array2"
   ]
  },
  {
   "cell_type": "code",
   "execution_count": 32,
   "id": "b946dee0",
   "metadata": {},
   "outputs": [
    {
     "data": {
      "text/plain": [
       "array([[-7, -5, -2, -7, -9],\n",
       "       [-6, -5, -4, -3, -5],\n",
       "       [-7, -9, -4, -3, -5],\n",
       "       [-9, -5, -8, -4, -3]])"
      ]
     },
     "execution_count": 32,
     "metadata": {},
     "output_type": "execute_result"
    }
   ],
   "source": [
    "~array1"
   ]
  },
  {
   "cell_type": "code",
   "execution_count": 33,
   "id": "d884bf7b",
   "metadata": {},
   "outputs": [],
   "source": [
    "# operation in string arrays\n",
    "array3=np.array([\"shivank\",\"pandey\"])"
   ]
  },
  {
   "cell_type": "code",
   "execution_count": 34,
   "id": "677b673f",
   "metadata": {},
   "outputs": [
    {
     "data": {
      "text/plain": [
       "array(['shivank', 'pandey'], dtype='<U7')"
      ]
     },
     "execution_count": 34,
     "metadata": {},
     "output_type": "execute_result"
    }
   ],
   "source": [
    "array3"
   ]
  },
  {
   "cell_type": "code",
   "execution_count": 35,
   "id": "bccb1301",
   "metadata": {},
   "outputs": [
    {
     "data": {
      "text/plain": [
       "array(['Shivank', 'Pandey'], dtype='<U7')"
      ]
     },
     "execution_count": 35,
     "metadata": {},
     "output_type": "execute_result"
    }
   ],
   "source": [
    "np.char.capitalize(array3)"
   ]
  },
  {
   "cell_type": "code",
   "execution_count": 36,
   "id": "7256f5b0",
   "metadata": {},
   "outputs": [
    {
     "data": {
      "text/plain": [
       "array(['Shivank', 'Pandey'], dtype='<U7')"
      ]
     },
     "execution_count": 36,
     "metadata": {},
     "output_type": "execute_result"
    }
   ],
   "source": [
    "np.char.title(array3)"
   ]
  },
  {
   "cell_type": "code",
   "execution_count": 37,
   "id": "cb7a8601",
   "metadata": {},
   "outputs": [
    {
     "data": {
      "text/plain": [
       "array(['SHIVANK', 'PANDEY'], dtype='<U7')"
      ]
     },
     "execution_count": 37,
     "metadata": {},
     "output_type": "execute_result"
    }
   ],
   "source": [
    "np.char.upper(array3)"
   ]
  },
  {
   "cell_type": "code",
   "execution_count": 38,
   "id": "af4b48e9",
   "metadata": {},
   "outputs": [
    {
     "data": {
      "text/plain": [
       "array(['shivank', 'pandey'], dtype='<U7')"
      ]
     },
     "execution_count": 38,
     "metadata": {},
     "output_type": "execute_result"
    }
   ],
   "source": [
    "np.char.lower(array3)"
   ]
  },
  {
   "cell_type": "code",
   "execution_count": 40,
   "id": "3df12b10",
   "metadata": {},
   "outputs": [
    {
     "data": {
      "text/plain": [
       "array([[6, 4, 1, 6, 8],\n",
       "       [5, 4, 3, 2, 4],\n",
       "       [6, 8, 3, 2, 4],\n",
       "       [8, 4, 7, 3, 2]])"
      ]
     },
     "execution_count": 40,
     "metadata": {},
     "output_type": "execute_result"
    }
   ],
   "source": [
    "# mathmatic function\n",
    "array1"
   ]
  },
  {
   "cell_type": "code",
   "execution_count": 42,
   "id": "88083815",
   "metadata": {},
   "outputs": [
    {
     "data": {
      "text/plain": [
       "array([[-0.2794155 , -0.7568025 ,  0.84147098, -0.2794155 ,  0.98935825],\n",
       "       [-0.95892427, -0.7568025 ,  0.14112001,  0.90929743, -0.7568025 ],\n",
       "       [-0.2794155 ,  0.98935825,  0.14112001,  0.90929743, -0.7568025 ],\n",
       "       [ 0.98935825, -0.7568025 ,  0.6569866 ,  0.14112001,  0.90929743]])"
      ]
     },
     "execution_count": 42,
     "metadata": {},
     "output_type": "execute_result"
    }
   ],
   "source": [
    "\n",
    "np.sin(array1)"
   ]
  },
  {
   "cell_type": "code",
   "execution_count": 43,
   "id": "44e4a11f",
   "metadata": {},
   "outputs": [
    {
     "data": {
      "text/plain": [
       "array([[ 0.96017029, -0.65364362,  0.54030231,  0.96017029, -0.14550003],\n",
       "       [ 0.28366219, -0.65364362, -0.9899925 , -0.41614684, -0.65364362],\n",
       "       [ 0.96017029, -0.14550003, -0.9899925 , -0.41614684, -0.65364362],\n",
       "       [-0.14550003, -0.65364362,  0.75390225, -0.9899925 , -0.41614684]])"
      ]
     },
     "execution_count": 43,
     "metadata": {},
     "output_type": "execute_result"
    }
   ],
   "source": [
    "np.cos(array1)"
   ]
  },
  {
   "cell_type": "code",
   "execution_count": 44,
   "id": "6ff7056b",
   "metadata": {},
   "outputs": [
    {
     "data": {
      "text/plain": [
       "array([[-0.29100619,  1.15782128,  1.55740772, -0.29100619, -6.79971146],\n",
       "       [-3.38051501,  1.15782128, -0.14254654, -2.18503986,  1.15782128],\n",
       "       [-0.29100619, -6.79971146, -0.14254654, -2.18503986,  1.15782128],\n",
       "       [-6.79971146,  1.15782128,  0.87144798, -0.14254654, -2.18503986]])"
      ]
     },
     "execution_count": 44,
     "metadata": {},
     "output_type": "execute_result"
    }
   ],
   "source": [
    "np.tan(array1)"
   ]
  },
  {
   "cell_type": "code",
   "execution_count": 45,
   "id": "269cedf0",
   "metadata": {},
   "outputs": [
    {
     "data": {
      "text/plain": [
       "90"
      ]
     },
     "execution_count": 45,
     "metadata": {},
     "output_type": "execute_result"
    }
   ],
   "source": [
    "np.sum(array1)"
   ]
  },
  {
   "cell_type": "code",
   "execution_count": 46,
   "id": "97ddafa3",
   "metadata": {},
   "outputs": [
    {
     "data": {
      "text/plain": [
       "4.5"
      ]
     },
     "execution_count": 46,
     "metadata": {},
     "output_type": "execute_result"
    }
   ],
   "source": [
    "np.mean(array1)"
   ]
  },
  {
   "cell_type": "code",
   "execution_count": 47,
   "id": "965f83c8",
   "metadata": {},
   "outputs": [
    {
     "data": {
      "text/plain": [
       "4.0"
      ]
     },
     "execution_count": 47,
     "metadata": {},
     "output_type": "execute_result"
    }
   ],
   "source": [
    "np.median(array1)"
   ]
  },
  {
   "cell_type": "code",
   "execution_count": 50,
   "id": "fcd805a0",
   "metadata": {},
   "outputs": [
    {
     "data": {
      "text/plain": [
       "array([[ 5, -2, -3,  3,  6],\n",
       "       [ 1,  1, -1, -6, -3],\n",
       "       [ 2,  5, -5,  1, -2],\n",
       "       [ 7,  0,  1, -1,  0]])"
      ]
     },
     "execution_count": 50,
     "metadata": {},
     "output_type": "execute_result"
    }
   ],
   "source": [
    "np.subtract(array1,array2)"
   ]
  },
  {
   "cell_type": "code",
   "execution_count": 52,
   "id": "6c8d33a2",
   "metadata": {},
   "outputs": [
    {
     "data": {
      "text/plain": [
       "1"
      ]
     },
     "execution_count": 52,
     "metadata": {},
     "output_type": "execute_result"
    }
   ],
   "source": [
    "np.min(array1)"
   ]
  },
  {
   "cell_type": "code",
   "execution_count": 53,
   "id": "7e9a0f59",
   "metadata": {},
   "outputs": [
    {
     "data": {
      "text/plain": [
       "8"
      ]
     },
     "execution_count": 53,
     "metadata": {},
     "output_type": "execute_result"
    }
   ],
   "source": [
    "np.max(array1)"
   ]
  },
  {
   "cell_type": "code",
   "execution_count": 54,
   "id": "4b147554",
   "metadata": {},
   "outputs": [
    {
     "data": {
      "text/plain": [
       "4.45"
      ]
     },
     "execution_count": 54,
     "metadata": {},
     "output_type": "execute_result"
    }
   ],
   "source": [
    "np.var(array1)"
   ]
  },
  {
   "cell_type": "code",
   "execution_count": null,
   "id": "1ba47582",
   "metadata": {},
   "outputs": [],
   "source": []
  }
 ],
 "metadata": {
  "kernelspec": {
   "display_name": "Python 3 (ipykernel)",
   "language": "python",
   "name": "python3"
  },
  "language_info": {
   "codemirror_mode": {
    "name": "ipython",
    "version": 3
   },
   "file_extension": ".py",
   "mimetype": "text/x-python",
   "name": "python",
   "nbconvert_exporter": "python",
   "pygments_lexer": "ipython3",
   "version": "3.10.6"
  }
 },
 "nbformat": 4,
 "nbformat_minor": 5
}
