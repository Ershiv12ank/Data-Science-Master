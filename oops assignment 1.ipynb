{
 "cells": [
  {
   "cell_type": "markdown",
   "id": "48179804",
   "metadata": {},
   "source": [
    "### Q1. Explain Class and Object with respect to Object-Oriented Programming. Give a suitable example."
   ]
  },
  {
   "cell_type": "markdown",
   "id": "2c9ecacc",
   "metadata": {},
   "source": [
    "### In object-oriented programming (OOP), a class is a blueprint or a template that defines the structure and behavior of objects. It encapsulates data and methods (functions) that operate on that data. A class provides a way to create objects, which are instances of that class. Objects represent specific instances of the class and can have their own unique state and behavior."
   ]
  },
  {
   "cell_type": "code",
   "execution_count": 1,
   "id": "ba41bc92",
   "metadata": {},
   "outputs": [
    {
     "name": "stdout",
     "output_type": "stream",
     "text": [
      "Toyota\n",
      "2022\n",
      "The Toyota Camry has been started.\n",
      "The Honda Accord is not running. Start the engine first.\n",
      "The Toyota Camry has been stopped.\n"
     ]
    }
   ],
   "source": [
    "class Car:\n",
    "    def __init__(self, make, model, year):\n",
    "        self.make = make\n",
    "        self.model = model\n",
    "        self.year = year\n",
    "        self.is_running = False\n",
    "    \n",
    "    def start(self):\n",
    "        self.is_running = True\n",
    "        print(f\"The {self.make} {self.model} has been started.\")\n",
    "\n",
    "    def stop(self):\n",
    "        self.is_running = False\n",
    "        print(f\"The {self.make} {self.model} has been stopped.\")\n",
    "\n",
    "    def drive(self, distance):\n",
    "        if self.is_running:\n",
    "            print(f\"The {self.make} {self.model} is driving {distance} miles.\")\n",
    "        else:\n",
    "            print(f\"The {self.make} {self.model} is not running. Start the engine first.\")\n",
    "\n",
    "# Creating objects (instances) of the Car class\n",
    "car1 = Car(\"Toyota\", \"Camry\", 2021)\n",
    "car2 = Car(\"Honda\", \"Accord\", 2022)\n",
    "\n",
    "# Accessing object attributes\n",
    "print(car1.make)  # Output: Toyota\n",
    "print(car2.year)  # Output: 2022\n",
    "\n",
    "# Calling object methods\n",
    "car1.start()  # Output: The Toyota Camry has been started.\n",
    "car2.drive(50)  # Output: The Honda Accord is not running. Start the engine first.\n",
    "car1.stop()  # Output: The Toyota Camry has been stopped.\n"
   ]
  },
  {
   "cell_type": "markdown",
   "id": "4a9314a5",
   "metadata": {},
   "source": [
    "### Q2. Name the four pillars of OOPs."
   ]
  },
  {
   "cell_type": "markdown",
   "id": "12f6c630",
   "metadata": {},
   "source": [
    "### The four pillars of object-oriented programming (OOP) are:\n",
    "\n",
    "1. Encapsulation: Encapsulation is the process of bundling data (attributes) and methods (functions) together within a class. It allows the class to control access to its internal data and ensures that the data is accessed and modified only through defined methods. Encapsulation helps achieve data hiding, abstraction, and security.\n",
    "\n",
    "2. Inheritance: Inheritance is a mechanism that allows a class to inherit properties and behaviors from a parent class, also known as a base class or superclass. The derived class, also called a child class or subclass, inherits all the attributes and methods of the parent class. Inheritance promotes code reuse, extensibility, and the creation of hierarchical relationships among classes.\n",
    "\n",
    "3. Polymorphism: Polymorphism means having many forms. It allows objects of different classes to be treated as objects of a common superclass. Polymorphism enables a single interface or method to be used to represent different types of objects. It allows flexibility and abstraction, making code more generic and adaptable to different data types or objects.\n",
    "\n",
    "4. Abstraction: Abstraction refers to the process of simplifying complex systems by representing essential features while hiding unnecessary details. It allows the creation of abstract classes or interfaces that define common behavior without specifying implementation details. Abstraction focuses on what an object does rather than how it does it. It helps manage complexity, improves code maintainability, and supports modular design.\n",
    "\n",
    "These four pillars are fundamental concepts in OOP and provide the foundation for building modular, reusable, and maintainable software systems. They contribute to the key principles of OOP, such as code reusability, extensibility, and separation of concerns."
   ]
  },
  {
   "cell_type": "markdown",
   "id": "8f2541a6",
   "metadata": {},
   "source": [
    "### Q3. Explain why the __init__() function is used. Give a suitable example."
   ]
  },
  {
   "cell_type": "markdown",
   "id": "7b0f335e",
   "metadata": {},
   "source": [
    "### onstructor. It is automatically called when an object is created from a class. The purpose of the __init__() method is to initialize the attributes of an object by assigning initial values to them.\n",
    "\n",
    "### Here's an example to illustrate the use of the __init__() function:"
   ]
  },
  {
   "cell_type": "code",
   "execution_count": 2,
   "id": "eb8f0209",
   "metadata": {},
   "outputs": [
    {
     "name": "stdout",
     "output_type": "stream",
     "text": [
      "Alice\n",
      "30\n",
      "My name is Alice and I am 25 years old.\n",
      "My name is Bob and I am 30 years old.\n"
     ]
    }
   ],
   "source": [
    "class Person:\n",
    "    def __init__(self, name, age):\n",
    "        self.name = name\n",
    "        self.age = age\n",
    "\n",
    "    def introduce(self):\n",
    "        print(f\"My name is {self.name} and I am {self.age} years old.\")\n",
    "\n",
    "# Creating objects (instances) of the Person class\n",
    "person1 = Person(\"Alice\", 25)\n",
    "person2 = Person(\"Bob\", 30)\n",
    "\n",
    "# Accessing object attributes\n",
    "print(person1.name)  # Output: Alice\n",
    "print(person2.age)   # Output: 30\n",
    "\n",
    "# Calling object methods\n",
    "person1.introduce()  # Output: My name is Alice and I am 25 years old.\n",
    "person2.introduce()  # Output: My name is Bob and I am 30 years old.\n"
   ]
  },
  {
   "cell_type": "markdown",
   "id": "a0a4c59d",
   "metadata": {},
   "source": [
    "### Q4. Why self is used in OOPs?"
   ]
  },
  {
   "cell_type": "markdown",
   "id": "36fa2de6",
   "metadata": {},
   "source": [
    "### self is a conventionally used parameter name that refers to the instance of a class"
   ]
  },
  {
   "cell_type": "markdown",
   "id": "05caf814",
   "metadata": {},
   "source": [
    "## Q5. What is inheritance? Give an example for each type of inheritance."
   ]
  },
  {
   "cell_type": "markdown",
   "id": "36131538",
   "metadata": {},
   "source": [
    "### Inheritance is a fundamental concept in object-oriented programming (OOP) that allows a class to inherit attributes and behaviors from another class. The class that inherits is called the derived class, subclass, or child class, while the class being inherited from is called the base class, superclass, or parent class. Inheritance promotes code reuse, modularity, and the creation of hierarchical relationships among classes.\n",
    "\n",
    "There are different types of inheritance, each serving a specific purpose:"
   ]
  },
  {
   "cell_type": "markdown",
   "id": "f25bbff7",
   "metadata": {},
   "source": [
    "# Single inheritance:\n",
    "Single inheritance occurs when a class inherits from a single base class. It allows the derived class to inherit the attributes and methods of the base class. Here's an example:"
   ]
  },
  {
   "cell_type": "code",
   "execution_count": 4,
   "id": "b8c9f01f",
   "metadata": {},
   "outputs": [
    {
     "name": "stdout",
     "output_type": "stream",
     "text": [
      "The animal is eating.\n",
      "The dog is barking.\n"
     ]
    }
   ],
   "source": [
    "class Animal:\n",
    "    def eat(self):\n",
    "        print(\"The animal is eating.\")\n",
    "\n",
    "class Dog(Animal):\n",
    "    def bark(self):\n",
    "        print(\"The dog is barking.\")\n",
    "\n",
    "dog = Dog()\n",
    "dog.eat()  # Output: The animal is eating.\n",
    "dog.bark()  # Output: The dog is barking.\n"
   ]
  },
  {
   "cell_type": "markdown",
   "id": "38adbe23",
   "metadata": {},
   "source": [
    "# Multiple inheritance:\n",
    "Multiple inheritance occurs when a class inherits from multiple base classes. It allows the derived class to inherit attributes and methods from multiple parent classes. Here's an "
   ]
  },
  {
   "cell_type": "code",
   "execution_count": 5,
   "id": "cbe2b588",
   "metadata": {},
   "outputs": [
    {
     "name": "stdout",
     "output_type": "stream",
     "text": [
      "The creature is flying.\n",
      "The creature is swimming.\n"
     ]
    }
   ],
   "source": [
    "class Flying:\n",
    "    def fly(self):\n",
    "        print(\"The creature is flying.\")\n",
    "\n",
    "class Swimming:\n",
    "    def swim(self):\n",
    "        print(\"The creature is swimming.\")\n",
    "\n",
    "class Bird(Flying, Swimming):\n",
    "    pass\n",
    "\n",
    "bird = Bird()\n",
    "bird.fly()  # Output: The creature is flying.\n",
    "bird.swim()  # Output: The creature is swimming.\n"
   ]
  },
  {
   "cell_type": "markdown",
   "id": "9bb64d29",
   "metadata": {},
   "source": [
    "# Multilevel inheritance:\n",
    "Multilevel inheritance occurs when a class inherits from a derived class, making a chain of inheritance. Here's an example:"
   ]
  },
  {
   "cell_type": "code",
   "execution_count": 7,
   "id": "b33ae6c1",
   "metadata": {},
   "outputs": [
    {
     "name": "stdout",
     "output_type": "stream",
     "text": [
      "The vehicle has started.\n",
      "The car is being driven.\n",
      "The sports car is racing.\n"
     ]
    }
   ],
   "source": [
    "class Vehicle:\n",
    "    def start(self):\n",
    "        print(\"The vehicle has started.\")\n",
    "\n",
    "class Car(Vehicle):\n",
    "    def drive(self):\n",
    "        print(\"The car is being driven.\")\n",
    "\n",
    "class SportsCar(Car):\n",
    "    def race(self):\n",
    "        print(\"The sports car is racing.\")\n",
    "\n",
    "sports_car = SportsCar()\n",
    "sports_car.start()  # Output: The vehicle has started.\n",
    "sports_car.drive()  # Output: The car is being driven.\n",
    "sports_car.race()  # Output: The sports car is racing.\n"
   ]
  },
  {
   "cell_type": "markdown",
   "id": "a6cf18a3",
   "metadata": {},
   "source": [
    "# Hierarchical inheritance:\n",
    "Hierarchical inheritance occurs when multiple derived classes inherit from a single base class. Here's an example:"
   ]
  },
  {
   "cell_type": "code",
   "execution_count": 8,
   "id": "59180c42",
   "metadata": {},
   "outputs": [
    {
     "name": "stdout",
     "output_type": "stream",
     "text": [
      "The animal is eating.\n"
     ]
    },
    {
     "data": {
      "text/plain": [
       "<__main__.Cat at 0x7f3118c871f0>"
      ]
     },
     "execution_count": 8,
     "metadata": {},
     "output_type": "execute_result"
    }
   ],
   "source": [
    "class Animal:\n",
    "    def eat(self):\n",
    "        print(\"The animal is eating.\")\n",
    "\n",
    "class Cat(Animal):\n",
    "    def meow(self):\n",
    "        print(\"The cat is meowing.\")\n",
    "\n",
    "class Dog(Animal):\n",
    "    def bark(self):\n",
    "        print(\"The dog is barking.\")\n",
    "\n",
    "cat = Cat()\n",
    "cat.eat()  # Output: The animal is eating.\n",
    "cat\n"
   ]
  },
  {
   "cell_type": "code",
   "execution_count": null,
   "id": "5231ec31",
   "metadata": {},
   "outputs": [],
   "source": []
  }
 ],
 "metadata": {
  "kernelspec": {
   "display_name": "Python 3 (ipykernel)",
   "language": "python",
   "name": "python3"
  },
  "language_info": {
   "codemirror_mode": {
    "name": "ipython",
    "version": 3
   },
   "file_extension": ".py",
   "mimetype": "text/x-python",
   "name": "python",
   "nbconvert_exporter": "python",
   "pygments_lexer": "ipython3",
   "version": "3.10.6"
  }
 },
 "nbformat": 4,
 "nbformat_minor": 5
}
