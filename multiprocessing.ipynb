{
 "cells": [
  {
   "cell_type": "code",
   "execution_count": 1,
   "id": "929918c6",
   "metadata": {},
   "outputs": [],
   "source": [
    "def test():\n",
    "    print(\"this is a multiproccessing program\")"
   ]
  },
  {
   "cell_type": "code",
   "execution_count": 2,
   "id": "fcdeeb67",
   "metadata": {},
   "outputs": [
    {
     "name": "stdout",
     "output_type": "stream",
     "text": [
      "this is a multiproccessing program\n"
     ]
    }
   ],
   "source": [
    "test()"
   ]
  },
  {
   "cell_type": "code",
   "execution_count": 16,
   "id": "0e6289f9",
   "metadata": {},
   "outputs": [],
   "source": [
    "import multiprocessing"
   ]
  },
  {
   "cell_type": "code",
   "execution_count": 22,
   "id": "441b59ba",
   "metadata": {},
   "outputs": [
    {
     "name": "stdout",
     "output_type": "stream",
     "text": [
      "this is a main \n",
      "this is a multiproccessing program\n"
     ]
    }
   ],
   "source": [
    "def test():\n",
    "    print(\"this is a multiproccessing program\")\n",
    "\n",
    "\n",
    "\n",
    "if __name__ == \"__main__\":\n",
    "    m = multiprocessing.Process(target=test)\n",
    "    print(\"this is a main \")\n",
    "    m.start()\n",
    "    m.join()"
   ]
  },
  {
   "cell_type": "code",
   "execution_count": 33,
   "id": "625dabc9",
   "metadata": {},
   "outputs": [
    {
     "name": "stdout",
     "output_type": "stream",
     "text": [
      "[1, 4, 9, 16, 25, 36, 49, 64, 81]\n"
     ]
    }
   ],
   "source": [
    "def square(n):\n",
    "    return n**2\n",
    "\n",
    "if __name__ == \"__main__\":\n",
    "    with multiprocessing.Pool(processes=5) as pool:\n",
    "        out= pool.map(square , [1,2,3,4,5,6,7,8,9])\n",
    "    print(out)"
   ]
  },
  {
   "cell_type": "code",
   "execution_count": null,
   "id": "05c29cbe",
   "metadata": {},
   "outputs": [
    {
     "name": "stdout",
     "output_type": "stream",
     "text": [
      "shivank\n",
      "pandey\n",
      "here\n",
      "where\n",
      "abc\n"
     ]
    }
   ],
   "source": [
    "import multiprocessing\n",
    "    \n",
    "def produce(q):\n",
    "    for i in ['shivank','pandey','here','where']:\n",
    "        \n",
    "        q.put(i)\n",
    "def consume(q):\n",
    "    while True:\n",
    "        item=q.get()\n",
    "        if item is None: \n",
    "            break\n",
    "        print(item)\n",
    "if __name__ == \"__main__\":\n",
    "    ques =multiprocessing.Queue()\n",
    "    m1= multiprocessing.Process(target=produce, args= (ques,))\n",
    "    m2=multiprocessing.Process(target=consume, args= (ques,))\n",
    "    m1.start()\n",
    "    m2.start()\n",
    "    ques.put(\"abc\")\n",
    "    m1.join()\n",
    "    m2.join()"
   ]
  },
  {
   "cell_type": "code",
   "execution_count": null,
   "id": "222f5fe5",
   "metadata": {},
   "outputs": [],
   "source": []
  }
 ],
 "metadata": {
  "kernelspec": {
   "display_name": "Python 3 (ipykernel)",
   "language": "python",
   "name": "python3"
  },
  "language_info": {
   "codemirror_mode": {
    "name": "ipython",
    "version": 3
   },
   "file_extension": ".py",
   "mimetype": "text/x-python",
   "name": "python",
   "nbconvert_exporter": "python",
   "pygments_lexer": "ipython3",
   "version": "3.10.6"
  }
 },
 "nbformat": 4,
 "nbformat_minor": 5
}
