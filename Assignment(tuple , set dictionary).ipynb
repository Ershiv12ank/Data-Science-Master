{
 "cells": [
  {
   "cell_type": "markdown",
   "id": "a95b3128",
   "metadata": {},
   "source": [
    "# Q1. What are the characteristics of the tuples? Is tuple immutable?"
   ]
  },
  {
   "cell_type": "markdown",
   "id": "e3dc3645",
   "metadata": {},
   "source": [
    " They are indexed\n",
    " Tuples are ordered\n",
    " These are immutable\n",
    " They can contain duplicate items\n",
    " \n",
    " yes tuple is immutable "
   ]
  },
  {
   "cell_type": "markdown",
   "id": "3c17da9a",
   "metadata": {},
   "source": [
    "# Q2. What are the two tuple methods in python? Give an example of each method. Give a reason why tuples have only two in-built methods as compared to Lists."
   ]
  },
  {
   "cell_type": "code",
   "execution_count": 8,
   "id": "e802c0ef",
   "metadata": {},
   "outputs": [
    {
     "data": {
      "text/plain": [
       "(1, 2, 33, 3, 4, 3, 3)"
      ]
     },
     "execution_count": 8,
     "metadata": {},
     "output_type": "execute_result"
    }
   ],
   "source": [
    "# there are two method in tuple \n",
    "# 1. count()\n",
    "# 2. index()\n",
    "\n",
    "tuple=(1,2,33,3,4,3,3)\n",
    "tuple"
   ]
  },
  {
   "cell_type": "code",
   "execution_count": 11,
   "id": "c138c80b",
   "metadata": {},
   "outputs": [
    {
     "data": {
      "text/plain": [
       "3"
      ]
     },
     "execution_count": 11,
     "metadata": {},
     "output_type": "execute_result"
    }
   ],
   "source": [
    "tuple.index(3)"
   ]
  },
  {
   "cell_type": "code",
   "execution_count": 12,
   "id": "1caf3260",
   "metadata": {},
   "outputs": [
    {
     "data": {
      "text/plain": [
       "3"
      ]
     },
     "execution_count": 12,
     "metadata": {},
     "output_type": "execute_result"
    }
   ],
   "source": [
    "tuple.count(3)"
   ]
  },
  {
   "cell_type": "code",
   "execution_count": null,
   "id": "017601f7",
   "metadata": {},
   "outputs": [],
   "source": [
    "# tuple is immutable thai is the main resion tuple haveing two methods\n",
    "# while list is an mutable that's why we perform many operation on it"
   ]
  },
  {
   "cell_type": "markdown",
   "id": "a73051da",
   "metadata": {},
   "source": [
    "# Q3. Which collection datatypes in python do not allow duplicate items? Write a code using a set to remove duplicates from the given list.\n",
    "## List = [1, 1, 1, 2, 1, 3, 1, 4, 2, 1, 2, 2, 2, 3, 2, 4, 3, 1, 3, 2, 3, 3, 3, 4, 4, 1, 4, 2, 4, 3, 4, 4]"
   ]
  },
  {
   "cell_type": "code",
   "execution_count": null,
   "id": "77a44fb1",
   "metadata": {},
   "outputs": [],
   "source": [
    "# in set data types remove the duplicate items\n",
    "# for example:-"
   ]
  },
  {
   "cell_type": "code",
   "execution_count": 1,
   "id": "2652d9f6",
   "metadata": {},
   "outputs": [],
   "source": [
    "List = [1, 1, 1, 2, 1, 3, 1, 4, 2, 1, 2, 2, 2, 3, 2, 4, 3, 1, 3, 2, 3, 3, 3, 4, 4, 1, 4, 2, 4, 3, 4, 4]"
   ]
  },
  {
   "cell_type": "code",
   "execution_count": 2,
   "id": "6df545d2",
   "metadata": {},
   "outputs": [
    {
     "data": {
      "text/plain": [
       "{1, 2, 3, 4}"
      ]
     },
     "execution_count": 2,
     "metadata": {},
     "output_type": "execute_result"
    }
   ],
   "source": [
    "set(List)"
   ]
  },
  {
   "cell_type": "markdown",
   "id": "9000ffe1",
   "metadata": {},
   "source": [
    "# Q4. Explain the difference between the union() and update() methods for a set. Give an example of each method."
   ]
  },
  {
   "cell_type": "code",
   "execution_count": null,
   "id": "8f966f59",
   "metadata": {},
   "outputs": [],
   "source": [
    " # update () adds all missing elements to the set on which it is called whereas union () creates a new set.\n",
    "   # for example:-"
   ]
  },
  {
   "cell_type": "code",
   "execution_count": 3,
   "id": "605ecb89",
   "metadata": {},
   "outputs": [
    {
     "data": {
      "text/plain": [
       "{1, 2, 3, 4, 6, 7, 12, 56}"
      ]
     },
     "execution_count": 3,
     "metadata": {},
     "output_type": "execute_result"
    }
   ],
   "source": [
    "set ={1,2,3,4,6,7,12,3,56,12}\n",
    "set"
   ]
  },
  {
   "cell_type": "code",
   "execution_count": 12,
   "id": "65e58522",
   "metadata": {},
   "outputs": [],
   "source": [
    "set2={\"shivank\",\"pandey\"}"
   ]
  },
  {
   "cell_type": "code",
   "execution_count": 26,
   "id": "703d44fd",
   "metadata": {},
   "outputs": [
    {
     "data": {
      "text/plain": [
       "{1, 12, 2, 3, 4, 56, 6, 7, 'pandey', 'shivank'}"
      ]
     },
     "execution_count": 26,
     "metadata": {},
     "output_type": "execute_result"
    }
   ],
   "source": [
    "a = set.union()\n",
    "a"
   ]
  },
  {
   "cell_type": "code",
   "execution_count": null,
   "id": "ea8fa688",
   "metadata": {},
   "outputs": [],
   "source": []
  },
  {
   "cell_type": "code",
   "execution_count": 20,
   "id": "b50a1c1a",
   "metadata": {},
   "outputs": [],
   "source": [
    "set.update(set2)\n"
   ]
  },
  {
   "cell_type": "code",
   "execution_count": 21,
   "id": "e8170fef",
   "metadata": {},
   "outputs": [
    {
     "data": {
      "text/plain": [
       "{1, 12, 2, 3, 4, 56, 6, 7, 'pandey', 'shivank'}"
      ]
     },
     "execution_count": 21,
     "metadata": {},
     "output_type": "execute_result"
    }
   ],
   "source": [
    "set"
   ]
  },
  {
   "cell_type": "code",
   "execution_count": null,
   "id": "d176169c",
   "metadata": {},
   "outputs": [],
   "source": []
  },
  {
   "cell_type": "markdown",
   "id": "23be0e70",
   "metadata": {},
   "source": [
    "# Q5. What is a dictionary? Give an example. Also, state whether a dictionary is ordered or unordered."
   ]
  },
  {
   "cell_type": "code",
   "execution_count": 27,
   "id": "cff13a7d",
   "metadata": {},
   "outputs": [
    {
     "data": {
      "text/plain": [
       "{'Name': 'shivank pandey', 'roll number': 230}"
      ]
     },
     "execution_count": 27,
     "metadata": {},
     "output_type": "execute_result"
    }
   ],
   "source": [
    "# Dictionary is a data type which store elements in the form of key value pair where key is uniquely identifing it is enclosed with {}\n",
    "# for example:- \n",
    "dic={\"Name\":\"shivank pandey\", \"roll number\":230}\n",
    "dic"
   ]
  },
  {
   "cell_type": "code",
   "execution_count": null,
   "id": "ef4d661a",
   "metadata": {},
   "outputs": [],
   "source": [
    "# dictionay is a collection of unorderd data .\n",
    "#Ordered Dictionary preserves the order in which the keys are inserted. \n",
    "#Ordered Dictionary does not  preserves the order in which the keys are inserted. "
   ]
  },
  {
   "cell_type": "markdown",
   "id": "78d88291",
   "metadata": {},
   "source": [
    "# Q6. Can we create a nested dictionary? If so, please give an example by creating a simple one-level nested dictionary."
   ]
  },
  {
   "cell_type": "code",
   "execution_count": 32,
   "id": "1797a497",
   "metadata": {},
   "outputs": [
    {
     "data": {
      "text/plain": [
       "{'key1': 12, 'key2': {'Name': 'shivank pandey', 'roll number': 230}}"
      ]
     },
     "execution_count": 32,
     "metadata": {},
     "output_type": "execute_result"
    }
   ],
   "source": [
    "# yes we create a nested dictionary\n",
    "# for example:-\n",
    "dict={'key1':12,'key2':{\"Name\":\"shivank pandey\", \"roll number\":230}}\n",
    "dict"
   ]
  },
  {
   "cell_type": "markdown",
   "id": "423be3ed",
   "metadata": {},
   "source": [
    "# Q7. Using setdefault() method, create key named topics in the given dictionary and also add the value of the key as this list ['Python', 'Machine Learning’, 'Deep Learning']\n",
    "## dict1 = {'language' : 'Python', 'course': 'Data Science Masters'}"
   ]
  },
  {
   "cell_type": "code",
   "execution_count": 36,
   "id": "8c51c489",
   "metadata": {},
   "outputs": [],
   "source": [
    "dict1 = {}"
   ]
  },
  {
   "cell_type": "code",
   "execution_count": 37,
   "id": "3d2e6bfb",
   "metadata": {},
   "outputs": [
    {
     "data": {
      "text/plain": [
       "'Python'"
      ]
     },
     "execution_count": 37,
     "metadata": {},
     "output_type": "execute_result"
    }
   ],
   "source": [
    "dict1.setdefault('language','Python')\n"
   ]
  },
  {
   "cell_type": "code",
   "execution_count": 38,
   "id": "f40803c5",
   "metadata": {},
   "outputs": [
    {
     "data": {
      "text/plain": [
       "{'language': 'Python'}"
      ]
     },
     "execution_count": 38,
     "metadata": {},
     "output_type": "execute_result"
    }
   ],
   "source": [
    "dict1"
   ]
  },
  {
   "cell_type": "code",
   "execution_count": 39,
   "id": "c137f760",
   "metadata": {},
   "outputs": [
    {
     "data": {
      "text/plain": [
       "'Data Science Masters'"
      ]
     },
     "execution_count": 39,
     "metadata": {},
     "output_type": "execute_result"
    }
   ],
   "source": [
    "dict1.setdefault('course','Data Science Masters')"
   ]
  },
  {
   "cell_type": "code",
   "execution_count": 40,
   "id": "89040293",
   "metadata": {},
   "outputs": [
    {
     "data": {
      "text/plain": [
       "{'language': 'Python', 'course': 'Data Science Masters'}"
      ]
     },
     "execution_count": 40,
     "metadata": {},
     "output_type": "execute_result"
    }
   ],
   "source": [
    "dict1"
   ]
  },
  {
   "cell_type": "code",
   "execution_count": 42,
   "id": "dce59fed",
   "metadata": {},
   "outputs": [],
   "source": [
    "dict1.setdefault('Python',)"
   ]
  },
  {
   "cell_type": "code",
   "execution_count": 43,
   "id": "1862dcba",
   "metadata": {},
   "outputs": [],
   "source": [
    "dict1.setdefault('Machine Learning',)"
   ]
  },
  {
   "cell_type": "code",
   "execution_count": 45,
   "id": "9ad2d4a9",
   "metadata": {},
   "outputs": [],
   "source": [
    "dict1.setdefault('Deep Learning',)"
   ]
  },
  {
   "cell_type": "code",
   "execution_count": 46,
   "id": "ba3fea99",
   "metadata": {},
   "outputs": [
    {
     "data": {
      "text/plain": [
       "{'language': 'Python',\n",
       " 'course': 'Data Science Masters',\n",
       " 'Machine Learning': None,\n",
       " 'Python': None,\n",
       " 'Deep Learning': None}"
      ]
     },
     "execution_count": 46,
     "metadata": {},
     "output_type": "execute_result"
    }
   ],
   "source": [
    "dict1"
   ]
  },
  {
   "cell_type": "markdown",
   "id": "e0987136",
   "metadata": {},
   "source": [
    "# Q8. What are the three view objects in dictionaries? Use the three in-built methods in python to display these three view objects for the given dictionary.\n",
    "## dict1 = {'Sport': 'Cricket' , 'Teams': ['India', 'Australia', 'England', 'South Africa', 'Sri Lanka', 'New Zealand']}"
   ]
  },
  {
   "cell_type": "code",
   "execution_count": 47,
   "id": "96736666",
   "metadata": {},
   "outputs": [],
   "source": [
    "# There are three views of a dicionary \n",
    "# 1. keys\n",
    "# 2. values \n",
    "# 3. items\n"
   ]
  },
  {
   "cell_type": "code",
   "execution_count": 48,
   "id": "1bf4ba22",
   "metadata": {},
   "outputs": [],
   "source": [
    "# Method to display these three views"
   ]
  },
  {
   "cell_type": "code",
   "execution_count": 49,
   "id": "85dbdc2e",
   "metadata": {},
   "outputs": [],
   "source": [
    "dict1 = {'Sport': 'Cricket' , 'Teams': ['India', 'Australia', 'England', 'South Africa', 'Sri Lanka', 'New Zealand']}"
   ]
  },
  {
   "cell_type": "code",
   "execution_count": 51,
   "id": "cf1021f5",
   "metadata": {},
   "outputs": [],
   "source": [
    "a=dict1.keys()"
   ]
  },
  {
   "cell_type": "code",
   "execution_count": 52,
   "id": "d7a305ff",
   "metadata": {},
   "outputs": [],
   "source": [
    "b=dict1.values()"
   ]
  },
  {
   "cell_type": "code",
   "execution_count": 53,
   "id": "6d48ed62",
   "metadata": {},
   "outputs": [],
   "source": [
    "c=dict1.items()"
   ]
  },
  {
   "cell_type": "code",
   "execution_count": 54,
   "id": "488f9251",
   "metadata": {},
   "outputs": [
    {
     "data": {
      "text/plain": [
       "dict_keys(['Sport', 'Teams'])"
      ]
     },
     "execution_count": 54,
     "metadata": {},
     "output_type": "execute_result"
    }
   ],
   "source": [
    "a"
   ]
  },
  {
   "cell_type": "code",
   "execution_count": 55,
   "id": "ae243b8b",
   "metadata": {},
   "outputs": [
    {
     "data": {
      "text/plain": [
       "dict_values(['Cricket', ['India', 'Australia', 'England', 'South Africa', 'Sri Lanka', 'New Zealand']])"
      ]
     },
     "execution_count": 55,
     "metadata": {},
     "output_type": "execute_result"
    }
   ],
   "source": [
    "b"
   ]
  },
  {
   "cell_type": "code",
   "execution_count": 56,
   "id": "cb67b0d3",
   "metadata": {},
   "outputs": [
    {
     "data": {
      "text/plain": [
       "dict_items([('Sport', 'Cricket'), ('Teams', ['India', 'Australia', 'England', 'South Africa', 'Sri Lanka', 'New Zealand'])])"
      ]
     },
     "execution_count": 56,
     "metadata": {},
     "output_type": "execute_result"
    }
   ],
   "source": [
    "c"
   ]
  }
 ],
 "metadata": {
  "kernelspec": {
   "display_name": "Python 3 (ipykernel)",
   "language": "python",
   "name": "python3"
  },
  "language_info": {
   "codemirror_mode": {
    "name": "ipython",
    "version": 3
   },
   "file_extension": ".py",
   "mimetype": "text/x-python",
   "name": "python",
   "nbconvert_exporter": "python",
   "pygments_lexer": "ipython3",
   "version": "3.10.9"
  }
 },
 "nbformat": 4,
 "nbformat_minor": 5
}
